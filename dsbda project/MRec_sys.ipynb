{
 "cells": [
  {
   "cell_type": "code",
   "execution_count": 1,
   "metadata": {},
   "outputs": [],
   "source": [
    "#import important  libraries\n",
    "import pandas as pd \n",
    "import numpy as np\n",
    "import matplotlib.pyplot as plt\n",
    "%matplotlib inline"
   ]
  },
  {
   "cell_type": "code",
   "execution_count": 2,
   "metadata": {},
   "outputs": [],
   "source": [
    "#read data file\n",
    "data = pd.read_csv('movie_metadata.csv')"
   ]
  },
  {
   "cell_type": "code",
   "execution_count": 3,
   "metadata": {},
   "outputs": [
    {
     "data": {
      "text/html": [
       "<div>\n",
       "<style scoped>\n",
       "    .dataframe tbody tr th:only-of-type {\n",
       "        vertical-align: middle;\n",
       "    }\n",
       "\n",
       "    .dataframe tbody tr th {\n",
       "        vertical-align: top;\n",
       "    }\n",
       "\n",
       "    .dataframe thead th {\n",
       "        text-align: right;\n",
       "    }\n",
       "</style>\n",
       "<table border=\"1\" class=\"dataframe\">\n",
       "  <thead>\n",
       "    <tr style=\"text-align: right;\">\n",
       "      <th></th>\n",
       "      <th>color</th>\n",
       "      <th>director_name</th>\n",
       "      <th>num_critic_for_reviews</th>\n",
       "      <th>duration</th>\n",
       "      <th>director_facebook_likes</th>\n",
       "      <th>actor_3_facebook_likes</th>\n",
       "      <th>actor_2_name</th>\n",
       "      <th>actor_1_facebook_likes</th>\n",
       "      <th>gross</th>\n",
       "      <th>genres</th>\n",
       "      <th>...</th>\n",
       "      <th>num_user_for_reviews</th>\n",
       "      <th>language</th>\n",
       "      <th>country</th>\n",
       "      <th>content_rating</th>\n",
       "      <th>budget</th>\n",
       "      <th>title_year</th>\n",
       "      <th>actor_2_facebook_likes</th>\n",
       "      <th>imdb_score</th>\n",
       "      <th>aspect_ratio</th>\n",
       "      <th>movie_facebook_likes</th>\n",
       "    </tr>\n",
       "  </thead>\n",
       "  <tbody>\n",
       "    <tr>\n",
       "      <th>0</th>\n",
       "      <td>Color</td>\n",
       "      <td>James Cameron</td>\n",
       "      <td>723.0</td>\n",
       "      <td>178.0</td>\n",
       "      <td>0.0</td>\n",
       "      <td>855.0</td>\n",
       "      <td>Joel David Moore</td>\n",
       "      <td>1000.0</td>\n",
       "      <td>760505847.0</td>\n",
       "      <td>Action|Adventure|Fantasy|Sci-Fi</td>\n",
       "      <td>...</td>\n",
       "      <td>3054.0</td>\n",
       "      <td>English</td>\n",
       "      <td>USA</td>\n",
       "      <td>PG-13</td>\n",
       "      <td>237000000.0</td>\n",
       "      <td>2009.0</td>\n",
       "      <td>936.0</td>\n",
       "      <td>7.9</td>\n",
       "      <td>1.78</td>\n",
       "      <td>33000</td>\n",
       "    </tr>\n",
       "    <tr>\n",
       "      <th>1</th>\n",
       "      <td>Color</td>\n",
       "      <td>Gore Verbinski</td>\n",
       "      <td>302.0</td>\n",
       "      <td>169.0</td>\n",
       "      <td>563.0</td>\n",
       "      <td>1000.0</td>\n",
       "      <td>Orlando Bloom</td>\n",
       "      <td>40000.0</td>\n",
       "      <td>309404152.0</td>\n",
       "      <td>Action|Adventure|Fantasy</td>\n",
       "      <td>...</td>\n",
       "      <td>1238.0</td>\n",
       "      <td>English</td>\n",
       "      <td>USA</td>\n",
       "      <td>PG-13</td>\n",
       "      <td>300000000.0</td>\n",
       "      <td>2007.0</td>\n",
       "      <td>5000.0</td>\n",
       "      <td>7.1</td>\n",
       "      <td>2.35</td>\n",
       "      <td>0</td>\n",
       "    </tr>\n",
       "    <tr>\n",
       "      <th>2</th>\n",
       "      <td>Color</td>\n",
       "      <td>Sam Mendes</td>\n",
       "      <td>602.0</td>\n",
       "      <td>148.0</td>\n",
       "      <td>0.0</td>\n",
       "      <td>161.0</td>\n",
       "      <td>Rory Kinnear</td>\n",
       "      <td>11000.0</td>\n",
       "      <td>200074175.0</td>\n",
       "      <td>Action|Adventure|Thriller</td>\n",
       "      <td>...</td>\n",
       "      <td>994.0</td>\n",
       "      <td>English</td>\n",
       "      <td>UK</td>\n",
       "      <td>PG-13</td>\n",
       "      <td>245000000.0</td>\n",
       "      <td>2015.0</td>\n",
       "      <td>393.0</td>\n",
       "      <td>6.8</td>\n",
       "      <td>2.35</td>\n",
       "      <td>85000</td>\n",
       "    </tr>\n",
       "  </tbody>\n",
       "</table>\n",
       "<p>3 rows × 28 columns</p>\n",
       "</div>"
      ],
      "text/plain": [
       "   color   director_name  num_critic_for_reviews  duration  \\\n",
       "0  Color   James Cameron                   723.0     178.0   \n",
       "1  Color  Gore Verbinski                   302.0     169.0   \n",
       "2  Color      Sam Mendes                   602.0     148.0   \n",
       "\n",
       "   director_facebook_likes  actor_3_facebook_likes      actor_2_name  \\\n",
       "0                      0.0                   855.0  Joel David Moore   \n",
       "1                    563.0                  1000.0     Orlando Bloom   \n",
       "2                      0.0                   161.0      Rory Kinnear   \n",
       "\n",
       "   actor_1_facebook_likes        gross                           genres  ...  \\\n",
       "0                  1000.0  760505847.0  Action|Adventure|Fantasy|Sci-Fi  ...   \n",
       "1                 40000.0  309404152.0         Action|Adventure|Fantasy  ...   \n",
       "2                 11000.0  200074175.0        Action|Adventure|Thriller  ...   \n",
       "\n",
       "  num_user_for_reviews language  country  content_rating       budget  \\\n",
       "0               3054.0  English      USA           PG-13  237000000.0   \n",
       "1               1238.0  English      USA           PG-13  300000000.0   \n",
       "2                994.0  English       UK           PG-13  245000000.0   \n",
       "\n",
       "   title_year actor_2_facebook_likes imdb_score  aspect_ratio  \\\n",
       "0      2009.0                  936.0        7.9          1.78   \n",
       "1      2007.0                 5000.0        7.1          2.35   \n",
       "2      2015.0                  393.0        6.8          2.35   \n",
       "\n",
       "  movie_facebook_likes  \n",
       "0                33000  \n",
       "1                    0  \n",
       "2                85000  \n",
       "\n",
       "[3 rows x 28 columns]"
      ]
     },
     "execution_count": 3,
     "metadata": {},
     "output_type": "execute_result"
    }
   ],
   "source": [
    "data.head(3)"
   ]
  },
  {
   "cell_type": "code",
   "execution_count": 4,
   "metadata": {},
   "outputs": [
    {
     "data": {
      "text/html": [
       "<div>\n",
       "<style scoped>\n",
       "    .dataframe tbody tr th:only-of-type {\n",
       "        vertical-align: middle;\n",
       "    }\n",
       "\n",
       "    .dataframe tbody tr th {\n",
       "        vertical-align: top;\n",
       "    }\n",
       "\n",
       "    .dataframe thead th {\n",
       "        text-align: right;\n",
       "    }\n",
       "</style>\n",
       "<table border=\"1\" class=\"dataframe\">\n",
       "  <thead>\n",
       "    <tr style=\"text-align: right;\">\n",
       "      <th></th>\n",
       "      <th>color</th>\n",
       "      <th>director_name</th>\n",
       "      <th>num_critic_for_reviews</th>\n",
       "      <th>duration</th>\n",
       "      <th>director_facebook_likes</th>\n",
       "      <th>actor_3_facebook_likes</th>\n",
       "      <th>actor_2_name</th>\n",
       "      <th>actor_1_facebook_likes</th>\n",
       "      <th>gross</th>\n",
       "      <th>genres</th>\n",
       "      <th>...</th>\n",
       "      <th>num_user_for_reviews</th>\n",
       "      <th>language</th>\n",
       "      <th>country</th>\n",
       "      <th>content_rating</th>\n",
       "      <th>budget</th>\n",
       "      <th>title_year</th>\n",
       "      <th>actor_2_facebook_likes</th>\n",
       "      <th>imdb_score</th>\n",
       "      <th>aspect_ratio</th>\n",
       "      <th>movie_facebook_likes</th>\n",
       "    </tr>\n",
       "  </thead>\n",
       "  <tbody>\n",
       "    <tr>\n",
       "      <th>5040</th>\n",
       "      <td>Color</td>\n",
       "      <td>Benjamin Roberds</td>\n",
       "      <td>13.0</td>\n",
       "      <td>76.0</td>\n",
       "      <td>0.0</td>\n",
       "      <td>0.0</td>\n",
       "      <td>Maxwell Moody</td>\n",
       "      <td>0.0</td>\n",
       "      <td>NaN</td>\n",
       "      <td>Drama|Horror|Thriller</td>\n",
       "      <td>...</td>\n",
       "      <td>3.0</td>\n",
       "      <td>English</td>\n",
       "      <td>USA</td>\n",
       "      <td>NaN</td>\n",
       "      <td>1400.0</td>\n",
       "      <td>2013.0</td>\n",
       "      <td>0.0</td>\n",
       "      <td>6.3</td>\n",
       "      <td>NaN</td>\n",
       "      <td>16</td>\n",
       "    </tr>\n",
       "    <tr>\n",
       "      <th>5041</th>\n",
       "      <td>Color</td>\n",
       "      <td>Daniel Hsia</td>\n",
       "      <td>14.0</td>\n",
       "      <td>100.0</td>\n",
       "      <td>0.0</td>\n",
       "      <td>489.0</td>\n",
       "      <td>Daniel Henney</td>\n",
       "      <td>946.0</td>\n",
       "      <td>10443.0</td>\n",
       "      <td>Comedy|Drama|Romance</td>\n",
       "      <td>...</td>\n",
       "      <td>9.0</td>\n",
       "      <td>English</td>\n",
       "      <td>USA</td>\n",
       "      <td>PG-13</td>\n",
       "      <td>NaN</td>\n",
       "      <td>2012.0</td>\n",
       "      <td>719.0</td>\n",
       "      <td>6.3</td>\n",
       "      <td>2.35</td>\n",
       "      <td>660</td>\n",
       "    </tr>\n",
       "    <tr>\n",
       "      <th>5042</th>\n",
       "      <td>Color</td>\n",
       "      <td>Jon Gunn</td>\n",
       "      <td>43.0</td>\n",
       "      <td>90.0</td>\n",
       "      <td>16.0</td>\n",
       "      <td>16.0</td>\n",
       "      <td>Brian Herzlinger</td>\n",
       "      <td>86.0</td>\n",
       "      <td>85222.0</td>\n",
       "      <td>Documentary</td>\n",
       "      <td>...</td>\n",
       "      <td>84.0</td>\n",
       "      <td>English</td>\n",
       "      <td>USA</td>\n",
       "      <td>PG</td>\n",
       "      <td>1100.0</td>\n",
       "      <td>2004.0</td>\n",
       "      <td>23.0</td>\n",
       "      <td>6.6</td>\n",
       "      <td>1.85</td>\n",
       "      <td>456</td>\n",
       "    </tr>\n",
       "  </tbody>\n",
       "</table>\n",
       "<p>3 rows × 28 columns</p>\n",
       "</div>"
      ],
      "text/plain": [
       "      color     director_name  num_critic_for_reviews  duration  \\\n",
       "5040  Color  Benjamin Roberds                    13.0      76.0   \n",
       "5041  Color       Daniel Hsia                    14.0     100.0   \n",
       "5042  Color          Jon Gunn                    43.0      90.0   \n",
       "\n",
       "      director_facebook_likes  actor_3_facebook_likes      actor_2_name  \\\n",
       "5040                      0.0                     0.0     Maxwell Moody   \n",
       "5041                      0.0                   489.0     Daniel Henney   \n",
       "5042                     16.0                    16.0  Brian Herzlinger   \n",
       "\n",
       "      actor_1_facebook_likes    gross                 genres  ...  \\\n",
       "5040                     0.0      NaN  Drama|Horror|Thriller  ...   \n",
       "5041                   946.0  10443.0   Comedy|Drama|Romance  ...   \n",
       "5042                    86.0  85222.0            Documentary  ...   \n",
       "\n",
       "     num_user_for_reviews language  country  content_rating  budget  \\\n",
       "5040                  3.0  English      USA             NaN  1400.0   \n",
       "5041                  9.0  English      USA           PG-13     NaN   \n",
       "5042                 84.0  English      USA              PG  1100.0   \n",
       "\n",
       "      title_year actor_2_facebook_likes imdb_score  aspect_ratio  \\\n",
       "5040      2013.0                    0.0        6.3           NaN   \n",
       "5041      2012.0                  719.0        6.3          2.35   \n",
       "5042      2004.0                   23.0        6.6          1.85   \n",
       "\n",
       "     movie_facebook_likes  \n",
       "5040                   16  \n",
       "5041                  660  \n",
       "5042                  456  \n",
       "\n",
       "[3 rows x 28 columns]"
      ]
     },
     "execution_count": 4,
     "metadata": {},
     "output_type": "execute_result"
    }
   ],
   "source": [
    "data.tail(3)"
   ]
  },
  {
   "cell_type": "code",
   "execution_count": 5,
   "metadata": {},
   "outputs": [
    {
     "data": {
      "text/plain": [
       "(5043, 28)"
      ]
     },
     "execution_count": 5,
     "metadata": {},
     "output_type": "execute_result"
    }
   ],
   "source": [
    "data.shape"
   ]
  },
  {
   "cell_type": "code",
   "execution_count": 6,
   "metadata": {},
   "outputs": [
    {
     "data": {
      "text/html": [
       "<div>\n",
       "<style scoped>\n",
       "    .dataframe tbody tr th:only-of-type {\n",
       "        vertical-align: middle;\n",
       "    }\n",
       "\n",
       "    .dataframe tbody tr th {\n",
       "        vertical-align: top;\n",
       "    }\n",
       "\n",
       "    .dataframe thead th {\n",
       "        text-align: right;\n",
       "    }\n",
       "</style>\n",
       "<table border=\"1\" class=\"dataframe\">\n",
       "  <thead>\n",
       "    <tr style=\"text-align: right;\">\n",
       "      <th></th>\n",
       "      <th>num_critic_for_reviews</th>\n",
       "      <th>duration</th>\n",
       "      <th>director_facebook_likes</th>\n",
       "      <th>actor_3_facebook_likes</th>\n",
       "      <th>actor_1_facebook_likes</th>\n",
       "      <th>gross</th>\n",
       "      <th>num_voted_users</th>\n",
       "      <th>cast_total_facebook_likes</th>\n",
       "      <th>facenumber_in_poster</th>\n",
       "      <th>num_user_for_reviews</th>\n",
       "      <th>budget</th>\n",
       "      <th>title_year</th>\n",
       "      <th>actor_2_facebook_likes</th>\n",
       "      <th>imdb_score</th>\n",
       "      <th>aspect_ratio</th>\n",
       "      <th>movie_facebook_likes</th>\n",
       "    </tr>\n",
       "  </thead>\n",
       "  <tbody>\n",
       "    <tr>\n",
       "      <th>count</th>\n",
       "      <td>4993.000000</td>\n",
       "      <td>5028.000000</td>\n",
       "      <td>4939.000000</td>\n",
       "      <td>5020.000000</td>\n",
       "      <td>5036.000000</td>\n",
       "      <td>4.159000e+03</td>\n",
       "      <td>5.043000e+03</td>\n",
       "      <td>5043.000000</td>\n",
       "      <td>5030.000000</td>\n",
       "      <td>5022.000000</td>\n",
       "      <td>4.551000e+03</td>\n",
       "      <td>4935.000000</td>\n",
       "      <td>5030.000000</td>\n",
       "      <td>5043.000000</td>\n",
       "      <td>4714.000000</td>\n",
       "      <td>5043.000000</td>\n",
       "    </tr>\n",
       "    <tr>\n",
       "      <th>mean</th>\n",
       "      <td>140.194272</td>\n",
       "      <td>107.201074</td>\n",
       "      <td>686.509212</td>\n",
       "      <td>645.009761</td>\n",
       "      <td>6560.047061</td>\n",
       "      <td>4.846841e+07</td>\n",
       "      <td>8.366816e+04</td>\n",
       "      <td>9699.063851</td>\n",
       "      <td>1.371173</td>\n",
       "      <td>272.770808</td>\n",
       "      <td>3.975262e+07</td>\n",
       "      <td>2002.470517</td>\n",
       "      <td>1651.754473</td>\n",
       "      <td>6.442138</td>\n",
       "      <td>2.220403</td>\n",
       "      <td>7525.964505</td>\n",
       "    </tr>\n",
       "    <tr>\n",
       "      <th>std</th>\n",
       "      <td>121.601675</td>\n",
       "      <td>25.197441</td>\n",
       "      <td>2813.328607</td>\n",
       "      <td>1665.041728</td>\n",
       "      <td>15020.759120</td>\n",
       "      <td>6.845299e+07</td>\n",
       "      <td>1.384853e+05</td>\n",
       "      <td>18163.799124</td>\n",
       "      <td>2.013576</td>\n",
       "      <td>377.982886</td>\n",
       "      <td>2.061149e+08</td>\n",
       "      <td>12.474599</td>\n",
       "      <td>4042.438863</td>\n",
       "      <td>1.125116</td>\n",
       "      <td>1.385113</td>\n",
       "      <td>19320.445110</td>\n",
       "    </tr>\n",
       "    <tr>\n",
       "      <th>min</th>\n",
       "      <td>1.000000</td>\n",
       "      <td>7.000000</td>\n",
       "      <td>0.000000</td>\n",
       "      <td>0.000000</td>\n",
       "      <td>0.000000</td>\n",
       "      <td>1.620000e+02</td>\n",
       "      <td>5.000000e+00</td>\n",
       "      <td>0.000000</td>\n",
       "      <td>0.000000</td>\n",
       "      <td>1.000000</td>\n",
       "      <td>2.180000e+02</td>\n",
       "      <td>1916.000000</td>\n",
       "      <td>0.000000</td>\n",
       "      <td>1.600000</td>\n",
       "      <td>1.180000</td>\n",
       "      <td>0.000000</td>\n",
       "    </tr>\n",
       "    <tr>\n",
       "      <th>25%</th>\n",
       "      <td>50.000000</td>\n",
       "      <td>93.000000</td>\n",
       "      <td>7.000000</td>\n",
       "      <td>133.000000</td>\n",
       "      <td>614.000000</td>\n",
       "      <td>5.340988e+06</td>\n",
       "      <td>8.593500e+03</td>\n",
       "      <td>1411.000000</td>\n",
       "      <td>0.000000</td>\n",
       "      <td>65.000000</td>\n",
       "      <td>6.000000e+06</td>\n",
       "      <td>1999.000000</td>\n",
       "      <td>281.000000</td>\n",
       "      <td>5.800000</td>\n",
       "      <td>1.850000</td>\n",
       "      <td>0.000000</td>\n",
       "    </tr>\n",
       "    <tr>\n",
       "      <th>50%</th>\n",
       "      <td>110.000000</td>\n",
       "      <td>103.000000</td>\n",
       "      <td>49.000000</td>\n",
       "      <td>371.500000</td>\n",
       "      <td>988.000000</td>\n",
       "      <td>2.551750e+07</td>\n",
       "      <td>3.435900e+04</td>\n",
       "      <td>3090.000000</td>\n",
       "      <td>1.000000</td>\n",
       "      <td>156.000000</td>\n",
       "      <td>2.000000e+07</td>\n",
       "      <td>2005.000000</td>\n",
       "      <td>595.000000</td>\n",
       "      <td>6.600000</td>\n",
       "      <td>2.350000</td>\n",
       "      <td>166.000000</td>\n",
       "    </tr>\n",
       "    <tr>\n",
       "      <th>75%</th>\n",
       "      <td>195.000000</td>\n",
       "      <td>118.000000</td>\n",
       "      <td>194.500000</td>\n",
       "      <td>636.000000</td>\n",
       "      <td>11000.000000</td>\n",
       "      <td>6.230944e+07</td>\n",
       "      <td>9.630900e+04</td>\n",
       "      <td>13756.500000</td>\n",
       "      <td>2.000000</td>\n",
       "      <td>326.000000</td>\n",
       "      <td>4.500000e+07</td>\n",
       "      <td>2011.000000</td>\n",
       "      <td>918.000000</td>\n",
       "      <td>7.200000</td>\n",
       "      <td>2.350000</td>\n",
       "      <td>3000.000000</td>\n",
       "    </tr>\n",
       "    <tr>\n",
       "      <th>max</th>\n",
       "      <td>813.000000</td>\n",
       "      <td>511.000000</td>\n",
       "      <td>23000.000000</td>\n",
       "      <td>23000.000000</td>\n",
       "      <td>640000.000000</td>\n",
       "      <td>7.605058e+08</td>\n",
       "      <td>1.689764e+06</td>\n",
       "      <td>656730.000000</td>\n",
       "      <td>43.000000</td>\n",
       "      <td>5060.000000</td>\n",
       "      <td>1.221550e+10</td>\n",
       "      <td>2016.000000</td>\n",
       "      <td>137000.000000</td>\n",
       "      <td>9.500000</td>\n",
       "      <td>16.000000</td>\n",
       "      <td>349000.000000</td>\n",
       "    </tr>\n",
       "  </tbody>\n",
       "</table>\n",
       "</div>"
      ],
      "text/plain": [
       "       num_critic_for_reviews     duration  director_facebook_likes  \\\n",
       "count             4993.000000  5028.000000              4939.000000   \n",
       "mean               140.194272   107.201074               686.509212   \n",
       "std                121.601675    25.197441              2813.328607   \n",
       "min                  1.000000     7.000000                 0.000000   \n",
       "25%                 50.000000    93.000000                 7.000000   \n",
       "50%                110.000000   103.000000                49.000000   \n",
       "75%                195.000000   118.000000               194.500000   \n",
       "max                813.000000   511.000000             23000.000000   \n",
       "\n",
       "       actor_3_facebook_likes  actor_1_facebook_likes         gross  \\\n",
       "count             5020.000000             5036.000000  4.159000e+03   \n",
       "mean               645.009761             6560.047061  4.846841e+07   \n",
       "std               1665.041728            15020.759120  6.845299e+07   \n",
       "min                  0.000000                0.000000  1.620000e+02   \n",
       "25%                133.000000              614.000000  5.340988e+06   \n",
       "50%                371.500000              988.000000  2.551750e+07   \n",
       "75%                636.000000            11000.000000  6.230944e+07   \n",
       "max              23000.000000           640000.000000  7.605058e+08   \n",
       "\n",
       "       num_voted_users  cast_total_facebook_likes  facenumber_in_poster  \\\n",
       "count     5.043000e+03                5043.000000           5030.000000   \n",
       "mean      8.366816e+04                9699.063851              1.371173   \n",
       "std       1.384853e+05               18163.799124              2.013576   \n",
       "min       5.000000e+00                   0.000000              0.000000   \n",
       "25%       8.593500e+03                1411.000000              0.000000   \n",
       "50%       3.435900e+04                3090.000000              1.000000   \n",
       "75%       9.630900e+04               13756.500000              2.000000   \n",
       "max       1.689764e+06              656730.000000             43.000000   \n",
       "\n",
       "       num_user_for_reviews        budget   title_year  \\\n",
       "count           5022.000000  4.551000e+03  4935.000000   \n",
       "mean             272.770808  3.975262e+07  2002.470517   \n",
       "std              377.982886  2.061149e+08    12.474599   \n",
       "min                1.000000  2.180000e+02  1916.000000   \n",
       "25%               65.000000  6.000000e+06  1999.000000   \n",
       "50%              156.000000  2.000000e+07  2005.000000   \n",
       "75%              326.000000  4.500000e+07  2011.000000   \n",
       "max             5060.000000  1.221550e+10  2016.000000   \n",
       "\n",
       "       actor_2_facebook_likes   imdb_score  aspect_ratio  movie_facebook_likes  \n",
       "count             5030.000000  5043.000000   4714.000000           5043.000000  \n",
       "mean              1651.754473     6.442138      2.220403           7525.964505  \n",
       "std               4042.438863     1.125116      1.385113          19320.445110  \n",
       "min                  0.000000     1.600000      1.180000              0.000000  \n",
       "25%                281.000000     5.800000      1.850000              0.000000  \n",
       "50%                595.000000     6.600000      2.350000            166.000000  \n",
       "75%                918.000000     7.200000      2.350000           3000.000000  \n",
       "max             137000.000000     9.500000     16.000000         349000.000000  "
      ]
     },
     "execution_count": 6,
     "metadata": {},
     "output_type": "execute_result"
    }
   ],
   "source": [
    "data.describe()"
   ]
  },
  {
   "cell_type": "raw",
   "metadata": {},
   "source": [
    "Some key point from this table\n",
    "Avg movie duration is 107.2 minuts\n",
    "avg imdb is 6.64\n",
    "avg number of users revies is 272"
   ]
  },
  {
   "cell_type": "code",
   "execution_count": 7,
   "metadata": {
    "scrolled": true
   },
   "outputs": [
    {
     "name": "stdout",
     "output_type": "stream",
     "text": [
      "<class 'pandas.core.frame.DataFrame'>\n",
      "RangeIndex: 5043 entries, 0 to 5042\n",
      "Data columns (total 28 columns):\n",
      " #   Column                     Non-Null Count  Dtype  \n",
      "---  ------                     --------------  -----  \n",
      " 0   color                      5024 non-null   object \n",
      " 1   director_name              4939 non-null   object \n",
      " 2   num_critic_for_reviews     4993 non-null   float64\n",
      " 3   duration                   5028 non-null   float64\n",
      " 4   director_facebook_likes    4939 non-null   float64\n",
      " 5   actor_3_facebook_likes     5020 non-null   float64\n",
      " 6   actor_2_name               5030 non-null   object \n",
      " 7   actor_1_facebook_likes     5036 non-null   float64\n",
      " 8   gross                      4159 non-null   float64\n",
      " 9   genres                     5043 non-null   object \n",
      " 10  actor_1_name               5036 non-null   object \n",
      " 11  movie_title                5043 non-null   object \n",
      " 12  num_voted_users            5043 non-null   int64  \n",
      " 13  cast_total_facebook_likes  5043 non-null   int64  \n",
      " 14  actor_3_name               5020 non-null   object \n",
      " 15  facenumber_in_poster       5030 non-null   float64\n",
      " 16  plot_keywords              4890 non-null   object \n",
      " 17  movie_imdb_link            5043 non-null   object \n",
      " 18  num_user_for_reviews       5022 non-null   float64\n",
      " 19  language                   5031 non-null   object \n",
      " 20  country                    5038 non-null   object \n",
      " 21  content_rating             4740 non-null   object \n",
      " 22  budget                     4551 non-null   float64\n",
      " 23  title_year                 4935 non-null   float64\n",
      " 24  actor_2_facebook_likes     5030 non-null   float64\n",
      " 25  imdb_score                 5043 non-null   float64\n",
      " 26  aspect_ratio               4714 non-null   float64\n",
      " 27  movie_facebook_likes       5043 non-null   int64  \n",
      "dtypes: float64(13), int64(3), object(12)\n",
      "memory usage: 1.1+ MB\n"
     ]
    }
   ],
   "source": [
    "data.info()  # check what kind of data are"
   ]
  },
  {
   "cell_type": "raw",
   "metadata": {},
   "source": [
    "so we have int, float , string all type of mixtures."
   ]
  },
  {
   "cell_type": "code",
   "execution_count": 8,
   "metadata": {},
   "outputs": [],
   "source": [
    " # check data has any values null/nan or not\n",
    "    "
   ]
  },
  {
   "cell_type": "code",
   "execution_count": 9,
   "metadata": {},
   "outputs": [
    {
     "data": {
      "text/plain": [
       "True"
      ]
     },
     "execution_count": 9,
     "metadata": {},
     "output_type": "execute_result"
    }
   ],
   "source": [
    "data.isnull().values.any()"
   ]
  },
  {
   "cell_type": "raw",
   "metadata": {},
   "source": [
    "so we have null values also. "
   ]
  },
  {
   "cell_type": "code",
   "execution_count": 10,
   "metadata": {},
   "outputs": [
    {
     "data": {
      "text/plain": [
       "color                         19\n",
       "director_name                104\n",
       "num_critic_for_reviews        50\n",
       "duration                      15\n",
       "director_facebook_likes      104\n",
       "actor_3_facebook_likes        23\n",
       "actor_2_name                  13\n",
       "actor_1_facebook_likes         7\n",
       "gross                        884\n",
       "genres                         0\n",
       "actor_1_name                   7\n",
       "movie_title                    0\n",
       "num_voted_users                0\n",
       "cast_total_facebook_likes      0\n",
       "actor_3_name                  23\n",
       "facenumber_in_poster          13\n",
       "plot_keywords                153\n",
       "movie_imdb_link                0\n",
       "num_user_for_reviews          21\n",
       "language                      12\n",
       "country                        5\n",
       "content_rating               303\n",
       "budget                       492\n",
       "title_year                   108\n",
       "actor_2_facebook_likes        13\n",
       "imdb_score                     0\n",
       "aspect_ratio                 329\n",
       "movie_facebook_likes           0\n",
       "dtype: int64"
      ]
     },
     "execution_count": 10,
     "metadata": {},
     "output_type": "execute_result"
    }
   ],
   "source": [
    "#Check how many values are null in each column\n",
    "data[data.columns[:]].isnull().sum()"
   ]
  },
  {
   "cell_type": "code",
   "execution_count": 11,
   "metadata": {
    "scrolled": true
   },
   "outputs": [
    {
     "data": {
      "text/plain": [
       "['color',\n",
       " 'director_name',\n",
       " 'num_critic_for_reviews',\n",
       " 'duration',\n",
       " 'director_facebook_likes',\n",
       " 'actor_3_facebook_likes',\n",
       " 'actor_2_name',\n",
       " 'actor_1_facebook_likes',\n",
       " 'gross',\n",
       " 'genres',\n",
       " 'actor_1_name',\n",
       " 'movie_title',\n",
       " 'num_voted_users',\n",
       " 'cast_total_facebook_likes',\n",
       " 'actor_3_name',\n",
       " 'facenumber_in_poster',\n",
       " 'plot_keywords',\n",
       " 'movie_imdb_link',\n",
       " 'num_user_for_reviews',\n",
       " 'language',\n",
       " 'country',\n",
       " 'content_rating',\n",
       " 'budget',\n",
       " 'title_year',\n",
       " 'actor_2_facebook_likes',\n",
       " 'imdb_score',\n",
       " 'aspect_ratio',\n",
       " 'movie_facebook_likes']"
      ]
     },
     "execution_count": 11,
     "metadata": {},
     "output_type": "execute_result"
    }
   ],
   "source": [
    "col_name = data.columns.tolist()\n",
    "col_name"
   ]
  },
  {
   "cell_type": "code",
   "execution_count": 12,
   "metadata": {
    "scrolled": true
   },
   "outputs": [
    {
     "data": {
      "text/plain": [
       "747"
      ]
     },
     "execution_count": 12,
     "metadata": {},
     "output_type": "execute_result"
    }
   ],
   "source": [
    "data[data['imdb_score']>7.5].shape[0]"
   ]
  },
  {
   "cell_type": "raw",
   "metadata": {},
   "source": [
    "747 out of 5043 movies are having more than 7.5 imdb rating.\n",
    "Genrally people watch this king of rating movies"
   ]
  },
  {
   "cell_type": "code",
   "execution_count": 13,
   "metadata": {},
   "outputs": [
    {
     "data": {
      "text/plain": [
       "<AxesSubplot:xlabel='imdb_score'>"
      ]
     },
     "execution_count": 13,
     "metadata": {},
     "output_type": "execute_result"
    },
    {
     "data": {
      "image/png": "[encoded data removed]",
      "text/plain": [
       "<Figure size 432x288 with 1 Axes>"
      ]
     },
     "metadata": {
      "needs_background": "light"
     },
     "output_type": "display_data"
    }
   ],
   "source": [
    "data_groupby_gross = data.groupby(['imdb_score'])['gross'].count()\n",
    "data_groupby_gross.plot()"
   ]
  },
  {
   "cell_type": "code",
   "execution_count": 14,
   "metadata": {},
   "outputs": [
    {
     "ename": "NameError",
     "evalue": "name 'pareto_frontier' is not defined",
     "output_type": "error",
     "traceback": [
      "\u001b[0;31m---------------------------------------------------------------------------\u001b[0m",
      "\u001b[0;31mNameError\u001b[0m                                 Traceback (most recent call last)",
      "Input \u001b[0;32mIn [14]\u001b[0m, in \u001b[0;36m<cell line: 6>\u001b[0;34m()\u001b[0m\n\u001b[1;32m      3\u001b[0m score_list \u001b[38;5;241m=\u001b[39m data\u001b[38;5;241m.\u001b[39mimdb_score\u001b[38;5;241m.\u001b[39mtolist()\n\u001b[1;32m      4\u001b[0m num_vot_list \u001b[38;5;241m=\u001b[39m data\u001b[38;5;241m.\u001b[39mnum_voted_users\u001b[38;5;241m.\u001b[39mtolist()\n\u001b[0;32m----> 6\u001b[0m p_front \u001b[38;5;241m=\u001b[39m \u001b[43mpareto_frontier\u001b[49m(score_list, num_vot_list, maxX \u001b[38;5;241m=\u001b[39m \u001b[38;5;28;01mFalse\u001b[39;00m, maxY \u001b[38;5;241m=\u001b[39m \u001b[38;5;28;01mTrue\u001b[39;00m)\n",
      "\u001b[0;31mNameError\u001b[0m: name 'pareto_frontier' is not defined"
     ]
    }
   ],
   "source": [
    "#def pareto_frontier(data[data['imdb_score']], data[data['gross']])\n",
    "\n",
    "score_list = data.imdb_score.tolist()\n",
    "num_vot_list = data.num_voted_users.tolist()\n",
    "\n",
    "p_front = pareto_frontier(score_list, num_vot_list, maxX = False, maxY = True)"
   ]
  },
  {
   "cell_type": "code",
   "execution_count": null,
   "metadata": {},
   "outputs": [],
   "source": []
  },
  {
   "cell_type": "code",
   "execution_count": null,
   "metadata": {},
   "outputs": [],
   "source": [
    "### Core Analysis Visulaized\n"
   ]
  },
  {
   "cell_type": "code",
   "execution_count": null,
   "metadata": {},
   "outputs": [],
   "source": [
    "#Plotting the pareto frontier data to get top tier objects based on imdb score and number of user votes.\n",
    "#Because higher the number of votes, higer is the credibilty of the imdb score\n",
    "#x axis is imdb score and y axis is the number of votes\n",
    "\n",
    "import matplotlib.pyplot as plt   \n",
    "#Xs, Ys = pareto_frontier(score_list, num_vot_list)\n",
    "# Find lowest values for cost and highest for savings\n",
    "p_front = pareto_frontier(score_list, num_vot_list, maxX = False, maxY = True)\n",
    "# Plot a scatter graph of all results\n",
    "plt.scatter(score_list, num_vot_list)\n",
    "# Then plot the Pareto frontier on top\n",
    "plt.plot(p_front[0], p_front[1])"
   ]
  },
  {
   "cell_type": "code",
   "execution_count": null,
   "metadata": {},
   "outputs": [],
   "source": [
    "#We can visualize that the datapoint on the top of the pareto frontier is one \n",
    "#that is most popular based on rating and number of votes.\n",
    "\n",
    "#We can also see that the datapont in the bottom is one that has \n",
    "#most votes but is rated poorly - there is a case to make here that its a movie that more people have watched but disliked\n",
    "#hence, so it is least popular. "
   ]
  },
  {
   "cell_type": "code",
   "execution_count": null,
   "metadata": {},
   "outputs": [],
   "source": [
    "import matplotlib.pyplot as plt   \n",
    "#Xs, Ys = pareto_frontier(score_list, num_vot_list)\n",
    "# Find lowest values for cost and highest for savings\n",
    "p_front = pareto_frontier(num_vot_list, score_list , maxX = True, maxY = True)\n",
    "# Plot a scatter graph of all results\n",
    "#plt.scatter(score_list, num_vot_list)\n",
    "plt.scatter(num_vot_list, score_list)\n",
    "# Then plot the Pareto frontier on top\n",
    "plt.plot(p_front[0], p_front[1])"
   ]
  },
  {
   "cell_type": "code",
   "execution_count": null,
   "metadata": {},
   "outputs": [],
   "source": [
    "p_front[1]"
   ]
  },
  {
   "cell_type": "code",
   "execution_count": null,
   "metadata": {},
   "outputs": [],
   "source": [
    "a = []\n",
    "list1 = []\n",
    "for x, y in zip(p_front[0], p_front[1]):\n",
    "    list1 = x,y\n",
    "    print list1"
   ]
  },
  {
   "cell_type": "code",
   "execution_count": null,
   "metadata": {},
   "outputs": [],
   "source": [
    "plt.plot(list1)"
   ]
  },
  {
   "cell_type": "code",
   "execution_count": null,
   "metadata": {},
   "outputs": [],
   "source": []
  },
  {
   "cell_type": "code",
   "execution_count": null,
   "metadata": {
    "scrolled": true
   },
   "outputs": [],
   "source": [
    "data_groupby_ratings = data.groupby(['imdb_score'])['movie_title'].count()\n",
    "data_groupby_ratings.plot()"
   ]
  },
  {
   "cell_type": "code",
   "execution_count": null,
   "metadata": {},
   "outputs": [],
   "source": []
  },
  {
   "cell_type": "raw",
   "metadata": {},
   "source": [
    "we can see more than 200  movies have rating of around 6.5"
   ]
  },
  {
   "cell_type": "code",
   "execution_count": null,
   "metadata": {},
   "outputs": [],
   "source": [
    "data_groupby_duration = data.groupby(['duration'])['movie_title'].count()\n",
    "data_groupby_duration.plot()"
   ]
  },
  {
   "cell_type": "code",
   "execution_count": null,
   "metadata": {},
   "outputs": [],
   "source": [
    "data[data['duration'] <= 100].shape[0]"
   ]
  },
  {
   "cell_type": "code",
   "execution_count": null,
   "metadata": {},
   "outputs": [],
   "source": [
    "data[data['duration'] >= 180].shape[0]"
   ]
  },
  {
   "cell_type": "raw",
   "metadata": {
    "collapsed": true
   },
   "source": [
    "See 68 movies have time duration more than equal to 3 hr.\n",
    "average movie time duration is 107 min"
   ]
  },
  {
   "cell_type": "code",
   "execution_count": null,
   "metadata": {},
   "outputs": [],
   "source": [
    "data['language'].unique()"
   ]
  },
  {
   "cell_type": "code",
   "execution_count": null,
   "metadata": {},
   "outputs": [],
   "source": [
    "sns.set(style=\"darkgrid\")\n",
    "sns.countplot(x=\"color\", data = data)"
   ]
  },
  {
   "cell_type": "code",
   "execution_count": null,
   "metadata": {},
   "outputs": [],
   "source": [
    "# plot title year vs gross\n",
    "data_groupby_gross = data.groupby(['title_year'])['gross'].count()\n",
    "data_groupby_gross.plot()"
   ]
  },
  {
   "cell_type": "code",
   "execution_count": null,
   "metadata": {},
   "outputs": [],
   "source": [
    "#ploting buget vs title_year\n",
    "data_groupby_gross = data.groupby(['title_year'])['budget'].count()\n",
    "data_groupby_gross.plot()"
   ]
  },
  {
   "cell_type": "code",
   "execution_count": null,
   "metadata": {},
   "outputs": [],
   "source": [
    "data[data['language'] == 'English'].shape[0] # number of english movies"
   ]
  },
  {
   "cell_type": "code",
   "execution_count": null,
   "metadata": {},
   "outputs": [],
   "source": [
    "sns.set(style=\"darkgrid\")\n",
    "plt.figure(figsize = (12, 6))\n",
    "sns.countplot(x=\"language\", data = data)\n",
    "ax = plt.xticks(rotation=90)"
   ]
  },
  {
   "cell_type": "markdown",
   "metadata": {},
   "source": [
    "# top 20 imdb rating movies "
   ]
  },
  {
   "cell_type": "code",
   "execution_count": null,
   "metadata": {},
   "outputs": [],
   "source": [
    "highest_imdb = data.sort('imdb_score', ascending = False)\n",
    "high = highest_imdb.loc[:,['movie_title', 'imdb_score','title_year', 'language', 'country', 'budget', 'director_name', 'duration', 'gross' ]]\n",
    "high.head(20)"
   ]
  },
  {
   "cell_type": "code",
   "execution_count": null,
   "metadata": {},
   "outputs": [],
   "source": [
    "#indian top 5 rated movies\n",
    "hindi = high[high['language']== 'Hindi']\n",
    "hindi.head(5)"
   ]
  },
  {
   "cell_type": "code",
   "execution_count": null,
   "metadata": {},
   "outputs": [],
   "source": [
    "data.corr()"
   ]
  },
  {
   "cell_type": "code",
   "execution_count": null,
   "metadata": {},
   "outputs": [],
   "source": [
    "'''\n",
    "Method to take two equally-sized lists and return just the elements which lie \n",
    "on the Pareto frontier, sorted into order.\n",
    "Default behaviour is to find the maximum for both X and Y, but the option is\n",
    "available to specify maxX = False or maxY = False to find the minimum for either\n",
    "or both of the parameters.\n",
    "'''\n",
    "def pareto_frontier(Xs, Ys, maxX = True, maxY = True):\n",
    "# Sort the list in either ascending or descending order of X\n",
    "    myList = sorted([[Xs[i], Ys[i]] for i in range(len(Xs))], reverse=maxX)\n",
    "# Start the Pareto frontier with the first value in the sorted list\n",
    "    p_front = [myList[0]]    \n",
    "# Loop through the sorted list\n",
    "    for pair in myList[1:]:\n",
    "        if maxY: \n",
    "            if pair[1] >= p_front[-1][1]: # Look for higher values of Y…\n",
    "                p_front.append(pair) # … and add them to the Pareto frontier\n",
    "        else:\n",
    "            if pair[1] <= p_front[-1][1]: # Look for lower values of Y…\n",
    "                p_front.append(pair) # … and add them to the Pareto frontier\n",
    "# Turn resulting pairs back into a list of Xs and Ys\n",
    "    p_frontX = [pair[0] for pair in p_front]\n",
    "    p_frontY = [pair[1] for pair in p_front]\n",
    "    return p_frontX, p_frontY"
   ]
  },
  {
   "cell_type": "code",
   "execution_count": null,
   "metadata": {},
   "outputs": [],
   "source": [
    "help(pareto_frontier)"
   ]
  },
  {
   "cell_type": "code",
   "execution_count": null,
   "metadata": {},
   "outputs": [],
   "source": [
    "data.movie_title\n",
    "\n",
    "\n",
    "#newdf = df[df.columns[2:4]]\n",
    "df = data[['movie_title','imdb_score','num_voted_users']]\n",
    "\n",
    "#for big in df['num_voted_users']:\n",
    "#    for small in p_front[1]: \n",
    "#        if big == small:\n",
    "#            print df\n",
    "pareto_list = p_front[1]\n",
    "\n",
    "#df.loc[df['a'] == 11,'b']\n",
    "\n",
    "#df.loc[df['num_voted_users'] == [e for e in pareto_list], 'movie_title']            \n",
    "            \n",
    "#df.index.tolist()\n",
    "\n",
    "df2 = df[df['num_voted_users'].isin(pareto_list)].sort_values('imdb_score', ascending=False)\n",
    "\n",
    "df2[df2['imdb_score']>7.5]"
   ]
  },
  {
   "cell_type": "code",
   "execution_count": null,
   "metadata": {},
   "outputs": [],
   "source": [
    "#to check if all values in this cloumn are unique so that I can retrieve values using that attribute or feature\n",
    "\n",
    "if len(x) > len(set(x)):"
   ]
  },
  {
   "cell_type": "code",
   "execution_count": null,
   "metadata": {},
   "outputs": [],
   "source": [
    "def pareto_frontier_multi_max(myArray):\n",
    "    # Sort on first dimension (descending value) (weighted sum method using the sum of all elements)\n",
    "    myArray[:] = myArray[np.array([sum(x) for x in myArray]).argsort()][::-1]\n",
    "    pareto_frontier = None\n",
    "    # Test next rows against the last row in pareto_frontier\n",
    "    while True:\n",
    "        # The top element is by definition Pareto (or it would have been removed by domination)\n",
    "        if(pareto_frontier == None):\n",
    "            pareto_frontier = myArray[0:1,:]\n",
    "        else:\n",
    "            pareto_frontier = np.concatenate((pareto_frontier, myArray[0:1,:]))\n",
    "\n",
    "        # remove the Pareto point that we've added to the Pareto frontier\n",
    "        myArray = np.delete(myArray, 0, 0)\n",
    "\n",
    "        rowNr = 0\n",
    "        while len(myArray) != 0 and rowNr < len(myArray):\n",
    "            row = myArray[rowNr:rowNr+1,:][0]\n",
    "            if sum([row[x] <= pareto_frontier[-1][x]\n",
    "                    for x in range(len(row))]) == len(row):\n",
    "                # If it is worse on all features remove the row from the array\n",
    "                myArray = np.delete(myArray, rowNr, 0)\n",
    "            else:\n",
    "                rowNr += 1\n",
    "\n",
    "        if len(myArray) == 0:\n",
    "            break\n",
    "    return pareto_frontier"
   ]
  },
  {
   "cell_type": "code",
   "execution_count": null,
   "metadata": {},
   "outputs": [],
   "source": [
    "import matplotlib.pyplot as plt\n",
    "def simple_cull(inputPoints, dominates):\n",
    "    paretoPoints = set()\n",
    "    candidateRowNr = 0\n",
    "    dominatedPoints = set()\n",
    "    while len(inputPoints):\n",
    "        candidateRow = inputPoints[candidateRowNr]\n",
    "        inputPoints.remove(candidateRow)\n",
    "        rowNr = 0\n",
    "        nonDominated = True\n",
    "        while len(inputPoints) != 0 and rowNr < len(inputPoints):\n",
    "            row = inputPoints[rowNr]\n",
    "            if dominates(candidateRow, row):\n",
    "                inputPoints.remove(row)\n",
    "                dominatedPoints.add(tuple(row))\n",
    "            elif dominates(row, candidateRow):\n",
    "                nonDominated = False\n",
    "                dominatedPoints.add(tuple(candidateRow))\n",
    "                rowNr += 1\n",
    "            else:\n",
    "                rowNr += 1\n",
    "                \n",
    "        if nonDominated:\n",
    "            # add the non-dominated point to the Pareto frontier\n",
    "            paretoPoints.add(tuple(candidateRow))\n",
    "\n",
    "    return paretoPoints, dominatedPoints\n",
    "\n",
    "def dominates(row, anotherRow):\n",
    "    return sum([row[x] >= anotherRow[x] for x in range(len(row))]) == len(row) # maximization domination\n",
    "\n",
    "def testPoints(points):\n",
    "    fig = plt.figure()\n",
    "    ax1 = fig.add_subplot(111)\n",
    "    paretoPoints, dominatedPoints = simple_cull(list(points), dominates)\n",
    "    print(\"\\nInput points\")\n",
    "    print(points)\n",
    "    print(\"*\"*8 + \" non-dominated answers \" + (\"*\"*8))\n",
    "    print(paretoPoints)\n",
    "    plt.scatter(paretoPoints, dominatedPoints)\n",
    "    print(\"*\"*8 + \" dominated answers \" + (\"*\"*8))\n",
    "    print (dominatedPoints)\n",
    "    \n",
    "#testPoints([[1,1,1],[2,2,2],[3,3,3],[4,4,4]])\n",
    "\n",
    "testPoints([[1,2],[2,1]])\n",
    "\n",
    "fig = plt.figure()\n",
    "ax1 = fig.add_subplot(111)\n",
    "\n",
    "ax1.scatter(x[:4], y[:4], s=10, c='b', marker=\"s\", label='first')\n",
    "ax1.scatter(x[40:],y[40:], s=10, c='r', marker=\"o\", label='second')\n",
    "plt.legend(loc='upper left');\n",
    "plt.show()"
   ]
  },
  {
   "cell_type": "code",
   "execution_count": null,
   "metadata": {},
   "outputs": [],
   "source": [
    "def simple_cull(inputPoints, dominates):\n",
    "    paretoPoints = set()\n",
    "    candidateRowNr = 0\n",
    "    dominatedPoints = set()\n",
    "    while len(inputPoints):\n",
    "        candidateRow = inputPoints[candidateRowNr]\n",
    "        inputPoints.remove(candidateRow)\n",
    "        rowNr = 0\n",
    "        nonDominated = True\n",
    "        while len(inputPoints) != 0 and rowNr < len(inputPoints):\n",
    "            row = inputPoints[rowNr]\n",
    "            if dominates(candidateRow, row):\n",
    "                inputPoints.remove(row)\n",
    "                dominatedPoints.add(tuple(row))\n",
    "            elif dominates(row, candidateRow):\n",
    "                nonDominated = False\n",
    "                dominatedPoints.add(tuple(candidateRow))\n",
    "                rowNr += 1\n",
    "            else:\n",
    "                rowNr += 1\n",
    "                \n",
    "        if nonDominated:\n",
    "            # add the non-dominated point to the Pareto frontier\n",
    "            paretoPoints.add(tuple(candidateRow))\n",
    "\n",
    "    return paretoPoints, dominatedPoints\n",
    "\n",
    "def dominates(row, anotherRow):\n",
    "    return sum([row[x] >= anotherRow[x] for x in range(len(row))]) == len(row) # maximization domination\n",
    "\n",
    "def testPoints(points):\n",
    "    paretoPoints, dominatedPoints = simple_cull(list(points), dominates)\n",
    "    print(\"\\nInput points\")\n",
    "    print(points)\n",
    "    print(\"*\"*8 + \" non-dominated answers \" + (\"*\"*8))\n",
    "    print(paretoPoints)\n",
    "    print(\"*\"*8 + \" dominated answers \" + (\"*\"*8))\n",
    "    print (dominatedPoints)\n",
    "    plt.scatter(points)\n",
    "    plt.plot(paretoPoints, dominatedPoints)\n",
    "    #testPoints([[1,1,1],[2,2,2],[3,3,3],[4,4,4]])\n",
    "\n",
    "testPoints([[1,2],[2,1]])"
   ]
  },
  {
   "cell_type": "code",
   "execution_count": null,
   "metadata": {},
   "outputs": [],
   "source": [
    "'''\n",
    "import matplotlib.pyplot as plt   \n",
    "#Xs, Ys = pareto_frontier(score_list, num_vot_list)\n",
    "# Find lowest values for cost and highest for savings\n",
    "p_front = pareto_frontier(score_list, num_vot_list, maxX = False, maxY = True)\n",
    "# Plot a scatter graph of all results\n",
    "plt.scatter(score_list, num_vot_list)\n",
    "# Then plot the Pareto frontier on top\n",
    "plt.plot(p_front[0], p_front[1])\n",
    "'''"
   ]
  },
  {
   "cell_type": "code",
   "execution_count": null,
   "metadata": {},
   "outputs": [],
   "source": [
    "import matplotlib.pyplot as plt   \n",
    "paretoPoints, dominatedPoints = simple_cull(list(points), dominates)\n",
    "#Xs, Ys = pareto_frontier(score_list, num_vot_list)\n",
    "# Find lowest values for cost and highest for savings\n",
    "p_front = testPoints([[1,1,1],[2,2,2],[3,3,3],[4,4,4]])\n",
    "# Plot a scatter graph of all results\n",
    "plt.scatter(paretoPoints, dominatedPoints)\n",
    "# Then plot the Pareto frontier on top\n",
    "plt.plot(p_front[0], p_front[1])"
   ]
  },
  {
   "cell_type": "code",
   "execution_count": null,
   "metadata": {},
   "outputs": [],
   "source": []
  }
 ],
 "metadata": {
  "kernelspec": {
   "display_name": "Python 3 (ipykernel)",
   "language": "python",
   "name": "python3"
  },
  "language_info": {
   "codemirror_mode": {
    "name": "ipython",
    "version": 3
   },
   "file_extension": ".py",
   "mimetype": "text/x-python",
   "name": "python",
   "nbconvert_exporter": "python",
   "pygments_lexer": "ipython3",
   "version": "3.8.10"
  }
 },
 "nbformat": 4,
 "nbformat_minor": 1
}

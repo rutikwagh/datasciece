{
 "cells": [
  {
   "cell_type": "markdown",
   "id": "b2924f17",
   "metadata": {},
   "source": [
    "# Use the following covid_vaccine_statewise.csv dataset and perform following analytics on the\n",
    "\n",
    "Given dataset\n",
    "https://www.kaggle.com/sudalairajkumar/covid19-in-india?select=covid_vaccine_statewise.csv\n",
    "\n",
    "a. Describe the dataset\n",
    "\n",
    "b. Number of persons state wise vaccinated for first dose in India\n",
    "\n",
    "c. Number of persons state wise vaccinated for second dose in India\n",
    "\n",
    "d. Number of Males vaccinated\n",
    "\n",
    "e. Number of females vaccinated"
   ]
  },
  {
   "cell_type": "markdown",
   "id": "cf6db8cf",
   "metadata": {
    "execution": {
     "iopub.execute_input": "2021-12-17T04:32:31.811033Z",
     "iopub.status.busy": "2021-12-17T04:32:31.810358Z",
     "iopub.status.idle": "2021-12-17T04:32:31.840279Z",
     "shell.execute_reply": "2021-12-17T04:32:31.838391Z",
     "shell.execute_reply.started": "2021-12-17T04:32:31.810912Z"
    },
    "papermill": {
     "duration": 0.055854,
     "end_time": "2022-04-21T08:03:58.382209",
     "exception": false,
     "start_time": "2022-04-21T08:03:58.326355",
     "status": "completed"
    },
    "tags": []
   },
   "source": [
    "\n",
    "# Introduction\n",
    "\n",
    "Coronaviruses are a large family of viruses which may cause illness in animals or humans. In humans, several coronaviruses are known to cause respiratory infections ranging from the common cold to more severe diseases such as Middle East Respiratory Syndrome (MERS) and Severe Acute Respiratory Syndrome (SARS). The most recently discovered coronavirus causes coronavirus disease COVID-19 - World Health Organization\n",
    "\n",
    "The number of new cases are increasing day by day around the world. This dataset has information from the states and union territories of India at daily level.\n",
    "\n",
    "State level data comes from Ministry of Health & Family Welfare\n",
    "\n",
    "Testing data and vaccination data comes from covid19india. Huge thanks to them for their efforts!\n",
    "\n",
    "Update on April 20, 2021: Thanks to the Team at ISIBang, I was able to get the historical data for the periods that I missed to collect and updated the csv file."
   ]
  },
  {
   "cell_type": "markdown",
   "id": "7e9ee103",
   "metadata": {
    "papermill": {
     "duration": 0.043698,
     "end_time": "2022-04-21T08:03:58.471761",
     "exception": false,
     "start_time": "2022-04-21T08:03:58.428063",
     "status": "completed"
    },
    "tags": []
   },
   "source": [
    "**Performed By :**\n",
    "\n",
    "1. Rutik Wagh(31387)\n",
    "2. Pravin Warghade(31388)\n",
    "\n",
    "**Department :** Comp(TE-3)\n",
    "\n",
    "**DSBDA Mini Project**"
   ]
  },
  {
   "cell_type": "code",
   "execution_count": 2,
   "id": "19d45a62",
   "metadata": {
    "execution": {
     "iopub.execute_input": "2022-04-21T08:03:58.560332Z",
     "iopub.status.busy": "2022-04-21T08:03:58.559876Z",
     "iopub.status.idle": "2022-04-21T08:03:59.650967Z",
     "shell.execute_reply": "2022-04-21T08:03:59.649448Z"
    },
    "papermill": {
     "duration": 1.138663,
     "end_time": "2022-04-21T08:03:59.654024",
     "exception": false,
     "start_time": "2022-04-21T08:03:58.515361",
     "status": "completed"
    },
    "tags": []
   },
   "outputs": [],
   "source": [
    "#Import Packages\n",
    "\n",
    "import numpy as np\n",
    "import pandas as pd\n",
    "import os\n",
    "import seaborn as sns\n",
    "import matplotlib.pyplot as plt"
   ]
  },
  {
   "cell_type": "code",
   "execution_count": 3,
   "id": "9c6444e4",
   "metadata": {
    "execution": {
     "iopub.execute_input": "2022-04-21T08:03:59.761681Z",
     "iopub.status.busy": "2022-04-21T08:03:59.761394Z",
     "iopub.status.idle": "2022-04-21T08:03:59.776652Z",
     "shell.execute_reply": "2022-04-21T08:03:59.775640Z"
    },
    "papermill": {
     "duration": 0.062186,
     "end_time": "2022-04-21T08:03:59.778741",
     "exception": false,
     "start_time": "2022-04-21T08:03:59.716555",
     "status": "completed"
    },
    "tags": []
   },
   "outputs": [
    {
     "name": "stdout",
     "output_type": "stream",
     "text": [
      "info() function:\n",
      "\n",
      "<class 'pandas.core.frame.DataFrame'>\n",
      "Index: 7845 entries, 16/01/2021 to 15/08/2021\n",
      "Data columns (total 23 columns):\n",
      " #   Column                               Non-Null Count  Dtype  \n",
      "---  ------                               --------------  -----  \n",
      " 0   State                                7845 non-null   object \n",
      " 1   Total Doses Administered             7621 non-null   float64\n",
      " 2   Sessions                             7621 non-null   float64\n",
      " 3    Sites                               7621 non-null   float64\n",
      " 4   First Dose Administered              7621 non-null   float64\n",
      " 5   Second Dose Administered             7621 non-null   float64\n",
      " 6   Male (Doses Administered)            7461 non-null   float64\n",
      " 7   Female (Doses Administered)          7461 non-null   float64\n",
      " 8   Transgender (Doses Administered)     7461 non-null   float64\n",
      " 9    Covaxin (Doses Administered)        7621 non-null   float64\n",
      " 10  CoviShield (Doses Administered)      7621 non-null   float64\n",
      " 11  Sputnik V (Doses Administered)       2995 non-null   float64\n",
      " 12  AEFI                                 5438 non-null   float64\n",
      " 13  18-44 Years (Doses Administered)     1702 non-null   float64\n",
      " 14  45-60 Years (Doses Administered)     1702 non-null   float64\n",
      " 15  60+ Years (Doses Administered)       1702 non-null   float64\n",
      " 16  18-44 Years(Individuals Vaccinated)  3733 non-null   float64\n",
      " 17  45-60 Years(Individuals Vaccinated)  3734 non-null   float64\n",
      " 18  60+ Years(Individuals Vaccinated)    3734 non-null   float64\n",
      " 19  Male(Individuals Vaccinated)         160 non-null    float64\n",
      " 20  Female(Individuals Vaccinated)       160 non-null    float64\n",
      " 21  Transgender(Individuals Vaccinated)  160 non-null    float64\n",
      " 22  Total Individuals Vaccinated         5919 non-null   float64\n",
      "dtypes: float64(22), object(1)\n",
      "memory usage: 1.4+ MB\n"
     ]
    }
   ],
   "source": [
    "cvd = pd.read_csv('covid_vaccine_statewise.csv',index_col=0)\n",
    "print('info() function:\\n')\n",
    "cvd.info() #this print info of data frame\n"
   ]
  },
  {
   "cell_type": "markdown",
   "id": "9d7b582a",
   "metadata": {},
   "source": [
    "# a. Describe the dataset"
   ]
  },
  {
   "cell_type": "code",
   "execution_count": 4,
   "id": "3c6dcbf2",
   "metadata": {
    "execution": {
     "iopub.execute_input": "2022-04-21T08:04:00.223041Z",
     "iopub.status.busy": "2022-04-21T08:04:00.222522Z",
     "iopub.status.idle": "2022-04-21T08:04:00.227113Z",
     "shell.execute_reply": "2022-04-21T08:04:00.226556Z"
    },
    "papermill": {
     "duration": 0.05218,
     "end_time": "2022-04-21T08:04:00.228786",
     "exception": false,
     "start_time": "2022-04-21T08:04:00.176606",
     "status": "completed"
    },
    "tags": []
   },
   "outputs": [
    {
     "data": {
      "text/plain": [
       "(7845, 23)"
      ]
     },
     "execution_count": 4,
     "metadata": {},
     "output_type": "execute_result"
    }
   ],
   "source": [
    "cvd.shape"
   ]
  },
  {
   "cell_type": "code",
   "execution_count": 5,
   "id": "0a5744e7",
   "metadata": {
    "execution": {
     "iopub.execute_input": "2022-04-21T08:04:00.321520Z",
     "iopub.status.busy": "2022-04-21T08:04:00.320998Z",
     "iopub.status.idle": "2022-04-21T08:04:00.342355Z",
     "shell.execute_reply": "2022-04-21T08:04:00.341756Z"
    },
    "papermill": {
     "duration": 0.071481,
     "end_time": "2022-04-21T08:04:00.345154",
     "exception": false,
     "start_time": "2022-04-21T08:04:00.273673",
     "status": "completed"
    },
    "tags": []
   },
   "outputs": [
    {
     "name": "stdout",
     "output_type": "stream",
     "text": [
      "<class 'pandas.core.frame.DataFrame'>\n",
      "Index: 7845 entries, 16/01/2021 to 15/08/2021\n",
      "Data columns (total 23 columns):\n",
      " #   Column                               Non-Null Count  Dtype  \n",
      "---  ------                               --------------  -----  \n",
      " 0   State                                7845 non-null   object \n",
      " 1   Total Doses Administered             7621 non-null   float64\n",
      " 2   Sessions                             7621 non-null   float64\n",
      " 3    Sites                               7621 non-null   float64\n",
      " 4   First Dose Administered              7621 non-null   float64\n",
      " 5   Second Dose Administered             7621 non-null   float64\n",
      " 6   Male (Doses Administered)            7461 non-null   float64\n",
      " 7   Female (Doses Administered)          7461 non-null   float64\n",
      " 8   Transgender (Doses Administered)     7461 non-null   float64\n",
      " 9    Covaxin (Doses Administered)        7621 non-null   float64\n",
      " 10  CoviShield (Doses Administered)      7621 non-null   float64\n",
      " 11  Sputnik V (Doses Administered)       2995 non-null   float64\n",
      " 12  AEFI                                 5438 non-null   float64\n",
      " 13  18-44 Years (Doses Administered)     1702 non-null   float64\n",
      " 14  45-60 Years (Doses Administered)     1702 non-null   float64\n",
      " 15  60+ Years (Doses Administered)       1702 non-null   float64\n",
      " 16  18-44 Years(Individuals Vaccinated)  3733 non-null   float64\n",
      " 17  45-60 Years(Individuals Vaccinated)  3734 non-null   float64\n",
      " 18  60+ Years(Individuals Vaccinated)    3734 non-null   float64\n",
      " 19  Male(Individuals Vaccinated)         160 non-null    float64\n",
      " 20  Female(Individuals Vaccinated)       160 non-null    float64\n",
      " 21  Transgender(Individuals Vaccinated)  160 non-null    float64\n",
      " 22  Total Individuals Vaccinated         5919 non-null   float64\n",
      "dtypes: float64(22), object(1)\n",
      "memory usage: 1.4+ MB\n"
     ]
    }
   ],
   "source": [
    "cvd.info()"
   ]
  },
  {
   "cell_type": "code",
   "execution_count": 6,
   "id": "696b8a08",
   "metadata": {
    "execution": {
     "iopub.execute_input": "2022-04-21T08:04:00.529680Z",
     "iopub.status.busy": "2022-04-21T08:04:00.529094Z",
     "iopub.status.idle": "2022-04-21T08:04:00.540569Z",
     "shell.execute_reply": "2022-04-21T08:04:00.539881Z"
    },
    "papermill": {
     "duration": 0.059468,
     "end_time": "2022-04-21T08:04:00.542219",
     "exception": false,
     "start_time": "2022-04-21T08:04:00.482751",
     "status": "completed"
    },
    "scrolled": false,
    "tags": []
   },
   "outputs": [
    {
     "data": {
      "text/html": [
       "<div>\n",
       "<style scoped>\n",
       "    .dataframe tbody tr th:only-of-type {\n",
       "        vertical-align: middle;\n",
       "    }\n",
       "\n",
       "    .dataframe tbody tr th {\n",
       "        vertical-align: top;\n",
       "    }\n",
       "\n",
       "    .dataframe thead th {\n",
       "        text-align: right;\n",
       "    }\n",
       "</style>\n",
       "<table border=\"1\" class=\"dataframe\">\n",
       "  <thead>\n",
       "    <tr style=\"text-align: right;\">\n",
       "      <th></th>\n",
       "      <th>State</th>\n",
       "      <th>Total Doses Administered</th>\n",
       "      <th>Sessions</th>\n",
       "      <th>Sites</th>\n",
       "      <th>First Dose Administered</th>\n",
       "      <th>Second Dose Administered</th>\n",
       "      <th>Male (Doses Administered)</th>\n",
       "      <th>Female (Doses Administered)</th>\n",
       "      <th>Transgender (Doses Administered)</th>\n",
       "      <th>Covaxin (Doses Administered)</th>\n",
       "      <th>...</th>\n",
       "      <th>18-44 Years (Doses Administered)</th>\n",
       "      <th>45-60 Years (Doses Administered)</th>\n",
       "      <th>60+ Years (Doses Administered)</th>\n",
       "      <th>18-44 Years(Individuals Vaccinated)</th>\n",
       "      <th>45-60 Years(Individuals Vaccinated)</th>\n",
       "      <th>60+ Years(Individuals Vaccinated)</th>\n",
       "      <th>Male(Individuals Vaccinated)</th>\n",
       "      <th>Female(Individuals Vaccinated)</th>\n",
       "      <th>Transgender(Individuals Vaccinated)</th>\n",
       "      <th>Total Individuals Vaccinated</th>\n",
       "    </tr>\n",
       "    <tr>\n",
       "      <th>Updated On</th>\n",
       "      <th></th>\n",
       "      <th></th>\n",
       "      <th></th>\n",
       "      <th></th>\n",
       "      <th></th>\n",
       "      <th></th>\n",
       "      <th></th>\n",
       "      <th></th>\n",
       "      <th></th>\n",
       "      <th></th>\n",
       "      <th></th>\n",
       "      <th></th>\n",
       "      <th></th>\n",
       "      <th></th>\n",
       "      <th></th>\n",
       "      <th></th>\n",
       "      <th></th>\n",
       "      <th></th>\n",
       "      <th></th>\n",
       "      <th></th>\n",
       "      <th></th>\n",
       "    </tr>\n",
       "  </thead>\n",
       "  <tbody>\n",
       "    <tr>\n",
       "      <th>16/01/2021</th>\n",
       "      <td>India</td>\n",
       "      <td>48276.0</td>\n",
       "      <td>3455.0</td>\n",
       "      <td>2957.0</td>\n",
       "      <td>48276.0</td>\n",
       "      <td>0.0</td>\n",
       "      <td>NaN</td>\n",
       "      <td>NaN</td>\n",
       "      <td>NaN</td>\n",
       "      <td>579.0</td>\n",
       "      <td>...</td>\n",
       "      <td>NaN</td>\n",
       "      <td>NaN</td>\n",
       "      <td>NaN</td>\n",
       "      <td>NaN</td>\n",
       "      <td>NaN</td>\n",
       "      <td>NaN</td>\n",
       "      <td>23757.0</td>\n",
       "      <td>24517.0</td>\n",
       "      <td>2.0</td>\n",
       "      <td>48276.0</td>\n",
       "    </tr>\n",
       "    <tr>\n",
       "      <th>17/01/2021</th>\n",
       "      <td>India</td>\n",
       "      <td>58604.0</td>\n",
       "      <td>8532.0</td>\n",
       "      <td>4954.0</td>\n",
       "      <td>58604.0</td>\n",
       "      <td>0.0</td>\n",
       "      <td>NaN</td>\n",
       "      <td>NaN</td>\n",
       "      <td>NaN</td>\n",
       "      <td>635.0</td>\n",
       "      <td>...</td>\n",
       "      <td>NaN</td>\n",
       "      <td>NaN</td>\n",
       "      <td>NaN</td>\n",
       "      <td>NaN</td>\n",
       "      <td>NaN</td>\n",
       "      <td>NaN</td>\n",
       "      <td>27348.0</td>\n",
       "      <td>31252.0</td>\n",
       "      <td>4.0</td>\n",
       "      <td>58604.0</td>\n",
       "    </tr>\n",
       "    <tr>\n",
       "      <th>18/01/2021</th>\n",
       "      <td>India</td>\n",
       "      <td>99449.0</td>\n",
       "      <td>13611.0</td>\n",
       "      <td>6583.0</td>\n",
       "      <td>99449.0</td>\n",
       "      <td>0.0</td>\n",
       "      <td>NaN</td>\n",
       "      <td>NaN</td>\n",
       "      <td>NaN</td>\n",
       "      <td>1299.0</td>\n",
       "      <td>...</td>\n",
       "      <td>NaN</td>\n",
       "      <td>NaN</td>\n",
       "      <td>NaN</td>\n",
       "      <td>NaN</td>\n",
       "      <td>NaN</td>\n",
       "      <td>NaN</td>\n",
       "      <td>41361.0</td>\n",
       "      <td>58083.0</td>\n",
       "      <td>5.0</td>\n",
       "      <td>99449.0</td>\n",
       "    </tr>\n",
       "    <tr>\n",
       "      <th>19/01/2021</th>\n",
       "      <td>India</td>\n",
       "      <td>195525.0</td>\n",
       "      <td>17855.0</td>\n",
       "      <td>7951.0</td>\n",
       "      <td>195525.0</td>\n",
       "      <td>0.0</td>\n",
       "      <td>NaN</td>\n",
       "      <td>NaN</td>\n",
       "      <td>NaN</td>\n",
       "      <td>3017.0</td>\n",
       "      <td>...</td>\n",
       "      <td>NaN</td>\n",
       "      <td>NaN</td>\n",
       "      <td>NaN</td>\n",
       "      <td>NaN</td>\n",
       "      <td>NaN</td>\n",
       "      <td>NaN</td>\n",
       "      <td>81901.0</td>\n",
       "      <td>113613.0</td>\n",
       "      <td>11.0</td>\n",
       "      <td>195525.0</td>\n",
       "    </tr>\n",
       "    <tr>\n",
       "      <th>20/01/2021</th>\n",
       "      <td>India</td>\n",
       "      <td>251280.0</td>\n",
       "      <td>25472.0</td>\n",
       "      <td>10504.0</td>\n",
       "      <td>251280.0</td>\n",
       "      <td>0.0</td>\n",
       "      <td>NaN</td>\n",
       "      <td>NaN</td>\n",
       "      <td>NaN</td>\n",
       "      <td>3946.0</td>\n",
       "      <td>...</td>\n",
       "      <td>NaN</td>\n",
       "      <td>NaN</td>\n",
       "      <td>NaN</td>\n",
       "      <td>NaN</td>\n",
       "      <td>NaN</td>\n",
       "      <td>NaN</td>\n",
       "      <td>98111.0</td>\n",
       "      <td>153145.0</td>\n",
       "      <td>24.0</td>\n",
       "      <td>251280.0</td>\n",
       "    </tr>\n",
       "  </tbody>\n",
       "</table>\n",
       "<p>5 rows × 23 columns</p>\n",
       "</div>"
      ],
      "text/plain": [
       "            State  Total Doses Administered  Sessions   Sites   \\\n",
       "Updated On                                                       \n",
       "16/01/2021  India                   48276.0    3455.0   2957.0   \n",
       "17/01/2021  India                   58604.0    8532.0   4954.0   \n",
       "18/01/2021  India                   99449.0   13611.0   6583.0   \n",
       "19/01/2021  India                  195525.0   17855.0   7951.0   \n",
       "20/01/2021  India                  251280.0   25472.0  10504.0   \n",
       "\n",
       "            First Dose Administered  Second Dose Administered  \\\n",
       "Updated On                                                      \n",
       "16/01/2021                  48276.0                       0.0   \n",
       "17/01/2021                  58604.0                       0.0   \n",
       "18/01/2021                  99449.0                       0.0   \n",
       "19/01/2021                 195525.0                       0.0   \n",
       "20/01/2021                 251280.0                       0.0   \n",
       "\n",
       "            Male (Doses Administered)  Female (Doses Administered)  \\\n",
       "Updated On                                                           \n",
       "16/01/2021                        NaN                          NaN   \n",
       "17/01/2021                        NaN                          NaN   \n",
       "18/01/2021                        NaN                          NaN   \n",
       "19/01/2021                        NaN                          NaN   \n",
       "20/01/2021                        NaN                          NaN   \n",
       "\n",
       "            Transgender (Doses Administered)   Covaxin (Doses Administered)  \\\n",
       "Updated On                                                                    \n",
       "16/01/2021                               NaN                          579.0   \n",
       "17/01/2021                               NaN                          635.0   \n",
       "18/01/2021                               NaN                         1299.0   \n",
       "19/01/2021                               NaN                         3017.0   \n",
       "20/01/2021                               NaN                         3946.0   \n",
       "\n",
       "            ...  18-44 Years (Doses Administered)  \\\n",
       "Updated On  ...                                     \n",
       "16/01/2021  ...                               NaN   \n",
       "17/01/2021  ...                               NaN   \n",
       "18/01/2021  ...                               NaN   \n",
       "19/01/2021  ...                               NaN   \n",
       "20/01/2021  ...                               NaN   \n",
       "\n",
       "            45-60 Years (Doses Administered)  60+ Years (Doses Administered)  \\\n",
       "Updated On                                                                     \n",
       "16/01/2021                               NaN                             NaN   \n",
       "17/01/2021                               NaN                             NaN   \n",
       "18/01/2021                               NaN                             NaN   \n",
       "19/01/2021                               NaN                             NaN   \n",
       "20/01/2021                               NaN                             NaN   \n",
       "\n",
       "            18-44 Years(Individuals Vaccinated)  \\\n",
       "Updated On                                        \n",
       "16/01/2021                                  NaN   \n",
       "17/01/2021                                  NaN   \n",
       "18/01/2021                                  NaN   \n",
       "19/01/2021                                  NaN   \n",
       "20/01/2021                                  NaN   \n",
       "\n",
       "            45-60 Years(Individuals Vaccinated)  \\\n",
       "Updated On                                        \n",
       "16/01/2021                                  NaN   \n",
       "17/01/2021                                  NaN   \n",
       "18/01/2021                                  NaN   \n",
       "19/01/2021                                  NaN   \n",
       "20/01/2021                                  NaN   \n",
       "\n",
       "            60+ Years(Individuals Vaccinated)  Male(Individuals Vaccinated)  \\\n",
       "Updated On                                                                    \n",
       "16/01/2021                                NaN                       23757.0   \n",
       "17/01/2021                                NaN                       27348.0   \n",
       "18/01/2021                                NaN                       41361.0   \n",
       "19/01/2021                                NaN                       81901.0   \n",
       "20/01/2021                                NaN                       98111.0   \n",
       "\n",
       "            Female(Individuals Vaccinated)  \\\n",
       "Updated On                                   \n",
       "16/01/2021                         24517.0   \n",
       "17/01/2021                         31252.0   \n",
       "18/01/2021                         58083.0   \n",
       "19/01/2021                        113613.0   \n",
       "20/01/2021                        153145.0   \n",
       "\n",
       "            Transgender(Individuals Vaccinated)  Total Individuals Vaccinated  \n",
       "Updated On                                                                     \n",
       "16/01/2021                                  2.0                       48276.0  \n",
       "17/01/2021                                  4.0                       58604.0  \n",
       "18/01/2021                                  5.0                       99449.0  \n",
       "19/01/2021                                 11.0                      195525.0  \n",
       "20/01/2021                                 24.0                      251280.0  \n",
       "\n",
       "[5 rows x 23 columns]"
      ]
     },
     "execution_count": 6,
     "metadata": {},
     "output_type": "execute_result"
    }
   ],
   "source": [
    "cvd.head()"
   ]
  },
  {
   "cell_type": "code",
   "execution_count": 7,
   "id": "f0bc53a4",
   "metadata": {},
   "outputs": [
    {
     "data": {
      "text/html": [
       "<div>\n",
       "<style scoped>\n",
       "    .dataframe tbody tr th:only-of-type {\n",
       "        vertical-align: middle;\n",
       "    }\n",
       "\n",
       "    .dataframe tbody tr th {\n",
       "        vertical-align: top;\n",
       "    }\n",
       "\n",
       "    .dataframe thead th {\n",
       "        text-align: right;\n",
       "    }\n",
       "</style>\n",
       "<table border=\"1\" class=\"dataframe\">\n",
       "  <thead>\n",
       "    <tr style=\"text-align: right;\">\n",
       "      <th></th>\n",
       "      <th>State</th>\n",
       "      <th>Total Doses Administered</th>\n",
       "      <th>Sessions</th>\n",
       "      <th>Sites</th>\n",
       "      <th>First Dose Administered</th>\n",
       "      <th>Second Dose Administered</th>\n",
       "      <th>Male (Doses Administered)</th>\n",
       "      <th>Female (Doses Administered)</th>\n",
       "      <th>Transgender (Doses Administered)</th>\n",
       "      <th>Covaxin (Doses Administered)</th>\n",
       "      <th>...</th>\n",
       "      <th>18-44 Years (Doses Administered)</th>\n",
       "      <th>45-60 Years (Doses Administered)</th>\n",
       "      <th>60+ Years (Doses Administered)</th>\n",
       "      <th>18-44 Years(Individuals Vaccinated)</th>\n",
       "      <th>45-60 Years(Individuals Vaccinated)</th>\n",
       "      <th>60+ Years(Individuals Vaccinated)</th>\n",
       "      <th>Male(Individuals Vaccinated)</th>\n",
       "      <th>Female(Individuals Vaccinated)</th>\n",
       "      <th>Transgender(Individuals Vaccinated)</th>\n",
       "      <th>Total Individuals Vaccinated</th>\n",
       "    </tr>\n",
       "    <tr>\n",
       "      <th>Updated On</th>\n",
       "      <th></th>\n",
       "      <th></th>\n",
       "      <th></th>\n",
       "      <th></th>\n",
       "      <th></th>\n",
       "      <th></th>\n",
       "      <th></th>\n",
       "      <th></th>\n",
       "      <th></th>\n",
       "      <th></th>\n",
       "      <th></th>\n",
       "      <th></th>\n",
       "      <th></th>\n",
       "      <th></th>\n",
       "      <th></th>\n",
       "      <th></th>\n",
       "      <th></th>\n",
       "      <th></th>\n",
       "      <th></th>\n",
       "      <th></th>\n",
       "      <th></th>\n",
       "    </tr>\n",
       "  </thead>\n",
       "  <tbody>\n",
       "    <tr>\n",
       "      <th>11/08/2021</th>\n",
       "      <td>West Bengal</td>\n",
       "      <td>NaN</td>\n",
       "      <td>NaN</td>\n",
       "      <td>NaN</td>\n",
       "      <td>NaN</td>\n",
       "      <td>NaN</td>\n",
       "      <td>NaN</td>\n",
       "      <td>NaN</td>\n",
       "      <td>NaN</td>\n",
       "      <td>NaN</td>\n",
       "      <td>...</td>\n",
       "      <td>NaN</td>\n",
       "      <td>NaN</td>\n",
       "      <td>NaN</td>\n",
       "      <td>NaN</td>\n",
       "      <td>NaN</td>\n",
       "      <td>NaN</td>\n",
       "      <td>NaN</td>\n",
       "      <td>NaN</td>\n",
       "      <td>NaN</td>\n",
       "      <td>NaN</td>\n",
       "    </tr>\n",
       "    <tr>\n",
       "      <th>12/08/2021</th>\n",
       "      <td>West Bengal</td>\n",
       "      <td>NaN</td>\n",
       "      <td>NaN</td>\n",
       "      <td>NaN</td>\n",
       "      <td>NaN</td>\n",
       "      <td>NaN</td>\n",
       "      <td>NaN</td>\n",
       "      <td>NaN</td>\n",
       "      <td>NaN</td>\n",
       "      <td>NaN</td>\n",
       "      <td>...</td>\n",
       "      <td>NaN</td>\n",
       "      <td>NaN</td>\n",
       "      <td>NaN</td>\n",
       "      <td>NaN</td>\n",
       "      <td>NaN</td>\n",
       "      <td>NaN</td>\n",
       "      <td>NaN</td>\n",
       "      <td>NaN</td>\n",
       "      <td>NaN</td>\n",
       "      <td>NaN</td>\n",
       "    </tr>\n",
       "    <tr>\n",
       "      <th>13/08/2021</th>\n",
       "      <td>West Bengal</td>\n",
       "      <td>NaN</td>\n",
       "      <td>NaN</td>\n",
       "      <td>NaN</td>\n",
       "      <td>NaN</td>\n",
       "      <td>NaN</td>\n",
       "      <td>NaN</td>\n",
       "      <td>NaN</td>\n",
       "      <td>NaN</td>\n",
       "      <td>NaN</td>\n",
       "      <td>...</td>\n",
       "      <td>NaN</td>\n",
       "      <td>NaN</td>\n",
       "      <td>NaN</td>\n",
       "      <td>NaN</td>\n",
       "      <td>NaN</td>\n",
       "      <td>NaN</td>\n",
       "      <td>NaN</td>\n",
       "      <td>NaN</td>\n",
       "      <td>NaN</td>\n",
       "      <td>NaN</td>\n",
       "    </tr>\n",
       "    <tr>\n",
       "      <th>14/08/2021</th>\n",
       "      <td>West Bengal</td>\n",
       "      <td>NaN</td>\n",
       "      <td>NaN</td>\n",
       "      <td>NaN</td>\n",
       "      <td>NaN</td>\n",
       "      <td>NaN</td>\n",
       "      <td>NaN</td>\n",
       "      <td>NaN</td>\n",
       "      <td>NaN</td>\n",
       "      <td>NaN</td>\n",
       "      <td>...</td>\n",
       "      <td>NaN</td>\n",
       "      <td>NaN</td>\n",
       "      <td>NaN</td>\n",
       "      <td>NaN</td>\n",
       "      <td>NaN</td>\n",
       "      <td>NaN</td>\n",
       "      <td>NaN</td>\n",
       "      <td>NaN</td>\n",
       "      <td>NaN</td>\n",
       "      <td>NaN</td>\n",
       "    </tr>\n",
       "    <tr>\n",
       "      <th>15/08/2021</th>\n",
       "      <td>West Bengal</td>\n",
       "      <td>NaN</td>\n",
       "      <td>NaN</td>\n",
       "      <td>NaN</td>\n",
       "      <td>NaN</td>\n",
       "      <td>NaN</td>\n",
       "      <td>NaN</td>\n",
       "      <td>NaN</td>\n",
       "      <td>NaN</td>\n",
       "      <td>NaN</td>\n",
       "      <td>...</td>\n",
       "      <td>NaN</td>\n",
       "      <td>NaN</td>\n",
       "      <td>NaN</td>\n",
       "      <td>NaN</td>\n",
       "      <td>NaN</td>\n",
       "      <td>NaN</td>\n",
       "      <td>NaN</td>\n",
       "      <td>NaN</td>\n",
       "      <td>NaN</td>\n",
       "      <td>NaN</td>\n",
       "    </tr>\n",
       "  </tbody>\n",
       "</table>\n",
       "<p>5 rows × 23 columns</p>\n",
       "</div>"
      ],
      "text/plain": [
       "                  State  Total Doses Administered  Sessions   Sites   \\\n",
       "Updated On                                                             \n",
       "11/08/2021  West Bengal                       NaN       NaN      NaN   \n",
       "12/08/2021  West Bengal                       NaN       NaN      NaN   \n",
       "13/08/2021  West Bengal                       NaN       NaN      NaN   \n",
       "14/08/2021  West Bengal                       NaN       NaN      NaN   \n",
       "15/08/2021  West Bengal                       NaN       NaN      NaN   \n",
       "\n",
       "            First Dose Administered  Second Dose Administered  \\\n",
       "Updated On                                                      \n",
       "11/08/2021                      NaN                       NaN   \n",
       "12/08/2021                      NaN                       NaN   \n",
       "13/08/2021                      NaN                       NaN   \n",
       "14/08/2021                      NaN                       NaN   \n",
       "15/08/2021                      NaN                       NaN   \n",
       "\n",
       "            Male (Doses Administered)  Female (Doses Administered)  \\\n",
       "Updated On                                                           \n",
       "11/08/2021                        NaN                          NaN   \n",
       "12/08/2021                        NaN                          NaN   \n",
       "13/08/2021                        NaN                          NaN   \n",
       "14/08/2021                        NaN                          NaN   \n",
       "15/08/2021                        NaN                          NaN   \n",
       "\n",
       "            Transgender (Doses Administered)   Covaxin (Doses Administered)  \\\n",
       "Updated On                                                                    \n",
       "11/08/2021                               NaN                            NaN   \n",
       "12/08/2021                               NaN                            NaN   \n",
       "13/08/2021                               NaN                            NaN   \n",
       "14/08/2021                               NaN                            NaN   \n",
       "15/08/2021                               NaN                            NaN   \n",
       "\n",
       "            ...  18-44 Years (Doses Administered)  \\\n",
       "Updated On  ...                                     \n",
       "11/08/2021  ...                               NaN   \n",
       "12/08/2021  ...                               NaN   \n",
       "13/08/2021  ...                               NaN   \n",
       "14/08/2021  ...                               NaN   \n",
       "15/08/2021  ...                               NaN   \n",
       "\n",
       "            45-60 Years (Doses Administered)  60+ Years (Doses Administered)  \\\n",
       "Updated On                                                                     \n",
       "11/08/2021                               NaN                             NaN   \n",
       "12/08/2021                               NaN                             NaN   \n",
       "13/08/2021                               NaN                             NaN   \n",
       "14/08/2021                               NaN                             NaN   \n",
       "15/08/2021                               NaN                             NaN   \n",
       "\n",
       "            18-44 Years(Individuals Vaccinated)  \\\n",
       "Updated On                                        \n",
       "11/08/2021                                  NaN   \n",
       "12/08/2021                                  NaN   \n",
       "13/08/2021                                  NaN   \n",
       "14/08/2021                                  NaN   \n",
       "15/08/2021                                  NaN   \n",
       "\n",
       "            45-60 Years(Individuals Vaccinated)  \\\n",
       "Updated On                                        \n",
       "11/08/2021                                  NaN   \n",
       "12/08/2021                                  NaN   \n",
       "13/08/2021                                  NaN   \n",
       "14/08/2021                                  NaN   \n",
       "15/08/2021                                  NaN   \n",
       "\n",
       "            60+ Years(Individuals Vaccinated)  Male(Individuals Vaccinated)  \\\n",
       "Updated On                                                                    \n",
       "11/08/2021                                NaN                           NaN   \n",
       "12/08/2021                                NaN                           NaN   \n",
       "13/08/2021                                NaN                           NaN   \n",
       "14/08/2021                                NaN                           NaN   \n",
       "15/08/2021                                NaN                           NaN   \n",
       "\n",
       "            Female(Individuals Vaccinated)  \\\n",
       "Updated On                                   \n",
       "11/08/2021                             NaN   \n",
       "12/08/2021                             NaN   \n",
       "13/08/2021                             NaN   \n",
       "14/08/2021                             NaN   \n",
       "15/08/2021                             NaN   \n",
       "\n",
       "            Transgender(Individuals Vaccinated)  Total Individuals Vaccinated  \n",
       "Updated On                                                                     \n",
       "11/08/2021                                  NaN                           NaN  \n",
       "12/08/2021                                  NaN                           NaN  \n",
       "13/08/2021                                  NaN                           NaN  \n",
       "14/08/2021                                  NaN                           NaN  \n",
       "15/08/2021                                  NaN                           NaN  \n",
       "\n",
       "[5 rows x 23 columns]"
      ]
     },
     "execution_count": 7,
     "metadata": {},
     "output_type": "execute_result"
    }
   ],
   "source": [
    "cvd.tail()"
   ]
  },
  {
   "cell_type": "code",
   "execution_count": 8,
   "id": "7f5425b0",
   "metadata": {},
   "outputs": [
    {
     "name": "stdout",
     "output_type": "stream",
     "text": [
      "\n",
      "isnull() function:\n",
      "\n"
     ]
    },
    {
     "data": {
      "text/plain": [
       "State                                     0\n",
       "Total Doses Administered                224\n",
       "Sessions                                224\n",
       " Sites                                  224\n",
       "First Dose Administered                 224\n",
       "Second Dose Administered                224\n",
       "Male (Doses Administered)               384\n",
       "Female (Doses Administered)             384\n",
       "Transgender (Doses Administered)        384\n",
       " Covaxin (Doses Administered)           224\n",
       "CoviShield (Doses Administered)         224\n",
       "Sputnik V (Doses Administered)         4850\n",
       "AEFI                                   2407\n",
       "18-44 Years (Doses Administered)       6143\n",
       "45-60 Years (Doses Administered)       6143\n",
       "60+ Years (Doses Administered)         6143\n",
       "18-44 Years(Individuals Vaccinated)    4112\n",
       "45-60 Years(Individuals Vaccinated)    4111\n",
       "60+ Years(Individuals Vaccinated)      4111\n",
       "Male(Individuals Vaccinated)           7685\n",
       "Female(Individuals Vaccinated)         7685\n",
       "Transgender(Individuals Vaccinated)    7685\n",
       "Total Individuals Vaccinated           1926\n",
       "dtype: int64"
      ]
     },
     "execution_count": 8,
     "metadata": {},
     "output_type": "execute_result"
    }
   ],
   "source": [
    "print('\\nisnull() function:\\n')\n",
    "cvd.isnull().sum() #detects missing value\n"
   ]
  },
  {
   "cell_type": "code",
   "execution_count": 10,
   "id": "c1f3bc45",
   "metadata": {},
   "outputs": [
    {
     "name": "stdout",
     "output_type": "stream",
     "text": [
      "\n",
      "descibe() function:\n",
      "\n",
      "       Total Doses Administered      Sessions        Sites   \\\n",
      "count              7.621000e+03  7.621000e+03   7621.000000   \n",
      "mean               9.188171e+06  4.792358e+05   2282.872064   \n",
      "std                3.746180e+07  1.911511e+06   7275.973730   \n",
      "min                7.000000e+00  0.000000e+00      0.000000   \n",
      "25%                1.356570e+05  6.004000e+03     69.000000   \n",
      "50%                8.182020e+05  4.547000e+04    597.000000   \n",
      "75%                6.625243e+06  3.428690e+05   1708.000000   \n",
      "max                5.132284e+08  3.501031e+07  73933.000000   \n",
      "\n",
      "       First Dose Administered  Second Dose Administered  \\\n",
      "count             7.621000e+03              7.621000e+03   \n",
      "mean              7.414415e+06              1.773755e+06   \n",
      "std               2.995209e+07              7.570382e+06   \n",
      "min               7.000000e+00              0.000000e+00   \n",
      "25%               1.166320e+05              1.283100e+04   \n",
      "50%               6.614590e+05              1.388180e+05   \n",
      "75%               5.387805e+06              1.166434e+06   \n",
      "max               4.001504e+08              1.130780e+08   \n",
      "\n",
      "       Male (Doses Administered)  Female (Doses Administered)  \\\n",
      "count               7.461000e+03                 7.461000e+03   \n",
      "mean                3.620156e+06                 3.168416e+06   \n",
      "std                 1.737938e+07                 1.515310e+07   \n",
      "min                 0.000000e+00                 2.000000e+00   \n",
      "25%                 5.655500e+04                 5.210700e+04   \n",
      "50%                 3.897850e+05                 3.342380e+05   \n",
      "75%                 2.735777e+06                 2.561513e+06   \n",
      "max                 2.701636e+08                 2.395186e+08   \n",
      "\n",
      "       Transgender (Doses Administered)   Covaxin (Doses Administered)  \\\n",
      "count                       7461.000000                   7.621000e+03   \n",
      "mean                        1162.978019                   1.044669e+06   \n",
      "std                         5931.353995                   4.452259e+06   \n",
      "min                            0.000000                   0.000000e+00   \n",
      "25%                            8.000000                   0.000000e+00   \n",
      "50%                          113.000000                   1.185100e+04   \n",
      "75%                          800.000000                   7.579300e+05   \n",
      "max                        98275.000000                   6.236742e+07   \n",
      "\n",
      "       CoviShield (Doses Administered)  ...  18-44 Years (Doses Administered)  \\\n",
      "count                     7.621000e+03  ...                      1.702000e+03   \n",
      "mean                      8.126553e+06  ...                      8.773958e+06   \n",
      "std                       3.298414e+07  ...                      2.660829e+07   \n",
      "min                       7.000000e+00  ...                      2.662400e+04   \n",
      "25%                       1.331340e+05  ...                      4.344842e+05   \n",
      "50%                       7.567360e+05  ...                      3.095970e+06   \n",
      "75%                       6.007817e+06  ...                      7.366241e+06   \n",
      "max                       4.468251e+08  ...                      2.243304e+08   \n",
      "\n",
      "       45-60 Years (Doses Administered)  60+ Years (Doses Administered)  \\\n",
      "count                      1.702000e+03                    1.702000e+03   \n",
      "mean                       7.442161e+06                    5.641605e+06   \n",
      "std                        2.225999e+07                    1.681650e+07   \n",
      "min                        1.681500e+04                    9.994000e+03   \n",
      "25%                        2.326275e+05                    1.285605e+05   \n",
      "50%                        2.695938e+06                    1.805696e+06   \n",
      "75%                        6.969726e+06                    5.294763e+06   \n",
      "max                        1.667575e+08                    1.186927e+08   \n",
      "\n",
      "       18-44 Years(Individuals Vaccinated)  \\\n",
      "count                         3.733000e+03   \n",
      "mean                          1.395895e+06   \n",
      "std                           5.501454e+06   \n",
      "min                           1.059000e+03   \n",
      "25%                           5.655400e+04   \n",
      "50%                           2.947270e+05   \n",
      "75%                           9.105160e+05   \n",
      "max                           9.224315e+07   \n",
      "\n",
      "       45-60 Years(Individuals Vaccinated)  60+ Years(Individuals Vaccinated)  \\\n",
      "count                         3.734000e+03                       3.734000e+03   \n",
      "mean                          2.916515e+06                       2.627444e+06   \n",
      "std                           9.567607e+06                       8.192225e+06   \n",
      "min                           1.136000e+03                       5.580000e+02   \n",
      "25%                           9.248225e+04                       5.615975e+04   \n",
      "50%                           8.330395e+05                       7.887425e+05   \n",
      "75%                           2.499280e+06                       2.337874e+06   \n",
      "max                           9.096888e+07                       6.731098e+07   \n",
      "\n",
      "       Male(Individuals Vaccinated)  Female(Individuals Vaccinated)  \\\n",
      "count                  1.600000e+02                    1.600000e+02   \n",
      "mean                   4.461687e+07                    3.951018e+07   \n",
      "std                    3.950749e+07                    3.417684e+07   \n",
      "min                    2.375700e+04                    2.451700e+04   \n",
      "25%                    5.739350e+06                    5.023407e+06   \n",
      "50%                    3.716590e+07                    3.365402e+07   \n",
      "75%                    7.441663e+07                    6.685368e+07   \n",
      "max                    1.349420e+08                    1.156684e+08   \n",
      "\n",
      "       Transgender(Individuals Vaccinated)  Total Individuals Vaccinated  \n",
      "count                           160.000000                  5.919000e+03  \n",
      "mean                          12370.543750                  4.547842e+06  \n",
      "std                           12485.026753                  1.834182e+07  \n",
      "min                               2.000000                  7.000000e+00  \n",
      "25%                            1278.750000                  7.427550e+04  \n",
      "50%                            8007.500000                  4.022880e+05  \n",
      "75%                           19851.000000                  3.501562e+06  \n",
      "max                           46462.000000                  2.506569e+08  \n",
      "\n",
      "[8 rows x 22 columns]\n"
     ]
    }
   ],
   "source": [
    "print('\\ndescibe() function:\\n')\n",
    "print(cvd.describe())#use to view statiscal details\n"
   ]
  },
  {
   "cell_type": "markdown",
   "id": "e6acab47",
   "metadata": {
    "papermill": {
     "duration": 0.045987,
     "end_time": "2022-04-21T08:04:00.726763",
     "exception": false,
     "start_time": "2022-04-21T08:04:00.680776",
     "status": "completed"
    },
    "tags": []
   },
   "source": [
    "# Data Visualization of complete data"
   ]
  },
  {
   "cell_type": "code",
   "execution_count": 11,
   "id": "bd1c0155",
   "metadata": {
    "execution": {
     "iopub.execute_input": "2022-04-21T08:04:00.821210Z",
     "iopub.status.busy": "2022-04-21T08:04:00.820402Z",
     "iopub.status.idle": "2022-04-21T08:04:41.557176Z",
     "shell.execute_reply": "2022-04-21T08:04:41.556176Z"
    },
    "papermill": {
     "duration": 40.786183,
     "end_time": "2022-04-21T08:04:41.559275",
     "exception": false,
     "start_time": "2022-04-21T08:04:00.773092",
     "status": "completed"
    },
    "scrolled": false,
    "tags": []
   },
   "outputs": [
    {
     "data": {
      "text/plain": [
       "<AxesSubplot:title={'center':'Full dataset'}, xlabel='Updated On'>"
      ]
     },
     "execution_count": 11,
     "metadata": {},
     "output_type": "execute_result"
    },
    {
     "data": {
      "image/png": "[encoded data removed]",
      "text/plain": [
       "<Figure size 1008x432 with 1 Axes>"
      ]
     },
     "metadata": {
      "needs_background": "light"
     },
     "output_type": "display_data"
    }
   ],
   "source": [
    "# Set the width and height of the figure\n",
    "plt.figure(figsize=(14,6))\n",
    "\n",
    "# Add title\n",
    "plt.title(\"Full dataset\")\n",
    "\n",
    "# Line chart  \n",
    "sns.lineplot(data=cvd)"
   ]
  },
  {
   "cell_type": "code",
   "execution_count": 19,
   "id": "bae87481",
   "metadata": {},
   "outputs": [],
   "source": [
    "cvd_first = cvd[\"First Dose Administered\"]\n",
    "cvd_second = cvd[\"Second Dose Administered\"]"
   ]
  },
  {
   "cell_type": "markdown",
   "id": "b6e55f71",
   "metadata": {
    "papermill": {
     "duration": 0.048294,
     "end_time": "2022-04-21T08:04:41.959148",
     "exception": false,
     "start_time": "2022-04-21T08:04:41.910854",
     "status": "completed"
    },
    "tags": []
   },
   "source": [
    "# FIRST DOSE "
   ]
  },
  {
   "cell_type": "code",
   "execution_count": 20,
   "id": "c2ae2cb1",
   "metadata": {
    "execution": {
     "iopub.execute_input": "2022-04-21T08:04:42.180168Z",
     "iopub.status.busy": "2022-04-21T08:04:42.179779Z",
     "iopub.status.idle": "2022-04-21T08:04:42.535024Z",
     "shell.execute_reply": "2022-04-21T08:04:42.534234Z"
    },
    "papermill": {
     "duration": 0.40698,
     "end_time": "2022-04-21T08:04:42.536866",
     "exception": false,
     "start_time": "2022-04-21T08:04:42.129886",
     "status": "completed"
    },
    "tags": []
   },
   "outputs": [
    {
     "data": {
      "text/plain": [
       "<AxesSubplot:title={'center':'First Dose Administered'}, xlabel='Updated On', ylabel='First Dose Administered'>"
      ]
     },
     "execution_count": 20,
     "metadata": {},
     "output_type": "execute_result"
    },
    {
     "data": {
      "image/png": "[encoded data removed]",
      "text/plain": [
       "<Figure size 720x432 with 1 Axes>"
      ]
     },
     "metadata": {
      "needs_background": "light"
     },
     "output_type": "display_data"
    }
   ],
   "source": [
    "# Set the width and height of the figure\n",
    "plt.figure(figsize=(10,6))\n",
    "\n",
    "# Add title\n",
    "plt.title(\"First Dose Administered\")\n",
    "\n",
    "# Line chart  \n",
    "sns.lineplot(data=cvd_first)"
   ]
  },
  {
   "cell_type": "markdown",
   "id": "0ef1fd3a",
   "metadata": {},
   "source": [
    "# SECOND DOSE "
   ]
  },
  {
   "cell_type": "code",
   "execution_count": 21,
   "id": "7c16eb40",
   "metadata": {
    "execution": {
     "iopub.execute_input": "2022-04-21T08:04:42.642316Z",
     "iopub.status.busy": "2022-04-21T08:04:42.641909Z",
     "iopub.status.idle": "2022-04-21T08:04:43.000100Z",
     "shell.execute_reply": "2022-04-21T08:04:42.999200Z"
    },
    "papermill": {
     "duration": 0.415158,
     "end_time": "2022-04-21T08:04:43.002241",
     "exception": false,
     "start_time": "2022-04-21T08:04:42.587083",
     "status": "completed"
    },
    "tags": []
   },
   "outputs": [
    {
     "data": {
      "text/plain": [
       "<AxesSubplot:title={'center':'Second Dose Administered'}, xlabel='Updated On', ylabel='Second Dose Administered'>"
      ]
     },
     "execution_count": 21,
     "metadata": {},
     "output_type": "execute_result"
    },
    {
     "data": {
      "image/png": "[encoded data removed]",
      "text/plain": [
       "<Figure size 720x432 with 1 Axes>"
      ]
     },
     "metadata": {
      "needs_background": "light"
     },
     "output_type": "display_data"
    }
   ],
   "source": [
    "# Set the width and height of the figure\n",
    "plt.figure(figsize=(10,6))\n",
    "\n",
    "# Add title\n",
    "plt.title(\"Second Dose Administered\")\n",
    "\n",
    "# Line chart  \n",
    "sns.lineplot(data=cvd_second)"
   ]
  },
  {
   "cell_type": "markdown",
   "id": "d4de86b9",
   "metadata": {
    "papermill": {
     "duration": 0.053438,
     "end_time": "2022-04-21T08:04:43.577494",
     "exception": false,
     "start_time": "2022-04-21T08:04:43.524056",
     "status": "completed"
    },
    "tags": []
   },
   "source": [
    "# Visualizing Data Genderwise"
   ]
  },
  {
   "cell_type": "code",
   "execution_count": 23,
   "id": "02f14919",
   "metadata": {
    "execution": {
     "iopub.execute_input": "2022-04-21T08:04:43.714488Z",
     "iopub.status.busy": "2022-04-21T08:04:43.714206Z",
     "iopub.status.idle": "2022-04-21T08:04:43.737389Z",
     "shell.execute_reply": "2022-04-21T08:04:43.736455Z"
    },
    "papermill": {
     "duration": 0.101361,
     "end_time": "2022-04-21T08:04:43.741774",
     "exception": false,
     "start_time": "2022-04-21T08:04:43.640413",
     "status": "completed"
    },
    "tags": []
   },
   "outputs": [
    {
     "data": {
      "text/plain": [
       "<AxesSubplot:title={'center':'Male(Individuals Vaccinated)'}, xlabel='Updated On', ylabel='Second Dose Administered'>"
      ]
     },
     "execution_count": 23,
     "metadata": {},
     "output_type": "execute_result"
    },
    {
     "data": {
      "image/png": "[encoded data removed]",
      "text/plain": [
       "<Figure size 720x432 with 1 Axes>"
      ]
     },
     "metadata": {
      "needs_background": "light"
     },
     "output_type": "display_data"
    }
   ],
   "source": [
    "# Set the width and height of the figure\n",
    "plt.figure(figsize=(10,6))\n",
    "\n",
    "# Add title\n",
    "plt.title(\"Male(Individuals Vaccinated)\")\n",
    "\n",
    "# Line chart  \n",
    "sns.lineplot(data=cvd_second)"
   ]
  },
  {
   "cell_type": "code",
   "execution_count": 14,
   "id": "3b0c2378",
   "metadata": {
    "execution": {
     "iopub.execute_input": "2022-04-21T08:04:43.868088Z",
     "iopub.status.busy": "2022-04-21T08:04:43.867064Z",
     "iopub.status.idle": "2022-04-21T08:04:44.450355Z",
     "shell.execute_reply": "2022-04-21T08:04:44.449559Z"
    },
    "papermill": {
     "duration": 0.64431,
     "end_time": "2022-04-21T08:04:44.452896",
     "exception": false,
     "start_time": "2022-04-21T08:04:43.808586",
     "status": "completed"
    },
    "tags": []
   },
   "outputs": [
    {
     "data": {
      "text/plain": [
       "Text(0, 0.5, 'Cured')"
      ]
     },
     "execution_count": 14,
     "metadata": {},
     "output_type": "execute_result"
    },
    {
     "data": {
      "image/png": "[encoded data removed]",
      "text/plain": [
       "<Figure size 720x432 with 1 Axes>"
      ]
     },
     "metadata": {
      "needs_background": "light"
     },
     "output_type": "display_data"
    }
   ],
   "source": [
    "# Set the width and height of the figure\n",
    "plt.figure(figsize=(10,6))\n",
    "\n",
    "# Add title\n",
    "plt.title(\"Cured\")\n",
    "\n",
    "# Bar chart showing average arrival delay for Spirit Airlines flights by month\n",
    "sns.barplot(x=covid19India_df_by_State.index, y=covid19India_df_by_State['Cured'])\n",
    "\n",
    "# Add label for vertical axis\n",
    "plt.ylabel(\"Cured\")"
   ]
  },
  {
   "cell_type": "code",
   "execution_count": 15,
   "id": "88adbdba",
   "metadata": {
    "execution": {
     "iopub.execute_input": "2022-04-21T08:04:44.571373Z",
     "iopub.status.busy": "2022-04-21T08:04:44.571079Z",
     "iopub.status.idle": "2022-04-21T08:04:45.144676Z",
     "shell.execute_reply": "2022-04-21T08:04:45.143585Z"
    },
    "papermill": {
     "duration": 0.633395,
     "end_time": "2022-04-21T08:04:45.146713",
     "exception": false,
     "start_time": "2022-04-21T08:04:44.513318",
     "status": "completed"
    },
    "tags": []
   },
   "outputs": [
    {
     "data": {
      "text/plain": [
       "Text(0, 0.5, 'Confirmed')"
      ]
     },
     "execution_count": 15,
     "metadata": {},
     "output_type": "execute_result"
    },
    {
     "data": {
      "image/png": "[encoded data removed]",
      "text/plain": [
       "<Figure size 720x432 with 1 Axes>"
      ]
     },
     "metadata": {
      "needs_background": "light"
     },
     "output_type": "display_data"
    }
   ],
   "source": [
    "# Set the width and height of the figure\n",
    "plt.figure(figsize=(10,6))\n",
    "\n",
    "# Add title\n",
    "plt.title(\"Confirmed\")\n",
    "\n",
    "# Bar chart showing average arrival delay for Spirit Airlines flights by month\n",
    "sns.barplot(x=covid19India_df_by_State.index, y=covid19India_df_by_State['Confirmed'])\n",
    "\n",
    "# Add label for vertical axis\n",
    "plt.ylabel(\"Confirmed\")"
   ]
  },
  {
   "cell_type": "code",
   "execution_count": 16,
   "id": "c394c188",
   "metadata": {
    "execution": {
     "iopub.execute_input": "2022-04-21T08:04:45.261365Z",
     "iopub.status.busy": "2022-04-21T08:04:45.260380Z",
     "iopub.status.idle": "2022-04-21T08:04:45.927098Z",
     "shell.execute_reply": "2022-04-21T08:04:45.926207Z"
    },
    "papermill": {
     "duration": 0.726071,
     "end_time": "2022-04-21T08:04:45.929393",
     "exception": false,
     "start_time": "2022-04-21T08:04:45.203322",
     "status": "completed"
    },
    "tags": []
   },
   "outputs": [
    {
     "data": {
      "text/plain": [
       "Text(0, 0.5, 'Deaths')"
      ]
     },
     "execution_count": 16,
     "metadata": {},
     "output_type": "execute_result"
    },
    {
     "data": {
      "image/png": "[encoded data removed]",
      "text/plain": [
       "<Figure size 720x432 with 1 Axes>"
      ]
     },
     "metadata": {
      "needs_background": "light"
     },
     "output_type": "display_data"
    }
   ],
   "source": [
    "# Set the width and height of the figure\n",
    "plt.figure(figsize=(10,6))\n",
    "\n",
    "# Add title\n",
    "plt.title(\"Deaths\")\n",
    "\n",
    "# Bar chart showing average arrival delay for Spirit Airlines flights by month\n",
    "sns.barplot(x=covid19India_df_by_State.index, y=covid19India_df_by_State['Deaths'])\n",
    "\n",
    "# Add label for vertical axis\n",
    "plt.ylabel(\"Deaths\")"
   ]
  },
  {
   "cell_type": "markdown",
   "id": "6e766b9c",
   "metadata": {
    "papermill": {
     "duration": 0.059347,
     "end_time": "2022-04-21T08:04:46.048280",
     "exception": false,
     "start_time": "2022-04-21T08:04:45.988933",
     "status": "completed"
    },
    "tags": []
   },
   "source": []
  },
  {
   "cell_type": "markdown",
   "id": "30e1bd7e",
   "metadata": {
    "papermill": {
     "duration": 0.057435,
     "end_time": "2022-04-21T08:04:46.164800",
     "exception": false,
     "start_time": "2022-04-21T08:04:46.107365",
     "status": "completed"
    },
    "tags": []
   },
   "source": [
    "# EDA on StatewiseTestingDetails"
   ]
  },
  {
   "cell_type": "code",
   "execution_count": 17,
   "id": "f4363daf",
   "metadata": {
    "execution": {
     "iopub.execute_input": "2022-04-21T08:04:46.283859Z",
     "iopub.status.busy": "2022-04-21T08:04:46.283279Z",
     "iopub.status.idle": "2022-04-21T08:04:46.323482Z",
     "shell.execute_reply": "2022-04-21T08:04:46.322803Z"
    },
    "papermill": {
     "duration": 0.101363,
     "end_time": "2022-04-21T08:04:46.325678",
     "exception": false,
     "start_time": "2022-04-21T08:04:46.224315",
     "status": "completed"
    },
    "tags": []
   },
   "outputs": [],
   "source": [
    "\n",
    "input_path = '/kaggle/input/covid19-in-india/'\n",
    "\n",
    "#read file\n",
    "fname = 'StatewiseTestingDetails.csv'\n",
    "testing_df = pd.read_csv(os.path.join(input_path , fname) , index_col=\"Date\", parse_dates=True)\n"
   ]
  },
  {
   "cell_type": "code",
   "execution_count": 18,
   "id": "2e41a866",
   "metadata": {
    "execution": {
     "iopub.execute_input": "2022-04-21T08:04:46.448313Z",
     "iopub.status.busy": "2022-04-21T08:04:46.447786Z",
     "iopub.status.idle": "2022-04-21T08:04:46.452273Z",
     "shell.execute_reply": "2022-04-21T08:04:46.451749Z"
    },
    "papermill": {
     "duration": 0.0683,
     "end_time": "2022-04-21T08:04:46.453851",
     "exception": false,
     "start_time": "2022-04-21T08:04:46.385551",
     "status": "completed"
    },
    "tags": []
   },
   "outputs": [
    {
     "data": {
      "text/plain": [
       "(16336, 4)"
      ]
     },
     "execution_count": 18,
     "metadata": {},
     "output_type": "execute_result"
    }
   ],
   "source": [
    "testing_df.shape"
   ]
  },
  {
   "cell_type": "markdown",
   "id": "5b14aa5f",
   "metadata": {
    "papermill": {
     "duration": 0.057548,
     "end_time": "2022-04-21T08:04:46.569700",
     "exception": false,
     "start_time": "2022-04-21T08:04:46.512152",
     "status": "completed"
    },
    "tags": []
   },
   "source": [
    "This dataset contains 16336 rows and 5 cloumns."
   ]
  },
  {
   "cell_type": "code",
   "execution_count": 19,
   "id": "d6c4cb24",
   "metadata": {
    "execution": {
     "iopub.execute_input": "2022-04-21T08:04:46.689136Z",
     "iopub.status.busy": "2022-04-21T08:04:46.688608Z",
     "iopub.status.idle": "2022-04-21T08:04:46.701119Z",
     "shell.execute_reply": "2022-04-21T08:04:46.700214Z"
    },
    "papermill": {
     "duration": 0.076064,
     "end_time": "2022-04-21T08:04:46.704696",
     "exception": false,
     "start_time": "2022-04-21T08:04:46.628632",
     "status": "completed"
    },
    "tags": []
   },
   "outputs": [
    {
     "name": "stdout",
     "output_type": "stream",
     "text": [
      "<class 'pandas.core.frame.DataFrame'>\n",
      "DatetimeIndex: 16336 entries, 2020-04-17 to 2021-08-10\n",
      "Data columns (total 4 columns):\n",
      " #   Column        Non-Null Count  Dtype  \n",
      "---  ------        --------------  -----  \n",
      " 0   State         16336 non-null  object \n",
      " 1   TotalSamples  16336 non-null  float64\n",
      " 2   Negative      6969 non-null   object \n",
      " 3   Positive      5662 non-null   float64\n",
      "dtypes: float64(2), object(2)\n",
      "memory usage: 638.1+ KB\n"
     ]
    }
   ],
   "source": [
    "testing_df.info()"
   ]
  },
  {
   "cell_type": "markdown",
   "id": "962ec3bc",
   "metadata": {
    "papermill": {
     "duration": 0.057826,
     "end_time": "2022-04-21T08:04:46.821555",
     "exception": false,
     "start_time": "2022-04-21T08:04:46.763729",
     "status": "completed"
    },
    "tags": []
   },
   "source": [
    "This dataset has 4 cloumns :- State , TotalSamples, Negative and Positive"
   ]
  },
  {
   "cell_type": "markdown",
   "id": "022d786b",
   "metadata": {
    "papermill": {
     "duration": 0.058464,
     "end_time": "2022-04-21T08:04:46.938415",
     "exception": false,
     "start_time": "2022-04-21T08:04:46.879951",
     "status": "completed"
    },
    "tags": []
   },
   "source": [
    "Let us have a look at some of the rows.\n",
    "Certain cloumns have NaN values in Negative column"
   ]
  },
  {
   "cell_type": "code",
   "execution_count": 20,
   "id": "05d86f0b",
   "metadata": {
    "execution": {
     "iopub.execute_input": "2022-04-21T08:04:47.057567Z",
     "iopub.status.busy": "2022-04-21T08:04:47.056681Z",
     "iopub.status.idle": "2022-04-21T08:04:47.068530Z",
     "shell.execute_reply": "2022-04-21T08:04:47.067625Z"
    },
    "papermill": {
     "duration": 0.07299,
     "end_time": "2022-04-21T08:04:47.070588",
     "exception": false,
     "start_time": "2022-04-21T08:04:46.997598",
     "status": "completed"
    },
    "tags": []
   },
   "outputs": [
    {
     "data": {
      "text/html": [
       "<div>\n",
       "<style scoped>\n",
       "    .dataframe tbody tr th:only-of-type {\n",
       "        vertical-align: middle;\n",
       "    }\n",
       "\n",
       "    .dataframe tbody tr th {\n",
       "        vertical-align: top;\n",
       "    }\n",
       "\n",
       "    .dataframe thead th {\n",
       "        text-align: right;\n",
       "    }\n",
       "</style>\n",
       "<table border=\"1\" class=\"dataframe\">\n",
       "  <thead>\n",
       "    <tr style=\"text-align: right;\">\n",
       "      <th></th>\n",
       "      <th>State</th>\n",
       "      <th>TotalSamples</th>\n",
       "      <th>Negative</th>\n",
       "      <th>Positive</th>\n",
       "    </tr>\n",
       "    <tr>\n",
       "      <th>Date</th>\n",
       "      <th></th>\n",
       "      <th></th>\n",
       "      <th></th>\n",
       "      <th></th>\n",
       "    </tr>\n",
       "  </thead>\n",
       "  <tbody>\n",
       "    <tr>\n",
       "      <th>2020-04-17</th>\n",
       "      <td>Andaman and Nicobar Islands</td>\n",
       "      <td>1403.0</td>\n",
       "      <td>1210</td>\n",
       "      <td>12.0</td>\n",
       "    </tr>\n",
       "    <tr>\n",
       "      <th>2020-04-24</th>\n",
       "      <td>Andaman and Nicobar Islands</td>\n",
       "      <td>2679.0</td>\n",
       "      <td>NaN</td>\n",
       "      <td>27.0</td>\n",
       "    </tr>\n",
       "    <tr>\n",
       "      <th>2020-04-27</th>\n",
       "      <td>Andaman and Nicobar Islands</td>\n",
       "      <td>2848.0</td>\n",
       "      <td>NaN</td>\n",
       "      <td>33.0</td>\n",
       "    </tr>\n",
       "    <tr>\n",
       "      <th>2020-05-01</th>\n",
       "      <td>Andaman and Nicobar Islands</td>\n",
       "      <td>3754.0</td>\n",
       "      <td>NaN</td>\n",
       "      <td>33.0</td>\n",
       "    </tr>\n",
       "    <tr>\n",
       "      <th>2020-05-16</th>\n",
       "      <td>Andaman and Nicobar Islands</td>\n",
       "      <td>6677.0</td>\n",
       "      <td>NaN</td>\n",
       "      <td>33.0</td>\n",
       "    </tr>\n",
       "  </tbody>\n",
       "</table>\n",
       "</div>"
      ],
      "text/plain": [
       "                                  State  TotalSamples Negative  Positive\n",
       "Date                                                                    \n",
       "2020-04-17  Andaman and Nicobar Islands        1403.0     1210      12.0\n",
       "2020-04-24  Andaman and Nicobar Islands        2679.0      NaN      27.0\n",
       "2020-04-27  Andaman and Nicobar Islands        2848.0      NaN      33.0\n",
       "2020-05-01  Andaman and Nicobar Islands        3754.0      NaN      33.0\n",
       "2020-05-16  Andaman and Nicobar Islands        6677.0      NaN      33.0"
      ]
     },
     "execution_count": 20,
     "metadata": {},
     "output_type": "execute_result"
    }
   ],
   "source": [
    "testing_df.head(5)"
   ]
  },
  {
   "cell_type": "markdown",
   "id": "ee7eaf66",
   "metadata": {
    "papermill": {
     "duration": 0.058022,
     "end_time": "2022-04-21T08:04:47.187604",
     "exception": false,
     "start_time": "2022-04-21T08:04:47.129582",
     "status": "completed"
    },
    "tags": []
   },
   "source": [
    "# Data Visualization of complete data"
   ]
  },
  {
   "cell_type": "code",
   "execution_count": 21,
   "id": "269d286d",
   "metadata": {
    "execution": {
     "iopub.execute_input": "2022-04-21T08:04:47.305774Z",
     "iopub.status.busy": "2022-04-21T08:04:47.305463Z",
     "iopub.status.idle": "2022-04-21T08:05:05.690367Z",
     "shell.execute_reply": "2022-04-21T08:05:05.689314Z"
    },
    "papermill": {
     "duration": 18.448195,
     "end_time": "2022-04-21T08:05:05.694166",
     "exception": false,
     "start_time": "2022-04-21T08:04:47.245971",
     "status": "completed"
    },
    "tags": []
   },
   "outputs": [
    {
     "data": {
      "text/plain": [
       "<AxesSubplot:title={'center':'Full dataset'}, xlabel='Date'>"
      ]
     },
     "execution_count": 21,
     "metadata": {},
     "output_type": "execute_result"
    },
    {
     "data": {
      "image/png": "[encoded data removed]",
      "text/plain": [
       "<Figure size 1008x432 with 1 Axes>"
      ]
     },
     "metadata": {
      "needs_background": "light"
     },
     "output_type": "display_data"
    }
   ],
   "source": [
    "# Set the width and height of the figure\n",
    "plt.figure(figsize=(14,6))\n",
    "\n",
    "# Add title\n",
    "plt.title(\"Full dataset\")\n",
    "\n",
    "# Line chart  \n",
    "sns.lineplot(data=testing_df)"
   ]
  },
  {
   "cell_type": "markdown",
   "id": "ba4e9a47",
   "metadata": {
    "papermill": {
     "duration": 0.061714,
     "end_time": "2022-04-21T08:05:05.825643",
     "exception": false,
     "start_time": "2022-04-21T08:05:05.763929",
     "status": "completed"
    },
    "tags": []
   },
   "source": [
    "# How many entries for each state. \n",
    "\n",
    "value_counts() gives frequency of each state and then sorted using sort().\n"
   ]
  },
  {
   "cell_type": "code",
   "execution_count": 22,
   "id": "8075b091",
   "metadata": {
    "execution": {
     "iopub.execute_input": "2022-04-21T08:05:05.948738Z",
     "iopub.status.busy": "2022-04-21T08:05:05.948428Z",
     "iopub.status.idle": "2022-04-21T08:05:05.955910Z",
     "shell.execute_reply": "2022-04-21T08:05:05.955226Z"
    },
    "papermill": {
     "duration": 0.071295,
     "end_time": "2022-04-21T08:05:05.957765",
     "exception": false,
     "start_time": "2022-04-21T08:05:05.886470",
     "status": "completed"
    },
    "tags": []
   },
   "outputs": [
    {
     "data": {
      "text/plain": [
       "Dadra and Nagar Haveli and Daman and Diu    170\n",
       "Lakshadweep                                 195\n",
       "Ladakh                                      294\n",
       "Manipur                                     406\n",
       "Meghalaya                                   409\n",
       "Sikkim                                      413\n",
       "Telangana                                   419\n",
       "Tripura                                     447\n",
       "Andaman and Nicobar Islands                 453\n",
       "Mizoram                                     465\n",
       "Assam                                       469\n",
       "Arunachal Pradesh                           477\n",
       "Puducherry                                  478\n",
       "Chandigarh                                  479\n",
       "Chhattisgarh                                482\n",
       "Goa                                         483\n",
       "Jharkhand                                   484\n",
       "Nagaland                                    484\n",
       "Gujarat                                     487\n",
       "Andhra Pradesh                              488\n",
       "Himachal Pradesh                            488\n",
       "Maharashtra                                 488\n",
       "Bihar                                       489\n",
       "Delhi                                       489\n",
       "Jammu and Kashmir                           489\n",
       "Uttar Pradesh                               490\n",
       "Rajasthan                                   491\n",
       "Tamil Nadu                                  491\n",
       "Uttarakhand                                 491\n",
       "Punjab                                      491\n",
       "Karnataka                                   491\n",
       "Madhya Pradesh                              492\n",
       "Odisha                                      492\n",
       "Haryana                                     492\n",
       "West Bengal                                 493\n",
       "Kerala                                      497\n",
       "Name: State, dtype: int64"
      ]
     },
     "execution_count": 22,
     "metadata": {},
     "output_type": "execute_result"
    }
   ],
   "source": [
    "# State wise Observations\n",
    "testing_df.State.value_counts().sort_values() "
   ]
  },
  {
   "cell_type": "markdown",
   "id": "7f1ee609",
   "metadata": {
    "papermill": {
     "duration": 0.061046,
     "end_time": "2022-04-21T08:05:06.080536",
     "exception": false,
     "start_time": "2022-04-21T08:05:06.019490",
     "status": "completed"
    },
    "tags": []
   },
   "source": [
    "State where **Testing is lesser** are at top  :-\n",
    "\n",
    "Dadra and Nagar Haveli and Daman and Diu    170\n",
    "\n",
    "Lakshadweep                                 195\n",
    "\n",
    "Ladakh                                      294\n",
    "\n",
    "Manipur                                     406\n",
    "\n",
    "Meghalaya                                   409\n",
    "\n",
    "\n",
    "\n",
    "\n",
    "State where **Testing is higher** are at bottom  :-\n",
    "\n",
    "Odisha                                      492\n",
    "\n",
    "Haryana                                     492\n",
    "\n",
    "West Bengal                                 493\n",
    "\n",
    "Kerala                                      497\n",
    "\n",
    "Might be due to poulation and covid spread in these states."
   ]
  },
  {
   "cell_type": "markdown",
   "id": "5d75d41e",
   "metadata": {
    "papermill": {
     "duration": 0.060503,
     "end_time": "2022-04-21T08:05:06.202483",
     "exception": false,
     "start_time": "2022-04-21T08:05:06.141980",
     "status": "completed"
    },
    "tags": []
   },
   "source": []
  },
  {
   "cell_type": "code",
   "execution_count": 23,
   "id": "f30c5a80",
   "metadata": {
    "execution": {
     "iopub.execute_input": "2022-04-21T08:05:06.327874Z",
     "iopub.status.busy": "2022-04-21T08:05:06.327246Z",
     "iopub.status.idle": "2022-04-21T08:05:06.348252Z",
     "shell.execute_reply": "2022-04-21T08:05:06.347633Z"
    },
    "papermill": {
     "duration": 0.086188,
     "end_time": "2022-04-21T08:05:06.350088",
     "exception": false,
     "start_time": "2022-04-21T08:05:06.263900",
     "status": "completed"
    },
    "tags": []
   },
   "outputs": [
    {
     "data": {
      "text/html": [
       "<div>\n",
       "<style scoped>\n",
       "    .dataframe tbody tr th:only-of-type {\n",
       "        vertical-align: middle;\n",
       "    }\n",
       "\n",
       "    .dataframe tbody tr th {\n",
       "        vertical-align: top;\n",
       "    }\n",
       "\n",
       "    .dataframe thead th {\n",
       "        text-align: right;\n",
       "    }\n",
       "</style>\n",
       "<table border=\"1\" class=\"dataframe\">\n",
       "  <thead>\n",
       "    <tr style=\"text-align: right;\">\n",
       "      <th></th>\n",
       "      <th>State</th>\n",
       "      <th>TotalSamples</th>\n",
       "      <th>Negative</th>\n",
       "      <th>Positive</th>\n",
       "    </tr>\n",
       "    <tr>\n",
       "      <th>Date</th>\n",
       "      <th></th>\n",
       "      <th></th>\n",
       "      <th></th>\n",
       "      <th></th>\n",
       "    </tr>\n",
       "  </thead>\n",
       "  <tbody>\n",
       "    <tr>\n",
       "      <th>2020-04-01</th>\n",
       "      <td>West Bengal</td>\n",
       "      <td>659.0</td>\n",
       "      <td>568</td>\n",
       "      <td>37.0</td>\n",
       "    </tr>\n",
       "    <tr>\n",
       "      <th>2020-04-04</th>\n",
       "      <td>West Bengal</td>\n",
       "      <td>1042.0</td>\n",
       "      <td>NaN</td>\n",
       "      <td>NaN</td>\n",
       "    </tr>\n",
       "    <tr>\n",
       "      <th>2020-04-06</th>\n",
       "      <td>West Bengal</td>\n",
       "      <td>1301.0</td>\n",
       "      <td>NaN</td>\n",
       "      <td>NaN</td>\n",
       "    </tr>\n",
       "    <tr>\n",
       "      <th>2020-04-07</th>\n",
       "      <td>West Bengal</td>\n",
       "      <td>1487.0</td>\n",
       "      <td>NaN</td>\n",
       "      <td>NaN</td>\n",
       "    </tr>\n",
       "    <tr>\n",
       "      <th>2020-04-09</th>\n",
       "      <td>West Bengal</td>\n",
       "      <td>1889.0</td>\n",
       "      <td>NaN</td>\n",
       "      <td>NaN</td>\n",
       "    </tr>\n",
       "    <tr>\n",
       "      <th>...</th>\n",
       "      <td>...</td>\n",
       "      <td>...</td>\n",
       "      <td>...</td>\n",
       "      <td>...</td>\n",
       "    </tr>\n",
       "    <tr>\n",
       "      <th>2021-08-06</th>\n",
       "      <td>West Bengal</td>\n",
       "      <td>15999961.0</td>\n",
       "      <td>NaN</td>\n",
       "      <td>NaN</td>\n",
       "    </tr>\n",
       "    <tr>\n",
       "      <th>2021-08-07</th>\n",
       "      <td>West Bengal</td>\n",
       "      <td>16045662.0</td>\n",
       "      <td>NaN</td>\n",
       "      <td>NaN</td>\n",
       "    </tr>\n",
       "    <tr>\n",
       "      <th>2021-08-08</th>\n",
       "      <td>West Bengal</td>\n",
       "      <td>16092192.0</td>\n",
       "      <td>NaN</td>\n",
       "      <td>NaN</td>\n",
       "    </tr>\n",
       "    <tr>\n",
       "      <th>2021-08-09</th>\n",
       "      <td>West Bengal</td>\n",
       "      <td>16122345.0</td>\n",
       "      <td>NaN</td>\n",
       "      <td>NaN</td>\n",
       "    </tr>\n",
       "    <tr>\n",
       "      <th>2021-08-10</th>\n",
       "      <td>West Bengal</td>\n",
       "      <td>16162814.0</td>\n",
       "      <td>NaN</td>\n",
       "      <td>NaN</td>\n",
       "    </tr>\n",
       "  </tbody>\n",
       "</table>\n",
       "<p>493 rows × 4 columns</p>\n",
       "</div>"
      ],
      "text/plain": [
       "                  State  TotalSamples Negative  Positive\n",
       "Date                                                    \n",
       "2020-04-01  West Bengal         659.0      568      37.0\n",
       "2020-04-04  West Bengal        1042.0      NaN       NaN\n",
       "2020-04-06  West Bengal        1301.0      NaN       NaN\n",
       "2020-04-07  West Bengal        1487.0      NaN       NaN\n",
       "2020-04-09  West Bengal        1889.0      NaN       NaN\n",
       "...                 ...           ...      ...       ...\n",
       "2021-08-06  West Bengal    15999961.0      NaN       NaN\n",
       "2021-08-07  West Bengal    16045662.0      NaN       NaN\n",
       "2021-08-08  West Bengal    16092192.0      NaN       NaN\n",
       "2021-08-09  West Bengal    16122345.0      NaN       NaN\n",
       "2021-08-10  West Bengal    16162814.0      NaN       NaN\n",
       "\n",
       "[493 rows x 4 columns]"
      ]
     },
     "execution_count": 23,
     "metadata": {},
     "output_type": "execute_result"
    }
   ],
   "source": [
    "testing_df_Haryana = testing_df[testing_df.State=='Haryana']\n",
    "testing_df_Haryana\n",
    "testing_df_Kerala = testing_df[testing_df.State=='Kerala']\n",
    "testing_df_Kerala\n",
    "testing_df_WestBengal = testing_df[testing_df.State=='West Bengal']\n",
    "testing_df_WestBengal"
   ]
  },
  {
   "cell_type": "markdown",
   "id": "6060962c",
   "metadata": {
    "papermill": {
     "duration": 0.061335,
     "end_time": "2022-04-21T08:05:06.473299",
     "exception": false,
     "start_time": "2022-04-21T08:05:06.411964",
     "status": "completed"
    },
    "tags": []
   },
   "source": [
    "# State Wise Data Visualization "
   ]
  },
  {
   "cell_type": "markdown",
   "id": "429b2639",
   "metadata": {
    "papermill": {
     "duration": 0.06093,
     "end_time": "2022-04-21T08:05:06.595356",
     "exception": false,
     "start_time": "2022-04-21T08:05:06.534426",
     "status": "completed"
    },
    "tags": []
   },
   "source": [
    "## States with higher Testing"
   ]
  },
  {
   "cell_type": "code",
   "execution_count": 24,
   "id": "80353506",
   "metadata": {
    "execution": {
     "iopub.execute_input": "2022-04-21T08:05:06.720287Z",
     "iopub.status.busy": "2022-04-21T08:05:06.719700Z",
     "iopub.status.idle": "2022-04-21T08:05:06.739196Z",
     "shell.execute_reply": "2022-04-21T08:05:06.738639Z"
    },
    "papermill": {
     "duration": 0.083777,
     "end_time": "2022-04-21T08:05:06.740904",
     "exception": false,
     "start_time": "2022-04-21T08:05:06.657127",
     "status": "completed"
    },
    "tags": []
   },
   "outputs": [
    {
     "data": {
      "text/html": [
       "<div>\n",
       "<style scoped>\n",
       "    .dataframe tbody tr th:only-of-type {\n",
       "        vertical-align: middle;\n",
       "    }\n",
       "\n",
       "    .dataframe tbody tr th {\n",
       "        vertical-align: top;\n",
       "    }\n",
       "\n",
       "    .dataframe thead th {\n",
       "        text-align: right;\n",
       "    }\n",
       "</style>\n",
       "<table border=\"1\" class=\"dataframe\">\n",
       "  <thead>\n",
       "    <tr style=\"text-align: right;\">\n",
       "      <th></th>\n",
       "      <th>State</th>\n",
       "      <th>TotalSamples</th>\n",
       "      <th>Negative</th>\n",
       "      <th>Positive</th>\n",
       "    </tr>\n",
       "    <tr>\n",
       "      <th>Date</th>\n",
       "      <th></th>\n",
       "      <th></th>\n",
       "      <th></th>\n",
       "      <th></th>\n",
       "    </tr>\n",
       "  </thead>\n",
       "  <tbody>\n",
       "    <tr>\n",
       "      <th>2020-04-01</th>\n",
       "      <td>West Bengal</td>\n",
       "      <td>659.0</td>\n",
       "      <td>568</td>\n",
       "      <td>37.0</td>\n",
       "    </tr>\n",
       "    <tr>\n",
       "      <th>2020-04-04</th>\n",
       "      <td>West Bengal</td>\n",
       "      <td>1042.0</td>\n",
       "      <td>NaN</td>\n",
       "      <td>NaN</td>\n",
       "    </tr>\n",
       "    <tr>\n",
       "      <th>2020-04-06</th>\n",
       "      <td>West Bengal</td>\n",
       "      <td>1301.0</td>\n",
       "      <td>NaN</td>\n",
       "      <td>NaN</td>\n",
       "    </tr>\n",
       "    <tr>\n",
       "      <th>2020-04-07</th>\n",
       "      <td>West Bengal</td>\n",
       "      <td>1487.0</td>\n",
       "      <td>NaN</td>\n",
       "      <td>NaN</td>\n",
       "    </tr>\n",
       "    <tr>\n",
       "      <th>2020-04-09</th>\n",
       "      <td>West Bengal</td>\n",
       "      <td>1889.0</td>\n",
       "      <td>NaN</td>\n",
       "      <td>NaN</td>\n",
       "    </tr>\n",
       "    <tr>\n",
       "      <th>...</th>\n",
       "      <td>...</td>\n",
       "      <td>...</td>\n",
       "      <td>...</td>\n",
       "      <td>...</td>\n",
       "    </tr>\n",
       "    <tr>\n",
       "      <th>2021-08-06</th>\n",
       "      <td>West Bengal</td>\n",
       "      <td>15999961.0</td>\n",
       "      <td>NaN</td>\n",
       "      <td>NaN</td>\n",
       "    </tr>\n",
       "    <tr>\n",
       "      <th>2021-08-07</th>\n",
       "      <td>West Bengal</td>\n",
       "      <td>16045662.0</td>\n",
       "      <td>NaN</td>\n",
       "      <td>NaN</td>\n",
       "    </tr>\n",
       "    <tr>\n",
       "      <th>2021-08-08</th>\n",
       "      <td>West Bengal</td>\n",
       "      <td>16092192.0</td>\n",
       "      <td>NaN</td>\n",
       "      <td>NaN</td>\n",
       "    </tr>\n",
       "    <tr>\n",
       "      <th>2021-08-09</th>\n",
       "      <td>West Bengal</td>\n",
       "      <td>16122345.0</td>\n",
       "      <td>NaN</td>\n",
       "      <td>NaN</td>\n",
       "    </tr>\n",
       "    <tr>\n",
       "      <th>2021-08-10</th>\n",
       "      <td>West Bengal</td>\n",
       "      <td>16162814.0</td>\n",
       "      <td>NaN</td>\n",
       "      <td>NaN</td>\n",
       "    </tr>\n",
       "  </tbody>\n",
       "</table>\n",
       "<p>493 rows × 4 columns</p>\n",
       "</div>"
      ],
      "text/plain": [
       "                  State  TotalSamples Negative  Positive\n",
       "Date                                                    \n",
       "2020-04-01  West Bengal         659.0      568      37.0\n",
       "2020-04-04  West Bengal        1042.0      NaN       NaN\n",
       "2020-04-06  West Bengal        1301.0      NaN       NaN\n",
       "2020-04-07  West Bengal        1487.0      NaN       NaN\n",
       "2020-04-09  West Bengal        1889.0      NaN       NaN\n",
       "...                 ...           ...      ...       ...\n",
       "2021-08-06  West Bengal    15999961.0      NaN       NaN\n",
       "2021-08-07  West Bengal    16045662.0      NaN       NaN\n",
       "2021-08-08  West Bengal    16092192.0      NaN       NaN\n",
       "2021-08-09  West Bengal    16122345.0      NaN       NaN\n",
       "2021-08-10  West Bengal    16162814.0      NaN       NaN\n",
       "\n",
       "[493 rows x 4 columns]"
      ]
     },
     "execution_count": 24,
     "metadata": {},
     "output_type": "execute_result"
    }
   ],
   "source": [
    "testing_df_Haryana = testing_df[testing_df.State=='Haryana']\n",
    "testing_df_Haryana\n",
    "testing_df_Kerala = testing_df[testing_df.State=='Kerala']\n",
    "testing_df_Kerala\n",
    "testing_df_WestBengal = testing_df[testing_df.State=='West Bengal']\n",
    "testing_df_WestBengal"
   ]
  },
  {
   "cell_type": "code",
   "execution_count": 25,
   "id": "08d6381e",
   "metadata": {
    "execution": {
     "iopub.execute_input": "2022-04-21T08:05:06.867288Z",
     "iopub.status.busy": "2022-04-21T08:05:06.866800Z",
     "iopub.status.idle": "2022-04-21T08:05:07.186253Z",
     "shell.execute_reply": "2022-04-21T08:05:07.185442Z"
    },
    "papermill": {
     "duration": 0.384322,
     "end_time": "2022-04-21T08:05:07.187995",
     "exception": false,
     "start_time": "2022-04-21T08:05:06.803673",
     "status": "completed"
    },
    "tags": []
   },
   "outputs": [
    {
     "data": {
      "text/plain": [
       "<AxesSubplot:title={'center':'Haryana dataset'}, xlabel='Date'>"
      ]
     },
     "execution_count": 25,
     "metadata": {},
     "output_type": "execute_result"
    },
    {
     "data": {
      "image/png": "[encoded data removed]",
      "text/plain": [
       "<Figure size 720x432 with 1 Axes>"
      ]
     },
     "metadata": {
      "needs_background": "light"
     },
     "output_type": "display_data"
    }
   ],
   "source": [
    "# Set the width and height of the figure\n",
    "plt.figure(figsize=(10,6))\n",
    "\n",
    "# Add title\n",
    "plt.title(\"Haryana dataset\")\n",
    "\n",
    "# Line chart  \n",
    "sns.lineplot(data=testing_df_Haryana)"
   ]
  },
  {
   "cell_type": "code",
   "execution_count": 26,
   "id": "8f52e381",
   "metadata": {
    "execution": {
     "iopub.execute_input": "2022-04-21T08:05:07.316704Z",
     "iopub.status.busy": "2022-04-21T08:05:07.316115Z",
     "iopub.status.idle": "2022-04-21T08:05:07.652078Z",
     "shell.execute_reply": "2022-04-21T08:05:07.651446Z"
    },
    "papermill": {
     "duration": 0.402313,
     "end_time": "2022-04-21T08:05:07.653907",
     "exception": false,
     "start_time": "2022-04-21T08:05:07.251594",
     "status": "completed"
    },
    "tags": []
   },
   "outputs": [
    {
     "data": {
      "text/plain": [
       "<AxesSubplot:title={'center':'Kerala dataset'}, xlabel='Date'>"
      ]
     },
     "execution_count": 26,
     "metadata": {},
     "output_type": "execute_result"
    },
    {
     "data": {
      "image/png": "[encoded data removed]",
      "text/plain": [
       "<Figure size 720x432 with 1 Axes>"
      ]
     },
     "metadata": {
      "needs_background": "light"
     },
     "output_type": "display_data"
    }
   ],
   "source": [
    "# Set the width and height of the figure\n",
    "plt.figure(figsize=(10,6))\n",
    "\n",
    "# Add title\n",
    "plt.title(\"Kerala dataset\")\n",
    "\n",
    "# Line chart  \n",
    "sns.lineplot(data=testing_df_Kerala)"
   ]
  },
  {
   "cell_type": "code",
   "execution_count": 27,
   "id": "d5ea85b1",
   "metadata": {
    "execution": {
     "iopub.execute_input": "2022-04-21T08:05:07.786302Z",
     "iopub.status.busy": "2022-04-21T08:05:07.785809Z",
     "iopub.status.idle": "2022-04-21T08:05:08.119117Z",
     "shell.execute_reply": "2022-04-21T08:05:08.118247Z"
    },
    "papermill": {
     "duration": 0.401834,
     "end_time": "2022-04-21T08:05:08.121062",
     "exception": false,
     "start_time": "2022-04-21T08:05:07.719228",
     "status": "completed"
    },
    "tags": []
   },
   "outputs": [
    {
     "data": {
      "text/plain": [
       "<AxesSubplot:title={'center':'West Bengal dataset'}, xlabel='Date'>"
      ]
     },
     "execution_count": 27,
     "metadata": {},
     "output_type": "execute_result"
    },
    {
     "data": {
      "image/png": "[encoded data removed]",
      "text/plain": [
       "<Figure size 720x432 with 1 Axes>"
      ]
     },
     "metadata": {
      "needs_background": "light"
     },
     "output_type": "display_data"
    }
   ],
   "source": [
    "# Set the width and height of the figure\n",
    "plt.figure(figsize=(10,6))\n",
    "\n",
    "# Add title\n",
    "plt.title(\"West Bengal dataset\")\n",
    "\n",
    "# Line chart  \n",
    "sns.lineplot(data=testing_df_WestBengal)"
   ]
  },
  {
   "cell_type": "markdown",
   "id": "3ce79cd7",
   "metadata": {
    "papermill": {
     "duration": 0.065825,
     "end_time": "2022-04-21T08:05:08.253535",
     "exception": false,
     "start_time": "2022-04-21T08:05:08.187710",
     "status": "completed"
    },
    "tags": []
   },
   "source": [
    "## States with Lower Testing"
   ]
  },
  {
   "cell_type": "code",
   "execution_count": 28,
   "id": "babcce39",
   "metadata": {
    "execution": {
     "iopub.execute_input": "2022-04-21T08:05:08.387091Z",
     "iopub.status.busy": "2022-04-21T08:05:08.386817Z",
     "iopub.status.idle": "2022-04-21T08:05:08.408535Z",
     "shell.execute_reply": "2022-04-21T08:05:08.407729Z"
    },
    "papermill": {
     "duration": 0.091402,
     "end_time": "2022-04-21T08:05:08.410368",
     "exception": false,
     "start_time": "2022-04-21T08:05:08.318966",
     "status": "completed"
    },
    "tags": []
   },
   "outputs": [
    {
     "data": {
      "text/html": [
       "<div>\n",
       "<style scoped>\n",
       "    .dataframe tbody tr th:only-of-type {\n",
       "        vertical-align: middle;\n",
       "    }\n",
       "\n",
       "    .dataframe tbody tr th {\n",
       "        vertical-align: top;\n",
       "    }\n",
       "\n",
       "    .dataframe thead th {\n",
       "        text-align: right;\n",
       "    }\n",
       "</style>\n",
       "<table border=\"1\" class=\"dataframe\">\n",
       "  <thead>\n",
       "    <tr style=\"text-align: right;\">\n",
       "      <th></th>\n",
       "      <th>State</th>\n",
       "      <th>TotalSamples</th>\n",
       "      <th>Negative</th>\n",
       "      <th>Positive</th>\n",
       "    </tr>\n",
       "    <tr>\n",
       "      <th>Date</th>\n",
       "      <th></th>\n",
       "      <th></th>\n",
       "      <th></th>\n",
       "      <th></th>\n",
       "    </tr>\n",
       "  </thead>\n",
       "  <tbody>\n",
       "    <tr>\n",
       "      <th>2020-04-13</th>\n",
       "      <td>Ladakh</td>\n",
       "      <td>618.0</td>\n",
       "      <td>NaN</td>\n",
       "      <td>17.0</td>\n",
       "    </tr>\n",
       "    <tr>\n",
       "      <th>2020-04-14</th>\n",
       "      <td>Ladakh</td>\n",
       "      <td>760.0</td>\n",
       "      <td>615</td>\n",
       "      <td>17.0</td>\n",
       "    </tr>\n",
       "    <tr>\n",
       "      <th>2020-04-15</th>\n",
       "      <td>Ladakh</td>\n",
       "      <td>820.0</td>\n",
       "      <td>657</td>\n",
       "      <td>18.0</td>\n",
       "    </tr>\n",
       "    <tr>\n",
       "      <th>2020-04-16</th>\n",
       "      <td>Ladakh</td>\n",
       "      <td>917.0</td>\n",
       "      <td>695</td>\n",
       "      <td>18.0</td>\n",
       "    </tr>\n",
       "    <tr>\n",
       "      <th>2020-04-19</th>\n",
       "      <td>Ladakh</td>\n",
       "      <td>991.0</td>\n",
       "      <td>797</td>\n",
       "      <td>18.0</td>\n",
       "    </tr>\n",
       "    <tr>\n",
       "      <th>...</th>\n",
       "      <td>...</td>\n",
       "      <td>...</td>\n",
       "      <td>...</td>\n",
       "      <td>...</td>\n",
       "    </tr>\n",
       "    <tr>\n",
       "      <th>2021-08-05</th>\n",
       "      <td>Ladakh</td>\n",
       "      <td>446614.0</td>\n",
       "      <td>NaN</td>\n",
       "      <td>NaN</td>\n",
       "    </tr>\n",
       "    <tr>\n",
       "      <th>2021-08-06</th>\n",
       "      <td>Ladakh</td>\n",
       "      <td>448829.0</td>\n",
       "      <td>NaN</td>\n",
       "      <td>NaN</td>\n",
       "    </tr>\n",
       "    <tr>\n",
       "      <th>2021-08-07</th>\n",
       "      <td>Ladakh</td>\n",
       "      <td>450438.0</td>\n",
       "      <td>NaN</td>\n",
       "      <td>NaN</td>\n",
       "    </tr>\n",
       "    <tr>\n",
       "      <th>2021-08-08</th>\n",
       "      <td>Ladakh</td>\n",
       "      <td>451917.0</td>\n",
       "      <td>NaN</td>\n",
       "      <td>NaN</td>\n",
       "    </tr>\n",
       "    <tr>\n",
       "      <th>2021-08-09</th>\n",
       "      <td>Ladakh</td>\n",
       "      <td>454086.0</td>\n",
       "      <td>NaN</td>\n",
       "      <td>NaN</td>\n",
       "    </tr>\n",
       "  </tbody>\n",
       "</table>\n",
       "<p>294 rows × 4 columns</p>\n",
       "</div>"
      ],
      "text/plain": [
       "             State  TotalSamples Negative  Positive\n",
       "Date                                               \n",
       "2020-04-13  Ladakh         618.0      NaN      17.0\n",
       "2020-04-14  Ladakh         760.0      615      17.0\n",
       "2020-04-15  Ladakh         820.0      657      18.0\n",
       "2020-04-16  Ladakh         917.0      695      18.0\n",
       "2020-04-19  Ladakh         991.0      797      18.0\n",
       "...            ...           ...      ...       ...\n",
       "2021-08-05  Ladakh      446614.0      NaN       NaN\n",
       "2021-08-06  Ladakh      448829.0      NaN       NaN\n",
       "2021-08-07  Ladakh      450438.0      NaN       NaN\n",
       "2021-08-08  Ladakh      451917.0      NaN       NaN\n",
       "2021-08-09  Ladakh      454086.0      NaN       NaN\n",
       "\n",
       "[294 rows x 4 columns]"
      ]
     },
     "execution_count": 28,
     "metadata": {},
     "output_type": "execute_result"
    }
   ],
   "source": [
    "testing_df_Dadra = testing_df[testing_df.State=='Dadra and Nagar Haveli and Daman and Diu']\n",
    "testing_df_Dadra\n",
    "testing_df_Lakshadweep = testing_df[testing_df.State=='Lakshadweep']\n",
    "testing_df_Lakshadweep\n",
    "testing_df_Ladakh = testing_df[testing_df.State=='Ladakh']\n",
    "testing_df_Ladakh\n",
    "\n"
   ]
  },
  {
   "cell_type": "code",
   "execution_count": 29,
   "id": "2c1a8e8c",
   "metadata": {
    "execution": {
     "iopub.execute_input": "2022-04-21T08:05:08.544198Z",
     "iopub.status.busy": "2022-04-21T08:05:08.543950Z",
     "iopub.status.idle": "2022-04-21T08:05:08.839265Z",
     "shell.execute_reply": "2022-04-21T08:05:08.838534Z"
    },
    "papermill": {
     "duration": 0.365522,
     "end_time": "2022-04-21T08:05:08.841837",
     "exception": false,
     "start_time": "2022-04-21T08:05:08.476315",
     "status": "completed"
    },
    "tags": []
   },
   "outputs": [
    {
     "data": {
      "text/plain": [
       "<AxesSubplot:title={'center':'Dadra and Nagar Haveli dataset'}, xlabel='Date'>"
      ]
     },
     "execution_count": 29,
     "metadata": {},
     "output_type": "execute_result"
    },
    {
     "data": {
      "image/png": "[encoded data removed]",
      "text/plain": [
       "<Figure size 720x432 with 1 Axes>"
      ]
     },
     "metadata": {
      "needs_background": "light"
     },
     "output_type": "display_data"
    }
   ],
   "source": [
    "# Set the width and height of the figure\n",
    "plt.figure(figsize=(10,6))\n",
    "\n",
    "# Add title\n",
    "plt.title(\"Dadra and Nagar Haveli dataset\")\n",
    "\n",
    "# Line chart  \n",
    "sns.lineplot(data=testing_df_Dadra)"
   ]
  },
  {
   "cell_type": "code",
   "execution_count": 30,
   "id": "9ced1ef8",
   "metadata": {
    "execution": {
     "iopub.execute_input": "2022-04-21T08:05:08.980253Z",
     "iopub.status.busy": "2022-04-21T08:05:08.979960Z",
     "iopub.status.idle": "2022-04-21T08:05:09.272699Z",
     "shell.execute_reply": "2022-04-21T08:05:09.271868Z"
    },
    "papermill": {
     "duration": 0.365363,
     "end_time": "2022-04-21T08:05:09.274583",
     "exception": false,
     "start_time": "2022-04-21T08:05:08.909220",
     "status": "completed"
    },
    "tags": []
   },
   "outputs": [
    {
     "data": {
      "text/plain": [
       "<AxesSubplot:title={'center':'Lakshadweep dataset'}, xlabel='Date'>"
      ]
     },
     "execution_count": 30,
     "metadata": {},
     "output_type": "execute_result"
    },
    {
     "data": {
      "image/png": "[encoded data removed]",
      "text/plain": [
       "<Figure size 720x432 with 1 Axes>"
      ]
     },
     "metadata": {
      "needs_background": "light"
     },
     "output_type": "display_data"
    }
   ],
   "source": [
    "# Set the width and height of the figure\n",
    "plt.figure(figsize=(10,6))\n",
    "\n",
    "# Add title\n",
    "plt.title(\"Lakshadweep dataset\")\n",
    "\n",
    "# Line chart  \n",
    "sns.lineplot(data=testing_df_Lakshadweep)"
   ]
  },
  {
   "cell_type": "code",
   "execution_count": 31,
   "id": "4636944d",
   "metadata": {
    "execution": {
     "iopub.execute_input": "2022-04-21T08:05:09.415937Z",
     "iopub.status.busy": "2022-04-21T08:05:09.415651Z",
     "iopub.status.idle": "2022-04-21T08:05:09.717768Z",
     "shell.execute_reply": "2022-04-21T08:05:09.716993Z"
    },
    "papermill": {
     "duration": 0.37636,
     "end_time": "2022-04-21T08:05:09.719723",
     "exception": false,
     "start_time": "2022-04-21T08:05:09.343363",
     "status": "completed"
    },
    "tags": []
   },
   "outputs": [
    {
     "data": {
      "text/plain": [
       "<AxesSubplot:title={'center':'Ladakh dataset'}, xlabel='Date'>"
      ]
     },
     "execution_count": 31,
     "metadata": {},
     "output_type": "execute_result"
    },
    {
     "data": {
      "image/png": "[encoded data removed]",
      "text/plain": [
       "<Figure size 720x432 with 1 Axes>"
      ]
     },
     "metadata": {
      "needs_background": "light"
     },
     "output_type": "display_data"
    }
   ],
   "source": [
    "# Set the width and height of the figure\n",
    "plt.figure(figsize=(10,6))\n",
    "\n",
    "# Add title\n",
    "plt.title(\"Ladakh dataset\")\n",
    "\n",
    "# Line chart  \n",
    "sns.lineplot(data=testing_df_Ladakh)"
   ]
  },
  {
   "cell_type": "markdown",
   "id": "d1306532",
   "metadata": {
    "papermill": {
     "duration": 0.070285,
     "end_time": "2022-04-21T08:05:09.860648",
     "exception": false,
     "start_time": "2022-04-21T08:05:09.790363",
     "status": "completed"
    },
    "tags": []
   },
   "source": [
    "# Visualizing TotalSamples State wise\n",
    "\n",
    "We groupby State and then sum Total Samples, Positive and Negative."
   ]
  },
  {
   "cell_type": "code",
   "execution_count": 32,
   "id": "ca18a984",
   "metadata": {
    "execution": {
     "iopub.execute_input": "2022-04-21T08:05:10.005065Z",
     "iopub.status.busy": "2022-04-21T08:05:10.004551Z",
     "iopub.status.idle": "2022-04-21T08:05:10.024063Z",
     "shell.execute_reply": "2022-04-21T08:05:10.023528Z"
    },
    "papermill": {
     "duration": 0.094477,
     "end_time": "2022-04-21T08:05:10.025748",
     "exception": false,
     "start_time": "2022-04-21T08:05:09.931271",
     "status": "completed"
    },
    "tags": []
   },
   "outputs": [
    {
     "data": {
      "text/html": [
       "<div>\n",
       "<style scoped>\n",
       "    .dataframe tbody tr th:only-of-type {\n",
       "        vertical-align: middle;\n",
       "    }\n",
       "\n",
       "    .dataframe tbody tr th {\n",
       "        vertical-align: top;\n",
       "    }\n",
       "\n",
       "    .dataframe thead th {\n",
       "        text-align: right;\n",
       "    }\n",
       "</style>\n",
       "<table border=\"1\" class=\"dataframe\">\n",
       "  <thead>\n",
       "    <tr style=\"text-align: right;\">\n",
       "      <th></th>\n",
       "      <th>State</th>\n",
       "      <th>TotalSamples</th>\n",
       "      <th>Positive</th>\n",
       "    </tr>\n",
       "  </thead>\n",
       "  <tbody>\n",
       "    <tr>\n",
       "      <th>0</th>\n",
       "      <td>Andaman and Nicobar Islands</td>\n",
       "      <td>8.747008e+07</td>\n",
       "      <td>1763591.0</td>\n",
       "    </tr>\n",
       "    <tr>\n",
       "      <th>1</th>\n",
       "      <td>Andhra Pradesh</td>\n",
       "      <td>4.967773e+09</td>\n",
       "      <td>3859260.0</td>\n",
       "    </tr>\n",
       "    <tr>\n",
       "      <th>2</th>\n",
       "      <td>Arunachal Pradesh</td>\n",
       "      <td>1.636096e+08</td>\n",
       "      <td>51245.0</td>\n",
       "    </tr>\n",
       "    <tr>\n",
       "      <th>3</th>\n",
       "      <td>Assam</td>\n",
       "      <td>2.853509e+09</td>\n",
       "      <td>2065991.0</td>\n",
       "    </tr>\n",
       "    <tr>\n",
       "      <th>4</th>\n",
       "      <td>Bihar</td>\n",
       "      <td>7.392796e+09</td>\n",
       "      <td>1859345.0</td>\n",
       "    </tr>\n",
       "    <tr>\n",
       "      <th>5</th>\n",
       "      <td>Chandigarh</td>\n",
       "      <td>9.974705e+07</td>\n",
       "      <td>59195.0</td>\n",
       "    </tr>\n",
       "    <tr>\n",
       "      <th>6</th>\n",
       "      <td>Chhattisgarh</td>\n",
       "      <td>1.863129e+09</td>\n",
       "      <td>467857.0</td>\n",
       "    </tr>\n",
       "    <tr>\n",
       "      <th>7</th>\n",
       "      <td>Dadra and Nagar Haveli and Daman and Diu</td>\n",
       "      <td>6.324267e+06</td>\n",
       "      <td>169010.0</td>\n",
       "    </tr>\n",
       "    <tr>\n",
       "      <th>8</th>\n",
       "      <td>Delhi</td>\n",
       "      <td>4.310596e+09</td>\n",
       "      <td>6848173.0</td>\n",
       "    </tr>\n",
       "    <tr>\n",
       "      <th>9</th>\n",
       "      <td>Goa</td>\n",
       "      <td>1.979067e+08</td>\n",
       "      <td>266181.0</td>\n",
       "    </tr>\n",
       "    <tr>\n",
       "      <th>10</th>\n",
       "      <td>Gujarat</td>\n",
       "      <td>4.623914e+09</td>\n",
       "      <td>8009517.0</td>\n",
       "    </tr>\n",
       "    <tr>\n",
       "      <th>11</th>\n",
       "      <td>Haryana</td>\n",
       "      <td>2.056736e+09</td>\n",
       "      <td>2830153.0</td>\n",
       "    </tr>\n",
       "    <tr>\n",
       "      <th>12</th>\n",
       "      <td>Himachal Pradesh</td>\n",
       "      <td>4.271429e+08</td>\n",
       "      <td>119494.0</td>\n",
       "    </tr>\n",
       "    <tr>\n",
       "      <th>13</th>\n",
       "      <td>Jammu and Kashmir</td>\n",
       "      <td>1.960284e+09</td>\n",
       "      <td>977615.0</td>\n",
       "    </tr>\n",
       "    <tr>\n",
       "      <th>14</th>\n",
       "      <td>Jharkhand</td>\n",
       "      <td>2.053512e+09</td>\n",
       "      <td>51696495.0</td>\n",
       "    </tr>\n",
       "    <tr>\n",
       "      <th>15</th>\n",
       "      <td>Karnataka</td>\n",
       "      <td>6.773248e+09</td>\n",
       "      <td>4701197.0</td>\n",
       "    </tr>\n",
       "    <tr>\n",
       "      <th>16</th>\n",
       "      <td>Kerala</td>\n",
       "      <td>4.269006e+09</td>\n",
       "      <td>79723175.0</td>\n",
       "    </tr>\n",
       "    <tr>\n",
       "      <th>17</th>\n",
       "      <td>Ladakh</td>\n",
       "      <td>4.213546e+07</td>\n",
       "      <td>89027.0</td>\n",
       "    </tr>\n",
       "    <tr>\n",
       "      <th>18</th>\n",
       "      <td>Lakshadweep</td>\n",
       "      <td>2.001715e+07</td>\n",
       "      <td>0.0</td>\n",
       "    </tr>\n",
       "    <tr>\n",
       "      <th>19</th>\n",
       "      <td>Madhya Pradesh</td>\n",
       "      <td>2.298458e+09</td>\n",
       "      <td>9584080.0</td>\n",
       "    </tr>\n",
       "    <tr>\n",
       "      <th>20</th>\n",
       "      <td>Maharashtra</td>\n",
       "      <td>7.334574e+09</td>\n",
       "      <td>96901583.0</td>\n",
       "    </tr>\n",
       "    <tr>\n",
       "      <th>21</th>\n",
       "      <td>Manipur</td>\n",
       "      <td>1.855130e+08</td>\n",
       "      <td>101501.0</td>\n",
       "    </tr>\n",
       "    <tr>\n",
       "      <th>22</th>\n",
       "      <td>Meghalaya</td>\n",
       "      <td>1.251595e+08</td>\n",
       "      <td>33904.0</td>\n",
       "    </tr>\n",
       "    <tr>\n",
       "      <th>23</th>\n",
       "      <td>Mizoram</td>\n",
       "      <td>8.460259e+07</td>\n",
       "      <td>19785.0</td>\n",
       "    </tr>\n",
       "    <tr>\n",
       "      <th>24</th>\n",
       "      <td>Nagaland</td>\n",
       "      <td>5.183817e+07</td>\n",
       "      <td>90682.0</td>\n",
       "    </tr>\n",
       "    <tr>\n",
       "      <th>25</th>\n",
       "      <td>Odisha</td>\n",
       "      <td>2.965651e+09</td>\n",
       "      <td>2214458.0</td>\n",
       "    </tr>\n",
       "    <tr>\n",
       "      <th>26</th>\n",
       "      <td>Puducherry</td>\n",
       "      <td>2.383986e+08</td>\n",
       "      <td>6287323.0</td>\n",
       "    </tr>\n",
       "    <tr>\n",
       "      <th>27</th>\n",
       "      <td>Punjab</td>\n",
       "      <td>2.026576e+09</td>\n",
       "      <td>960287.0</td>\n",
       "    </tr>\n",
       "    <tr>\n",
       "      <th>28</th>\n",
       "      <td>Rajasthan</td>\n",
       "      <td>2.520540e+09</td>\n",
       "      <td>2445076.0</td>\n",
       "    </tr>\n",
       "    <tr>\n",
       "      <th>29</th>\n",
       "      <td>Sikkim</td>\n",
       "      <td>2.979406e+07</td>\n",
       "      <td>17644.0</td>\n",
       "    </tr>\n",
       "    <tr>\n",
       "      <th>30</th>\n",
       "      <td>Tamil Nadu</td>\n",
       "      <td>6.711189e+09</td>\n",
       "      <td>12772604.0</td>\n",
       "    </tr>\n",
       "    <tr>\n",
       "      <th>31</th>\n",
       "      <td>Telangana</td>\n",
       "      <td>3.422977e+09</td>\n",
       "      <td>3855373.0</td>\n",
       "    </tr>\n",
       "    <tr>\n",
       "      <th>32</th>\n",
       "      <td>Tripura</td>\n",
       "      <td>2.467333e+08</td>\n",
       "      <td>12630766.0</td>\n",
       "    </tr>\n",
       "    <tr>\n",
       "      <th>33</th>\n",
       "      <td>Uttar Pradesh</td>\n",
       "      <td>1.138818e+10</td>\n",
       "      <td>2743971.0</td>\n",
       "    </tr>\n",
       "    <tr>\n",
       "      <th>34</th>\n",
       "      <td>Uttarakhand</td>\n",
       "      <td>9.792698e+08</td>\n",
       "      <td>350257.0</td>\n",
       "    </tr>\n",
       "    <tr>\n",
       "      <th>35</th>\n",
       "      <td>West Bengal</td>\n",
       "      <td>3.051636e+09</td>\n",
       "      <td>3487431.0</td>\n",
       "    </tr>\n",
       "  </tbody>\n",
       "</table>\n",
       "</div>"
      ],
      "text/plain": [
       "                                       State  TotalSamples    Positive\n",
       "0                Andaman and Nicobar Islands  8.747008e+07   1763591.0\n",
       "1                             Andhra Pradesh  4.967773e+09   3859260.0\n",
       "2                          Arunachal Pradesh  1.636096e+08     51245.0\n",
       "3                                      Assam  2.853509e+09   2065991.0\n",
       "4                                      Bihar  7.392796e+09   1859345.0\n",
       "5                                 Chandigarh  9.974705e+07     59195.0\n",
       "6                               Chhattisgarh  1.863129e+09    467857.0\n",
       "7   Dadra and Nagar Haveli and Daman and Diu  6.324267e+06    169010.0\n",
       "8                                      Delhi  4.310596e+09   6848173.0\n",
       "9                                        Goa  1.979067e+08    266181.0\n",
       "10                                   Gujarat  4.623914e+09   8009517.0\n",
       "11                                   Haryana  2.056736e+09   2830153.0\n",
       "12                          Himachal Pradesh  4.271429e+08    119494.0\n",
       "13                         Jammu and Kashmir  1.960284e+09    977615.0\n",
       "14                                 Jharkhand  2.053512e+09  51696495.0\n",
       "15                                 Karnataka  6.773248e+09   4701197.0\n",
       "16                                    Kerala  4.269006e+09  79723175.0\n",
       "17                                    Ladakh  4.213546e+07     89027.0\n",
       "18                               Lakshadweep  2.001715e+07         0.0\n",
       "19                            Madhya Pradesh  2.298458e+09   9584080.0\n",
       "20                               Maharashtra  7.334574e+09  96901583.0\n",
       "21                                   Manipur  1.855130e+08    101501.0\n",
       "22                                 Meghalaya  1.251595e+08     33904.0\n",
       "23                                   Mizoram  8.460259e+07     19785.0\n",
       "24                                  Nagaland  5.183817e+07     90682.0\n",
       "25                                    Odisha  2.965651e+09   2214458.0\n",
       "26                                Puducherry  2.383986e+08   6287323.0\n",
       "27                                    Punjab  2.026576e+09    960287.0\n",
       "28                                 Rajasthan  2.520540e+09   2445076.0\n",
       "29                                    Sikkim  2.979406e+07     17644.0\n",
       "30                                Tamil Nadu  6.711189e+09  12772604.0\n",
       "31                                 Telangana  3.422977e+09   3855373.0\n",
       "32                                   Tripura  2.467333e+08  12630766.0\n",
       "33                             Uttar Pradesh  1.138818e+10   2743971.0\n",
       "34                               Uttarakhand  9.792698e+08    350257.0\n",
       "35                               West Bengal  3.051636e+09   3487431.0"
      ]
     },
     "execution_count": 32,
     "metadata": {},
     "output_type": "execute_result"
    }
   ],
   "source": [
    "testing_df_by_State = testing_df.groupby('State')[['TotalSamples','Positive' ,'Negative']].sum().reset_index()\n",
    "testing_df_by_State"
   ]
  },
  {
   "cell_type": "code",
   "execution_count": 33,
   "id": "5f340fad",
   "metadata": {
    "execution": {
     "iopub.execute_input": "2022-04-21T08:05:10.171435Z",
     "iopub.status.busy": "2022-04-21T08:05:10.170952Z",
     "iopub.status.idle": "2022-04-21T08:05:10.576973Z",
     "shell.execute_reply": "2022-04-21T08:05:10.576155Z"
    },
    "papermill": {
     "duration": 0.480439,
     "end_time": "2022-04-21T08:05:10.579080",
     "exception": false,
     "start_time": "2022-04-21T08:05:10.098641",
     "status": "completed"
    },
    "tags": []
   },
   "outputs": [
    {
     "data": {
      "text/plain": [
       "Text(0, 0.5, 'TotalSamples')"
      ]
     },
     "execution_count": 33,
     "metadata": {},
     "output_type": "execute_result"
    },
    {
     "data": {
      "image/png": "[encoded data removed]",
      "text/plain": [
       "<Figure size 720x432 with 1 Axes>"
      ]
     },
     "metadata": {
      "needs_background": "light"
     },
     "output_type": "display_data"
    }
   ],
   "source": [
    "# Set the width and height of the figure\n",
    "plt.figure(figsize=(10,6))\n",
    "\n",
    "# Add title\n",
    "plt.title(\"TotalSamples\")\n",
    "\n",
    "# Bar chart showing average arrival delay for Spirit Airlines flights by month\n",
    "sns.barplot(x=testing_df_by_State.index, y=testing_df_by_State['TotalSamples'])\n",
    "\n",
    "# Add label for vertical axis\n",
    "plt.ylabel(\"TotalSamples\")"
   ]
  },
  {
   "cell_type": "markdown",
   "id": "eeb66809",
   "metadata": {
    "papermill": {
     "duration": 0.072045,
     "end_time": "2022-04-21T08:05:10.723193",
     "exception": false,
     "start_time": "2022-04-21T08:05:10.651148",
     "status": "completed"
    },
    "tags": []
   },
   "source": [
    "# Visualizing Positive Samples State wise"
   ]
  },
  {
   "cell_type": "code",
   "execution_count": 34,
   "id": "655695a1",
   "metadata": {
    "execution": {
     "iopub.execute_input": "2022-04-21T08:05:10.869331Z",
     "iopub.status.busy": "2022-04-21T08:05:10.868827Z",
     "iopub.status.idle": "2022-04-21T08:05:11.417304Z",
     "shell.execute_reply": "2022-04-21T08:05:11.416549Z"
    },
    "papermill": {
     "duration": 0.62341,
     "end_time": "2022-04-21T08:05:11.419146",
     "exception": false,
     "start_time": "2022-04-21T08:05:10.795736",
     "status": "completed"
    },
    "tags": []
   },
   "outputs": [
    {
     "data": {
      "text/plain": [
       "Text(0, 0.5, 'Positive Samples')"
      ]
     },
     "execution_count": 34,
     "metadata": {},
     "output_type": "execute_result"
    },
    {
     "data": {
      "image/png": "[encoded data removed]",
      "text/plain": [
       "<Figure size 720x432 with 1 Axes>"
      ]
     },
     "metadata": {
      "needs_background": "light"
     },
     "output_type": "display_data"
    }
   ],
   "source": [
    "# Set the width and height of the figure\n",
    "plt.figure(figsize=(10,6))\n",
    "\n",
    "# Add title\n",
    "plt.title(\"Positive Samples\")\n",
    "\n",
    "# Bar chart showing average arrival delay for Spirit Airlines flights by month\n",
    "sns.barplot(x=testing_df_by_State.index, y=testing_df_by_State['Positive'])\n",
    "\n",
    "# Add label for vertical axis\n",
    "plt.ylabel(\"Positive Samples\")"
   ]
  },
  {
   "cell_type": "markdown",
   "id": "24331643",
   "metadata": {
    "papermill": {
     "duration": 0.073613,
     "end_time": "2022-04-21T08:05:11.566656",
     "exception": false,
     "start_time": "2022-04-21T08:05:11.493043",
     "status": "completed"
    },
    "tags": []
   },
   "source": [
    "# EDA on StateWise Vaccine details"
   ]
  },
  {
   "cell_type": "code",
   "execution_count": 35,
   "id": "0102815c",
   "metadata": {
    "execution": {
     "iopub.execute_input": "2022-04-21T08:05:11.715714Z",
     "iopub.status.busy": "2022-04-21T08:05:11.715205Z",
     "iopub.status.idle": "2022-04-21T08:05:11.766854Z",
     "shell.execute_reply": "2022-04-21T08:05:11.766008Z"
    },
    "papermill": {
     "duration": 0.1292,
     "end_time": "2022-04-21T08:05:11.769122",
     "exception": false,
     "start_time": "2022-04-21T08:05:11.639922",
     "status": "completed"
    },
    "tags": []
   },
   "outputs": [],
   "source": [
    "input_path = '/kaggle/input/covid19-in-india/'\n",
    "\n",
    "#read file\n",
    "fname = 'covid_vaccine_statewise.csv'\n",
    "vaccine_df = pd.read_csv(os.path.join(input_path , fname),index_col=\"Updated On\", parse_dates=True )\n"
   ]
  },
  {
   "cell_type": "code",
   "execution_count": 36,
   "id": "578f5f3e",
   "metadata": {
    "execution": {
     "iopub.execute_input": "2022-04-21T08:05:11.917926Z",
     "iopub.status.busy": "2022-04-21T08:05:11.917478Z",
     "iopub.status.idle": "2022-04-21T08:05:11.922406Z",
     "shell.execute_reply": "2022-04-21T08:05:11.921870Z"
    },
    "papermill": {
     "duration": 0.081702,
     "end_time": "2022-04-21T08:05:11.924006",
     "exception": false,
     "start_time": "2022-04-21T08:05:11.842304",
     "status": "completed"
    },
    "tags": []
   },
   "outputs": [
    {
     "data": {
      "text/plain": [
       "(7845, 23)"
      ]
     },
     "execution_count": 36,
     "metadata": {},
     "output_type": "execute_result"
    }
   ],
   "source": [
    "vaccine_df.shape"
   ]
  },
  {
   "cell_type": "code",
   "execution_count": 37,
   "id": "1e78f4a6",
   "metadata": {
    "execution": {
     "iopub.execute_input": "2022-04-21T08:05:12.073424Z",
     "iopub.status.busy": "2022-04-21T08:05:12.072919Z",
     "iopub.status.idle": "2022-04-21T08:05:12.084996Z",
     "shell.execute_reply": "2022-04-21T08:05:12.084427Z"
    },
    "papermill": {
     "duration": 0.088774,
     "end_time": "2022-04-21T08:05:12.087061",
     "exception": false,
     "start_time": "2022-04-21T08:05:11.998287",
     "status": "completed"
    },
    "tags": []
   },
   "outputs": [
    {
     "name": "stdout",
     "output_type": "stream",
     "text": [
      "<class 'pandas.core.frame.DataFrame'>\n",
      "DatetimeIndex: 7845 entries, 2021-01-16 to 2021-08-15\n",
      "Data columns (total 23 columns):\n",
      " #   Column                               Non-Null Count  Dtype  \n",
      "---  ------                               --------------  -----  \n",
      " 0   State                                7845 non-null   object \n",
      " 1   Total Doses Administered             7621 non-null   float64\n",
      " 2   Sessions                             7621 non-null   float64\n",
      " 3    Sites                               7621 non-null   float64\n",
      " 4   First Dose Administered              7621 non-null   float64\n",
      " 5   Second Dose Administered             7621 non-null   float64\n",
      " 6   Male (Doses Administered)            7461 non-null   float64\n",
      " 7   Female (Doses Administered)          7461 non-null   float64\n",
      " 8   Transgender (Doses Administered)     7461 non-null   float64\n",
      " 9    Covaxin (Doses Administered)        7621 non-null   float64\n",
      " 10  CoviShield (Doses Administered)      7621 non-null   float64\n",
      " 11  Sputnik V (Doses Administered)       2995 non-null   float64\n",
      " 12  AEFI                                 5438 non-null   float64\n",
      " 13  18-44 Years (Doses Administered)     1702 non-null   float64\n",
      " 14  45-60 Years (Doses Administered)     1702 non-null   float64\n",
      " 15  60+ Years (Doses Administered)       1702 non-null   float64\n",
      " 16  18-44 Years(Individuals Vaccinated)  3733 non-null   float64\n",
      " 17  45-60 Years(Individuals Vaccinated)  3734 non-null   float64\n",
      " 18  60+ Years(Individuals Vaccinated)    3734 non-null   float64\n",
      " 19  Male(Individuals Vaccinated)         160 non-null    float64\n",
      " 20  Female(Individuals Vaccinated)       160 non-null    float64\n",
      " 21  Transgender(Individuals Vaccinated)  160 non-null    float64\n",
      " 22  Total Individuals Vaccinated         5919 non-null   float64\n",
      "dtypes: float64(22), object(1)\n",
      "memory usage: 1.4+ MB\n"
     ]
    }
   ],
   "source": [
    "vaccine_df.info()"
   ]
  },
  {
   "cell_type": "code",
   "execution_count": 38,
   "id": "e33be11c",
   "metadata": {
    "execution": {
     "iopub.execute_input": "2022-04-21T08:05:12.237326Z",
     "iopub.status.busy": "2022-04-21T08:05:12.236788Z",
     "iopub.status.idle": "2022-04-21T08:05:12.262807Z",
     "shell.execute_reply": "2022-04-21T08:05:12.261867Z"
    },
    "papermill": {
     "duration": 0.103422,
     "end_time": "2022-04-21T08:05:12.264574",
     "exception": false,
     "start_time": "2022-04-21T08:05:12.161152",
     "status": "completed"
    },
    "tags": []
   },
   "outputs": [
    {
     "data": {
      "text/html": [
       "<div>\n",
       "<style scoped>\n",
       "    .dataframe tbody tr th:only-of-type {\n",
       "        vertical-align: middle;\n",
       "    }\n",
       "\n",
       "    .dataframe tbody tr th {\n",
       "        vertical-align: top;\n",
       "    }\n",
       "\n",
       "    .dataframe thead th {\n",
       "        text-align: right;\n",
       "    }\n",
       "</style>\n",
       "<table border=\"1\" class=\"dataframe\">\n",
       "  <thead>\n",
       "    <tr style=\"text-align: right;\">\n",
       "      <th></th>\n",
       "      <th>State</th>\n",
       "      <th>Total Doses Administered</th>\n",
       "      <th>Sessions</th>\n",
       "      <th>Sites</th>\n",
       "      <th>First Dose Administered</th>\n",
       "      <th>Second Dose Administered</th>\n",
       "      <th>Male (Doses Administered)</th>\n",
       "      <th>Female (Doses Administered)</th>\n",
       "      <th>Transgender (Doses Administered)</th>\n",
       "      <th>Covaxin (Doses Administered)</th>\n",
       "      <th>...</th>\n",
       "      <th>18-44 Years (Doses Administered)</th>\n",
       "      <th>45-60 Years (Doses Administered)</th>\n",
       "      <th>60+ Years (Doses Administered)</th>\n",
       "      <th>18-44 Years(Individuals Vaccinated)</th>\n",
       "      <th>45-60 Years(Individuals Vaccinated)</th>\n",
       "      <th>60+ Years(Individuals Vaccinated)</th>\n",
       "      <th>Male(Individuals Vaccinated)</th>\n",
       "      <th>Female(Individuals Vaccinated)</th>\n",
       "      <th>Transgender(Individuals Vaccinated)</th>\n",
       "      <th>Total Individuals Vaccinated</th>\n",
       "    </tr>\n",
       "    <tr>\n",
       "      <th>Updated On</th>\n",
       "      <th></th>\n",
       "      <th></th>\n",
       "      <th></th>\n",
       "      <th></th>\n",
       "      <th></th>\n",
       "      <th></th>\n",
       "      <th></th>\n",
       "      <th></th>\n",
       "      <th></th>\n",
       "      <th></th>\n",
       "      <th></th>\n",
       "      <th></th>\n",
       "      <th></th>\n",
       "      <th></th>\n",
       "      <th></th>\n",
       "      <th></th>\n",
       "      <th></th>\n",
       "      <th></th>\n",
       "      <th></th>\n",
       "      <th></th>\n",
       "      <th></th>\n",
       "    </tr>\n",
       "  </thead>\n",
       "  <tbody>\n",
       "    <tr>\n",
       "      <th>2021-01-16</th>\n",
       "      <td>India</td>\n",
       "      <td>48276.0</td>\n",
       "      <td>3455.0</td>\n",
       "      <td>2957.0</td>\n",
       "      <td>48276.0</td>\n",
       "      <td>0.0</td>\n",
       "      <td>NaN</td>\n",
       "      <td>NaN</td>\n",
       "      <td>NaN</td>\n",
       "      <td>579.0</td>\n",
       "      <td>...</td>\n",
       "      <td>NaN</td>\n",
       "      <td>NaN</td>\n",
       "      <td>NaN</td>\n",
       "      <td>NaN</td>\n",
       "      <td>NaN</td>\n",
       "      <td>NaN</td>\n",
       "      <td>23757.0</td>\n",
       "      <td>24517.0</td>\n",
       "      <td>2.0</td>\n",
       "      <td>48276.0</td>\n",
       "    </tr>\n",
       "    <tr>\n",
       "      <th>2021-01-17</th>\n",
       "      <td>India</td>\n",
       "      <td>58604.0</td>\n",
       "      <td>8532.0</td>\n",
       "      <td>4954.0</td>\n",
       "      <td>58604.0</td>\n",
       "      <td>0.0</td>\n",
       "      <td>NaN</td>\n",
       "      <td>NaN</td>\n",
       "      <td>NaN</td>\n",
       "      <td>635.0</td>\n",
       "      <td>...</td>\n",
       "      <td>NaN</td>\n",
       "      <td>NaN</td>\n",
       "      <td>NaN</td>\n",
       "      <td>NaN</td>\n",
       "      <td>NaN</td>\n",
       "      <td>NaN</td>\n",
       "      <td>27348.0</td>\n",
       "      <td>31252.0</td>\n",
       "      <td>4.0</td>\n",
       "      <td>58604.0</td>\n",
       "    </tr>\n",
       "    <tr>\n",
       "      <th>2021-01-18</th>\n",
       "      <td>India</td>\n",
       "      <td>99449.0</td>\n",
       "      <td>13611.0</td>\n",
       "      <td>6583.0</td>\n",
       "      <td>99449.0</td>\n",
       "      <td>0.0</td>\n",
       "      <td>NaN</td>\n",
       "      <td>NaN</td>\n",
       "      <td>NaN</td>\n",
       "      <td>1299.0</td>\n",
       "      <td>...</td>\n",
       "      <td>NaN</td>\n",
       "      <td>NaN</td>\n",
       "      <td>NaN</td>\n",
       "      <td>NaN</td>\n",
       "      <td>NaN</td>\n",
       "      <td>NaN</td>\n",
       "      <td>41361.0</td>\n",
       "      <td>58083.0</td>\n",
       "      <td>5.0</td>\n",
       "      <td>99449.0</td>\n",
       "    </tr>\n",
       "    <tr>\n",
       "      <th>2021-01-19</th>\n",
       "      <td>India</td>\n",
       "      <td>195525.0</td>\n",
       "      <td>17855.0</td>\n",
       "      <td>7951.0</td>\n",
       "      <td>195525.0</td>\n",
       "      <td>0.0</td>\n",
       "      <td>NaN</td>\n",
       "      <td>NaN</td>\n",
       "      <td>NaN</td>\n",
       "      <td>3017.0</td>\n",
       "      <td>...</td>\n",
       "      <td>NaN</td>\n",
       "      <td>NaN</td>\n",
       "      <td>NaN</td>\n",
       "      <td>NaN</td>\n",
       "      <td>NaN</td>\n",
       "      <td>NaN</td>\n",
       "      <td>81901.0</td>\n",
       "      <td>113613.0</td>\n",
       "      <td>11.0</td>\n",
       "      <td>195525.0</td>\n",
       "    </tr>\n",
       "    <tr>\n",
       "      <th>2021-01-20</th>\n",
       "      <td>India</td>\n",
       "      <td>251280.0</td>\n",
       "      <td>25472.0</td>\n",
       "      <td>10504.0</td>\n",
       "      <td>251280.0</td>\n",
       "      <td>0.0</td>\n",
       "      <td>NaN</td>\n",
       "      <td>NaN</td>\n",
       "      <td>NaN</td>\n",
       "      <td>3946.0</td>\n",
       "      <td>...</td>\n",
       "      <td>NaN</td>\n",
       "      <td>NaN</td>\n",
       "      <td>NaN</td>\n",
       "      <td>NaN</td>\n",
       "      <td>NaN</td>\n",
       "      <td>NaN</td>\n",
       "      <td>98111.0</td>\n",
       "      <td>153145.0</td>\n",
       "      <td>24.0</td>\n",
       "      <td>251280.0</td>\n",
       "    </tr>\n",
       "  </tbody>\n",
       "</table>\n",
       "<p>5 rows × 23 columns</p>\n",
       "</div>"
      ],
      "text/plain": [
       "            State  Total Doses Administered  Sessions   Sites   \\\n",
       "Updated On                                                       \n",
       "2021-01-16  India                   48276.0    3455.0   2957.0   \n",
       "2021-01-17  India                   58604.0    8532.0   4954.0   \n",
       "2021-01-18  India                   99449.0   13611.0   6583.0   \n",
       "2021-01-19  India                  195525.0   17855.0   7951.0   \n",
       "2021-01-20  India                  251280.0   25472.0  10504.0   \n",
       "\n",
       "            First Dose Administered  Second Dose Administered  \\\n",
       "Updated On                                                      \n",
       "2021-01-16                  48276.0                       0.0   \n",
       "2021-01-17                  58604.0                       0.0   \n",
       "2021-01-18                  99449.0                       0.0   \n",
       "2021-01-19                 195525.0                       0.0   \n",
       "2021-01-20                 251280.0                       0.0   \n",
       "\n",
       "            Male (Doses Administered)  Female (Doses Administered)  \\\n",
       "Updated On                                                           \n",
       "2021-01-16                        NaN                          NaN   \n",
       "2021-01-17                        NaN                          NaN   \n",
       "2021-01-18                        NaN                          NaN   \n",
       "2021-01-19                        NaN                          NaN   \n",
       "2021-01-20                        NaN                          NaN   \n",
       "\n",
       "            Transgender (Doses Administered)   Covaxin (Doses Administered)  \\\n",
       "Updated On                                                                    \n",
       "2021-01-16                               NaN                          579.0   \n",
       "2021-01-17                               NaN                          635.0   \n",
       "2021-01-18                               NaN                         1299.0   \n",
       "2021-01-19                               NaN                         3017.0   \n",
       "2021-01-20                               NaN                         3946.0   \n",
       "\n",
       "            ...  18-44 Years (Doses Administered)  \\\n",
       "Updated On  ...                                     \n",
       "2021-01-16  ...                               NaN   \n",
       "2021-01-17  ...                               NaN   \n",
       "2021-01-18  ...                               NaN   \n",
       "2021-01-19  ...                               NaN   \n",
       "2021-01-20  ...                               NaN   \n",
       "\n",
       "            45-60 Years (Doses Administered)  60+ Years (Doses Administered)  \\\n",
       "Updated On                                                                     \n",
       "2021-01-16                               NaN                             NaN   \n",
       "2021-01-17                               NaN                             NaN   \n",
       "2021-01-18                               NaN                             NaN   \n",
       "2021-01-19                               NaN                             NaN   \n",
       "2021-01-20                               NaN                             NaN   \n",
       "\n",
       "            18-44 Years(Individuals Vaccinated)  \\\n",
       "Updated On                                        \n",
       "2021-01-16                                  NaN   \n",
       "2021-01-17                                  NaN   \n",
       "2021-01-18                                  NaN   \n",
       "2021-01-19                                  NaN   \n",
       "2021-01-20                                  NaN   \n",
       "\n",
       "            45-60 Years(Individuals Vaccinated)  \\\n",
       "Updated On                                        \n",
       "2021-01-16                                  NaN   \n",
       "2021-01-17                                  NaN   \n",
       "2021-01-18                                  NaN   \n",
       "2021-01-19                                  NaN   \n",
       "2021-01-20                                  NaN   \n",
       "\n",
       "            60+ Years(Individuals Vaccinated)  Male(Individuals Vaccinated)  \\\n",
       "Updated On                                                                    \n",
       "2021-01-16                                NaN                       23757.0   \n",
       "2021-01-17                                NaN                       27348.0   \n",
       "2021-01-18                                NaN                       41361.0   \n",
       "2021-01-19                                NaN                       81901.0   \n",
       "2021-01-20                                NaN                       98111.0   \n",
       "\n",
       "            Female(Individuals Vaccinated)  \\\n",
       "Updated On                                   \n",
       "2021-01-16                         24517.0   \n",
       "2021-01-17                         31252.0   \n",
       "2021-01-18                         58083.0   \n",
       "2021-01-19                        113613.0   \n",
       "2021-01-20                        153145.0   \n",
       "\n",
       "            Transgender(Individuals Vaccinated)  Total Individuals Vaccinated  \n",
       "Updated On                                                                     \n",
       "2021-01-16                                  2.0                       48276.0  \n",
       "2021-01-17                                  4.0                       58604.0  \n",
       "2021-01-18                                  5.0                       99449.0  \n",
       "2021-01-19                                 11.0                      195525.0  \n",
       "2021-01-20                                 24.0                      251280.0  \n",
       "\n",
       "[5 rows x 23 columns]"
      ]
     },
     "execution_count": 38,
     "metadata": {},
     "output_type": "execute_result"
    }
   ],
   "source": [
    "vaccine_df.head()"
   ]
  },
  {
   "cell_type": "code",
   "execution_count": 39,
   "id": "4f66280c",
   "metadata": {
    "execution": {
     "iopub.execute_input": "2022-04-21T08:05:12.416807Z",
     "iopub.status.busy": "2022-04-21T08:05:12.416548Z",
     "iopub.status.idle": "2022-04-21T08:05:12.422003Z",
     "shell.execute_reply": "2022-04-21T08:05:12.421405Z"
    },
    "papermill": {
     "duration": 0.084561,
     "end_time": "2022-04-21T08:05:12.423658",
     "exception": false,
     "start_time": "2022-04-21T08:05:12.339097",
     "status": "completed"
    },
    "tags": []
   },
   "outputs": [
    {
     "data": {
      "text/plain": [
       "array(['India', 'Andaman and Nicobar Islands', 'Andhra Pradesh',\n",
       "       'Arunachal Pradesh', 'Assam', 'Bihar', 'Chandigarh',\n",
       "       'Chhattisgarh', 'Dadra and Nagar Haveli and Daman and Diu',\n",
       "       'Delhi', 'Goa', 'Gujarat', 'Haryana', 'Himachal Pradesh',\n",
       "       'Jammu and Kashmir', 'Jharkhand', 'Karnataka', 'Kerala', 'Ladakh',\n",
       "       'Lakshadweep', 'Madhya Pradesh', 'Maharashtra', 'Manipur',\n",
       "       'Meghalaya', 'Mizoram', 'Nagaland', 'Odisha', 'Puducherry',\n",
       "       'Punjab', 'Rajasthan', 'Sikkim', 'Tamil Nadu', 'Telangana',\n",
       "       'Tripura', 'Uttar Pradesh', 'Uttarakhand', 'West Bengal'],\n",
       "      dtype=object)"
      ]
     },
     "execution_count": 39,
     "metadata": {},
     "output_type": "execute_result"
    }
   ],
   "source": [
    "vaccine_df['State'].unique()\n",
    "#y\n",
    "#len(vaccine_df['State'].unique())\n"
   ]
  },
  {
   "cell_type": "code",
   "execution_count": 40,
   "id": "f8595969",
   "metadata": {
    "execution": {
     "iopub.execute_input": "2022-04-21T08:05:12.576590Z",
     "iopub.status.busy": "2022-04-21T08:05:12.576018Z",
     "iopub.status.idle": "2022-04-21T08:05:16.595120Z",
     "shell.execute_reply": "2022-04-21T08:05:16.594237Z"
    },
    "papermill": {
     "duration": 4.099069,
     "end_time": "2022-04-21T08:05:16.598301",
     "exception": false,
     "start_time": "2022-04-21T08:05:12.499232",
     "status": "completed"
    },
    "tags": []
   },
   "outputs": [
    {
     "data": {
      "text/plain": [
       "Text(0, 0.5, 'Male(Individuals Vaccinated)')"
      ]
     },
     "execution_count": 40,
     "metadata": {},
     "output_type": "execute_result"
    },
    {
     "data": {
      "image/png": "[encoded data removed]",
      "text/plain": [
       "<Figure size 720x432 with 1 Axes>"
      ]
     },
     "metadata": {
      "needs_background": "light"
     },
     "output_type": "display_data"
    }
   ],
   "source": [
    "# Set the width and height of the figure\n",
    "plt.figure(figsize=(10,6))\n",
    "\n",
    "# Add title\n",
    "plt.title(\"Male(Individuals Vaccinated)\")\n",
    "\n",
    "# Bar chart showing average arrival delay for Spirit Airlines flights by month\n",
    "sns.barplot(x=vaccine_df.index, y=vaccine_df['Male(Individuals Vaccinated)'] )\n",
    "\n",
    "# Add label for vertical axis\n",
    "plt.ylabel(\"Male(Individuals Vaccinated)\")"
   ]
  },
  {
   "cell_type": "code",
   "execution_count": 41,
   "id": "5eb3c838",
   "metadata": {
    "execution": {
     "iopub.execute_input": "2022-04-21T08:05:16.788259Z",
     "iopub.status.busy": "2022-04-21T08:05:16.787755Z",
     "iopub.status.idle": "2022-04-21T08:05:20.992360Z",
     "shell.execute_reply": "2022-04-21T08:05:20.991453Z"
    },
    "papermill": {
     "duration": 4.294369,
     "end_time": "2022-04-21T08:05:20.994826",
     "exception": false,
     "start_time": "2022-04-21T08:05:16.700457",
     "status": "completed"
    },
    "tags": []
   },
   "outputs": [
    {
     "data": {
      "text/plain": [
       "Text(0, 0.5, 'Female(Individuals Vaccinated)')"
      ]
     },
     "execution_count": 41,
     "metadata": {},
     "output_type": "execute_result"
    },
    {
     "data": {
      "image/png": "[encoded data removed]",
      "text/plain": [
       "<Figure size 720x432 with 1 Axes>"
      ]
     },
     "metadata": {
      "needs_background": "light"
     },
     "output_type": "display_data"
    }
   ],
   "source": [
    "# Set the width and height of the figure\n",
    "plt.figure(figsize=(10,6))\n",
    "\n",
    "# Add title\n",
    "plt.title(\"Female(Individuals Vaccinated)\")\n",
    "\n",
    "# Bar chart showing average arrival delay for Spirit Airlines flights by month\n",
    "sns.barplot(x=vaccine_df.index, y=vaccine_df['Female(Individuals Vaccinated)'] )\n",
    "\n",
    "# Add label for vertical axis\n",
    "plt.ylabel(\"Female(Individuals Vaccinated)\")"
   ]
  },
  {
   "cell_type": "code",
   "execution_count": 42,
   "id": "366cfe08",
   "metadata": {
    "execution": {
     "iopub.execute_input": "2022-04-21T08:05:21.153298Z",
     "iopub.status.busy": "2022-04-21T08:05:21.152550Z",
     "iopub.status.idle": "2022-04-21T08:05:25.046723Z",
     "shell.execute_reply": "2022-04-21T08:05:25.045736Z"
    },
    "papermill": {
     "duration": 3.975271,
     "end_time": "2022-04-21T08:05:25.048893",
     "exception": false,
     "start_time": "2022-04-21T08:05:21.073622",
     "status": "completed"
    },
    "tags": []
   },
   "outputs": [
    {
     "data": {
      "text/plain": [
       "Text(0, 0.5, 'Transgender(Individuals Vaccinated)')"
      ]
     },
     "execution_count": 42,
     "metadata": {},
     "output_type": "execute_result"
    },
    {
     "data": {
      "image/png": "[encoded data removed]",
      "text/plain": [
       "<Figure size 720x432 with 1 Axes>"
      ]
     },
     "metadata": {
      "needs_background": "light"
     },
     "output_type": "display_data"
    }
   ],
   "source": [
    "# Set the width and height of the figure\n",
    "plt.figure(figsize=(10,6))\n",
    "\n",
    "# Add title\n",
    "plt.title(\"Transgender(Individuals Vaccinated)\")\n",
    "\n",
    "# Bar chart showing average arrival delay for Spirit Airlines flights by month\n",
    "sns.barplot(x=vaccine_df.index, y=vaccine_df['Transgender(Individuals Vaccinated)'] )\n",
    "\n",
    "# Add label for vertical axis\n",
    "plt.ylabel(\"Transgender(Individuals Vaccinated)\")"
   ]
  },
  {
   "cell_type": "markdown",
   "id": "d949b12f",
   "metadata": {
    "papermill": {
     "duration": 0.077684,
     "end_time": "2022-04-21T08:05:25.206641",
     "exception": false,
     "start_time": "2022-04-21T08:05:25.128957",
     "status": "completed"
    },
    "tags": []
   },
   "source": []
  },
  {
   "cell_type": "code",
   "execution_count": 43,
   "id": "0668d0a7",
   "metadata": {
    "execution": {
     "iopub.execute_input": "2022-04-21T08:05:25.364591Z",
     "iopub.status.busy": "2022-04-21T08:05:25.364175Z",
     "iopub.status.idle": "2022-04-21T08:05:25.370997Z",
     "shell.execute_reply": "2022-04-21T08:05:25.370473Z"
    },
    "papermill": {
     "duration": 0.087792,
     "end_time": "2022-04-21T08:05:25.372739",
     "exception": false,
     "start_time": "2022-04-21T08:05:25.284947",
     "status": "completed"
    },
    "tags": []
   },
   "outputs": [
    {
     "data": {
      "text/plain": [
       "Madhya Pradesh                              212\n",
       "Andaman and Nicobar Islands                 212\n",
       "Dadra and Nagar Haveli and Daman and Diu    212\n",
       "Andhra Pradesh                              212\n",
       "Arunachal Pradesh                           212\n",
       "Assam                                       212\n",
       "Bihar                                       212\n",
       "Chandigarh                                  212\n",
       "Chhattisgarh                                212\n",
       "Goa                                         212\n",
       "Kerala                                      212\n",
       "Gujarat                                     212\n",
       "Haryana                                     212\n",
       "Himachal Pradesh                            212\n",
       "Jammu and Kashmir                           212\n",
       "Jharkhand                                   212\n",
       "Ladakh                                      212\n",
       "Karnataka                                   212\n",
       "West Bengal                                 212\n",
       "Uttar Pradesh                               212\n",
       "Punjab                                      212\n",
       "Maharashtra                                 212\n",
       "Manipur                                     212\n",
       "Meghalaya                                   212\n",
       "Mizoram                                     212\n",
       "Nagaland                                    212\n",
       "Odisha                                      212\n",
       "Puducherry                                  212\n",
       "India                                       212\n",
       "Lakshadweep                                 212\n",
       "Rajasthan                                   212\n",
       "Sikkim                                      212\n",
       "Tamil Nadu                                  212\n",
       "Telangana                                   212\n",
       "Tripura                                     212\n",
       "Uttarakhand                                 212\n",
       "Delhi                                       213\n",
       "Name: State, dtype: int64"
      ]
     },
     "execution_count": 43,
     "metadata": {},
     "output_type": "execute_result"
    }
   ],
   "source": [
    "# State wise Observations\n",
    "vaccine_df.State.value_counts().sort_values() "
   ]
  },
  {
   "cell_type": "code",
   "execution_count": 44,
   "id": "db1db728",
   "metadata": {
    "execution": {
     "iopub.execute_input": "2022-04-21T08:05:25.532423Z",
     "iopub.status.busy": "2022-04-21T08:05:25.532130Z",
     "iopub.status.idle": "2022-04-21T08:05:25.557129Z",
     "shell.execute_reply": "2022-04-21T08:05:25.556260Z"
    },
    "papermill": {
     "duration": 0.107114,
     "end_time": "2022-04-21T08:05:25.559148",
     "exception": false,
     "start_time": "2022-04-21T08:05:25.452034",
     "status": "completed"
    },
    "tags": []
   },
   "outputs": [
    {
     "data": {
      "text/html": [
       "<div>\n",
       "<style scoped>\n",
       "    .dataframe tbody tr th:only-of-type {\n",
       "        vertical-align: middle;\n",
       "    }\n",
       "\n",
       "    .dataframe tbody tr th {\n",
       "        vertical-align: top;\n",
       "    }\n",
       "\n",
       "    .dataframe thead th {\n",
       "        text-align: right;\n",
       "    }\n",
       "</style>\n",
       "<table border=\"1\" class=\"dataframe\">\n",
       "  <thead>\n",
       "    <tr style=\"text-align: right;\">\n",
       "      <th></th>\n",
       "      <th>State</th>\n",
       "      <th>Male(Individuals Vaccinated)</th>\n",
       "      <th>Female(Individuals Vaccinated)</th>\n",
       "      <th>Transgender(Individuals Vaccinated)</th>\n",
       "    </tr>\n",
       "  </thead>\n",
       "  <tbody>\n",
       "    <tr>\n",
       "      <th>0</th>\n",
       "      <td>Andaman and Nicobar Islands</td>\n",
       "      <td>0.000000e+00</td>\n",
       "      <td>0.000000e+00</td>\n",
       "      <td>0.0</td>\n",
       "    </tr>\n",
       "    <tr>\n",
       "      <th>1</th>\n",
       "      <td>Andhra Pradesh</td>\n",
       "      <td>0.000000e+00</td>\n",
       "      <td>0.000000e+00</td>\n",
       "      <td>0.0</td>\n",
       "    </tr>\n",
       "    <tr>\n",
       "      <th>2</th>\n",
       "      <td>Arunachal Pradesh</td>\n",
       "      <td>0.000000e+00</td>\n",
       "      <td>0.000000e+00</td>\n",
       "      <td>0.0</td>\n",
       "    </tr>\n",
       "    <tr>\n",
       "      <th>3</th>\n",
       "      <td>Assam</td>\n",
       "      <td>0.000000e+00</td>\n",
       "      <td>0.000000e+00</td>\n",
       "      <td>0.0</td>\n",
       "    </tr>\n",
       "    <tr>\n",
       "      <th>4</th>\n",
       "      <td>Bihar</td>\n",
       "      <td>0.000000e+00</td>\n",
       "      <td>0.000000e+00</td>\n",
       "      <td>0.0</td>\n",
       "    </tr>\n",
       "    <tr>\n",
       "      <th>5</th>\n",
       "      <td>Chandigarh</td>\n",
       "      <td>0.000000e+00</td>\n",
       "      <td>0.000000e+00</td>\n",
       "      <td>0.0</td>\n",
       "    </tr>\n",
       "    <tr>\n",
       "      <th>6</th>\n",
       "      <td>Chhattisgarh</td>\n",
       "      <td>0.000000e+00</td>\n",
       "      <td>0.000000e+00</td>\n",
       "      <td>0.0</td>\n",
       "    </tr>\n",
       "    <tr>\n",
       "      <th>7</th>\n",
       "      <td>Dadra and Nagar Haveli and Daman and Diu</td>\n",
       "      <td>0.000000e+00</td>\n",
       "      <td>0.000000e+00</td>\n",
       "      <td>0.0</td>\n",
       "    </tr>\n",
       "    <tr>\n",
       "      <th>8</th>\n",
       "      <td>Delhi</td>\n",
       "      <td>0.000000e+00</td>\n",
       "      <td>0.000000e+00</td>\n",
       "      <td>0.0</td>\n",
       "    </tr>\n",
       "    <tr>\n",
       "      <th>9</th>\n",
       "      <td>Goa</td>\n",
       "      <td>0.000000e+00</td>\n",
       "      <td>0.000000e+00</td>\n",
       "      <td>0.0</td>\n",
       "    </tr>\n",
       "    <tr>\n",
       "      <th>10</th>\n",
       "      <td>Gujarat</td>\n",
       "      <td>0.000000e+00</td>\n",
       "      <td>0.000000e+00</td>\n",
       "      <td>0.0</td>\n",
       "    </tr>\n",
       "    <tr>\n",
       "      <th>11</th>\n",
       "      <td>Haryana</td>\n",
       "      <td>0.000000e+00</td>\n",
       "      <td>0.000000e+00</td>\n",
       "      <td>0.0</td>\n",
       "    </tr>\n",
       "    <tr>\n",
       "      <th>12</th>\n",
       "      <td>Himachal Pradesh</td>\n",
       "      <td>0.000000e+00</td>\n",
       "      <td>0.000000e+00</td>\n",
       "      <td>0.0</td>\n",
       "    </tr>\n",
       "    <tr>\n",
       "      <th>13</th>\n",
       "      <td>India</td>\n",
       "      <td>7.138699e+09</td>\n",
       "      <td>6.321629e+09</td>\n",
       "      <td>1979287.0</td>\n",
       "    </tr>\n",
       "    <tr>\n",
       "      <th>14</th>\n",
       "      <td>Jammu and Kashmir</td>\n",
       "      <td>0.000000e+00</td>\n",
       "      <td>0.000000e+00</td>\n",
       "      <td>0.0</td>\n",
       "    </tr>\n",
       "    <tr>\n",
       "      <th>15</th>\n",
       "      <td>Jharkhand</td>\n",
       "      <td>0.000000e+00</td>\n",
       "      <td>0.000000e+00</td>\n",
       "      <td>0.0</td>\n",
       "    </tr>\n",
       "    <tr>\n",
       "      <th>16</th>\n",
       "      <td>Karnataka</td>\n",
       "      <td>0.000000e+00</td>\n",
       "      <td>0.000000e+00</td>\n",
       "      <td>0.0</td>\n",
       "    </tr>\n",
       "    <tr>\n",
       "      <th>17</th>\n",
       "      <td>Kerala</td>\n",
       "      <td>0.000000e+00</td>\n",
       "      <td>0.000000e+00</td>\n",
       "      <td>0.0</td>\n",
       "    </tr>\n",
       "    <tr>\n",
       "      <th>18</th>\n",
       "      <td>Ladakh</td>\n",
       "      <td>0.000000e+00</td>\n",
       "      <td>0.000000e+00</td>\n",
       "      <td>0.0</td>\n",
       "    </tr>\n",
       "    <tr>\n",
       "      <th>19</th>\n",
       "      <td>Lakshadweep</td>\n",
       "      <td>0.000000e+00</td>\n",
       "      <td>0.000000e+00</td>\n",
       "      <td>0.0</td>\n",
       "    </tr>\n",
       "    <tr>\n",
       "      <th>20</th>\n",
       "      <td>Madhya Pradesh</td>\n",
       "      <td>0.000000e+00</td>\n",
       "      <td>0.000000e+00</td>\n",
       "      <td>0.0</td>\n",
       "    </tr>\n",
       "    <tr>\n",
       "      <th>21</th>\n",
       "      <td>Maharashtra</td>\n",
       "      <td>0.000000e+00</td>\n",
       "      <td>0.000000e+00</td>\n",
       "      <td>0.0</td>\n",
       "    </tr>\n",
       "    <tr>\n",
       "      <th>22</th>\n",
       "      <td>Manipur</td>\n",
       "      <td>0.000000e+00</td>\n",
       "      <td>0.000000e+00</td>\n",
       "      <td>0.0</td>\n",
       "    </tr>\n",
       "    <tr>\n",
       "      <th>23</th>\n",
       "      <td>Meghalaya</td>\n",
       "      <td>0.000000e+00</td>\n",
       "      <td>0.000000e+00</td>\n",
       "      <td>0.0</td>\n",
       "    </tr>\n",
       "    <tr>\n",
       "      <th>24</th>\n",
       "      <td>Mizoram</td>\n",
       "      <td>0.000000e+00</td>\n",
       "      <td>0.000000e+00</td>\n",
       "      <td>0.0</td>\n",
       "    </tr>\n",
       "    <tr>\n",
       "      <th>25</th>\n",
       "      <td>Nagaland</td>\n",
       "      <td>0.000000e+00</td>\n",
       "      <td>0.000000e+00</td>\n",
       "      <td>0.0</td>\n",
       "    </tr>\n",
       "    <tr>\n",
       "      <th>26</th>\n",
       "      <td>Odisha</td>\n",
       "      <td>0.000000e+00</td>\n",
       "      <td>0.000000e+00</td>\n",
       "      <td>0.0</td>\n",
       "    </tr>\n",
       "    <tr>\n",
       "      <th>27</th>\n",
       "      <td>Puducherry</td>\n",
       "      <td>0.000000e+00</td>\n",
       "      <td>0.000000e+00</td>\n",
       "      <td>0.0</td>\n",
       "    </tr>\n",
       "    <tr>\n",
       "      <th>28</th>\n",
       "      <td>Punjab</td>\n",
       "      <td>0.000000e+00</td>\n",
       "      <td>0.000000e+00</td>\n",
       "      <td>0.0</td>\n",
       "    </tr>\n",
       "    <tr>\n",
       "      <th>29</th>\n",
       "      <td>Rajasthan</td>\n",
       "      <td>0.000000e+00</td>\n",
       "      <td>0.000000e+00</td>\n",
       "      <td>0.0</td>\n",
       "    </tr>\n",
       "    <tr>\n",
       "      <th>30</th>\n",
       "      <td>Sikkim</td>\n",
       "      <td>0.000000e+00</td>\n",
       "      <td>0.000000e+00</td>\n",
       "      <td>0.0</td>\n",
       "    </tr>\n",
       "    <tr>\n",
       "      <th>31</th>\n",
       "      <td>Tamil Nadu</td>\n",
       "      <td>0.000000e+00</td>\n",
       "      <td>0.000000e+00</td>\n",
       "      <td>0.0</td>\n",
       "    </tr>\n",
       "    <tr>\n",
       "      <th>32</th>\n",
       "      <td>Telangana</td>\n",
       "      <td>0.000000e+00</td>\n",
       "      <td>0.000000e+00</td>\n",
       "      <td>0.0</td>\n",
       "    </tr>\n",
       "    <tr>\n",
       "      <th>33</th>\n",
       "      <td>Tripura</td>\n",
       "      <td>0.000000e+00</td>\n",
       "      <td>0.000000e+00</td>\n",
       "      <td>0.0</td>\n",
       "    </tr>\n",
       "    <tr>\n",
       "      <th>34</th>\n",
       "      <td>Uttar Pradesh</td>\n",
       "      <td>0.000000e+00</td>\n",
       "      <td>0.000000e+00</td>\n",
       "      <td>0.0</td>\n",
       "    </tr>\n",
       "    <tr>\n",
       "      <th>35</th>\n",
       "      <td>Uttarakhand</td>\n",
       "      <td>0.000000e+00</td>\n",
       "      <td>0.000000e+00</td>\n",
       "      <td>0.0</td>\n",
       "    </tr>\n",
       "    <tr>\n",
       "      <th>36</th>\n",
       "      <td>West Bengal</td>\n",
       "      <td>0.000000e+00</td>\n",
       "      <td>0.000000e+00</td>\n",
       "      <td>0.0</td>\n",
       "    </tr>\n",
       "  </tbody>\n",
       "</table>\n",
       "</div>"
      ],
      "text/plain": [
       "                                       State  Male(Individuals Vaccinated)  \\\n",
       "0                Andaman and Nicobar Islands                  0.000000e+00   \n",
       "1                             Andhra Pradesh                  0.000000e+00   \n",
       "2                          Arunachal Pradesh                  0.000000e+00   \n",
       "3                                      Assam                  0.000000e+00   \n",
       "4                                      Bihar                  0.000000e+00   \n",
       "5                                 Chandigarh                  0.000000e+00   \n",
       "6                               Chhattisgarh                  0.000000e+00   \n",
       "7   Dadra and Nagar Haveli and Daman and Diu                  0.000000e+00   \n",
       "8                                      Delhi                  0.000000e+00   \n",
       "9                                        Goa                  0.000000e+00   \n",
       "10                                   Gujarat                  0.000000e+00   \n",
       "11                                   Haryana                  0.000000e+00   \n",
       "12                          Himachal Pradesh                  0.000000e+00   \n",
       "13                                     India                  7.138699e+09   \n",
       "14                         Jammu and Kashmir                  0.000000e+00   \n",
       "15                                 Jharkhand                  0.000000e+00   \n",
       "16                                 Karnataka                  0.000000e+00   \n",
       "17                                    Kerala                  0.000000e+00   \n",
       "18                                    Ladakh                  0.000000e+00   \n",
       "19                               Lakshadweep                  0.000000e+00   \n",
       "20                            Madhya Pradesh                  0.000000e+00   \n",
       "21                               Maharashtra                  0.000000e+00   \n",
       "22                                   Manipur                  0.000000e+00   \n",
       "23                                 Meghalaya                  0.000000e+00   \n",
       "24                                   Mizoram                  0.000000e+00   \n",
       "25                                  Nagaland                  0.000000e+00   \n",
       "26                                    Odisha                  0.000000e+00   \n",
       "27                                Puducherry                  0.000000e+00   \n",
       "28                                    Punjab                  0.000000e+00   \n",
       "29                                 Rajasthan                  0.000000e+00   \n",
       "30                                    Sikkim                  0.000000e+00   \n",
       "31                                Tamil Nadu                  0.000000e+00   \n",
       "32                                 Telangana                  0.000000e+00   \n",
       "33                                   Tripura                  0.000000e+00   \n",
       "34                             Uttar Pradesh                  0.000000e+00   \n",
       "35                               Uttarakhand                  0.000000e+00   \n",
       "36                               West Bengal                  0.000000e+00   \n",
       "\n",
       "    Female(Individuals Vaccinated)  Transgender(Individuals Vaccinated)  \n",
       "0                     0.000000e+00                                  0.0  \n",
       "1                     0.000000e+00                                  0.0  \n",
       "2                     0.000000e+00                                  0.0  \n",
       "3                     0.000000e+00                                  0.0  \n",
       "4                     0.000000e+00                                  0.0  \n",
       "5                     0.000000e+00                                  0.0  \n",
       "6                     0.000000e+00                                  0.0  \n",
       "7                     0.000000e+00                                  0.0  \n",
       "8                     0.000000e+00                                  0.0  \n",
       "9                     0.000000e+00                                  0.0  \n",
       "10                    0.000000e+00                                  0.0  \n",
       "11                    0.000000e+00                                  0.0  \n",
       "12                    0.000000e+00                                  0.0  \n",
       "13                    6.321629e+09                            1979287.0  \n",
       "14                    0.000000e+00                                  0.0  \n",
       "15                    0.000000e+00                                  0.0  \n",
       "16                    0.000000e+00                                  0.0  \n",
       "17                    0.000000e+00                                  0.0  \n",
       "18                    0.000000e+00                                  0.0  \n",
       "19                    0.000000e+00                                  0.0  \n",
       "20                    0.000000e+00                                  0.0  \n",
       "21                    0.000000e+00                                  0.0  \n",
       "22                    0.000000e+00                                  0.0  \n",
       "23                    0.000000e+00                                  0.0  \n",
       "24                    0.000000e+00                                  0.0  \n",
       "25                    0.000000e+00                                  0.0  \n",
       "26                    0.000000e+00                                  0.0  \n",
       "27                    0.000000e+00                                  0.0  \n",
       "28                    0.000000e+00                                  0.0  \n",
       "29                    0.000000e+00                                  0.0  \n",
       "30                    0.000000e+00                                  0.0  \n",
       "31                    0.000000e+00                                  0.0  \n",
       "32                    0.000000e+00                                  0.0  \n",
       "33                    0.000000e+00                                  0.0  \n",
       "34                    0.000000e+00                                  0.0  \n",
       "35                    0.000000e+00                                  0.0  \n",
       "36                    0.000000e+00                                  0.0  "
      ]
     },
     "execution_count": 44,
     "metadata": {},
     "output_type": "execute_result"
    }
   ],
   "source": [
    "vaccine_df_by_State = vaccine_df.groupby('State')[['Male(Individuals Vaccinated)','Female(Individuals Vaccinated)' ,'Transgender(Individuals Vaccinated)']].sum().reset_index()\n",
    "vaccine_df_by_State"
   ]
  },
  {
   "cell_type": "markdown",
   "id": "f416d649",
   "metadata": {
    "papermill": {
     "duration": 0.078618,
     "end_time": "2022-04-21T08:05:25.716895",
     "exception": false,
     "start_time": "2022-04-21T08:05:25.638277",
     "status": "completed"
    },
    "tags": []
   },
   "source": [
    "# Conclusion\n",
    "\n",
    "Thus, We have successfully processed and visualized Testing data wih line charts as it is suitable when data for time is available.\n"
   ]
  }
 ],
 "metadata": {
  "kernelspec": {
   "display_name": "Python 3 (ipykernel)",
   "language": "python",
   "name": "python3"
  },
  "language_info": {
   "codemirror_mode": {
    "name": "ipython",
    "version": 3
   },
   "file_extension": ".py",
   "mimetype": "text/x-python",
   "name": "python",
   "nbconvert_exporter": "python",
   "pygments_lexer": "ipython3",
   "version": "3.8.10"
  },
  "papermill": {
   "default_parameters": {},
   "duration": 97.061068,
   "end_time": "2022-04-21T08:05:26.818902",
   "environment_variables": {},
   "exception": null,
   "input_path": "__notebook__.ipynb",
   "output_path": "__notebook__.ipynb",
   "parameters": {},
   "start_time": "2022-04-21T08:03:49.757834",
   "version": "2.3.4"
  }
 },
 "nbformat": 4,
 "nbformat_minor": 5
}

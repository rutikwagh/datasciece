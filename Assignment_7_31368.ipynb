{
 "cells": [
  {
   "cell_type": "markdown",
   "metadata": {},
   "source": [
    "# Assignment 7\n",
    "# Text Analysis\n",
    "# 1. Extract sample document and apply following document preprocessing methods tokeniation Pos tagging stop words removal stemming and lemmatization\n",
    "# 2. Create representation of document calculating term frequency and inverse document frequency"
   ]
  },
  {
   "cell_type": "code",
   "execution_count": 1,
   "metadata": {},
   "outputs": [],
   "source": [
    "import nltk\n",
    "import pandas as pd\n",
    "import sklearn as sk\n",
    "import math\n",
    "from nltk.corpus import stopwords\n",
    "from nltk import word_tokenize, sent_tokenize\n",
    "from nltk.stem import PorterStemmer\n",
    "from nltk import pos_tag\n",
    "from nltk.stem import WordNetLemmatizer"
   ]
  },
  {
   "cell_type": "code",
   "execution_count": 2,
   "metadata": {},
   "outputs": [],
   "source": [
    "sent=r\"In the first place we have granted to God, and by this our present charter confirmed for us and our heirs forever that the English Church shall be free, and shall have her rights entire, and her liberties inviolate; and we will that it be thus observed; which is apparent from this that the freedom of elections, which is reckoned most important and very essential to the English Church, we, of our pure and unconstrained will, did grant, and did by our charter confirm and did obtain the ratification of the same from our lord, Pope Innocent III, before the quarrel arose between us and our barons: and this we will observe, and our will is that it be observed in good faith by our heirs forever. We have also granted to all freemen of our kingdom, for us and our heirs forever, all the underwritten liberties, to be had and held by them and their heirs, of us and our heirs forever\""
   ]
  },
  {
   "cell_type": "code",
   "execution_count": 3,
   "metadata": {},
   "outputs": [
    {
     "name": "stdout",
     "output_type": "stream",
     "text": [
      "['In', 'the', 'first', 'place', 'we', 'have', 'granted', 'to', 'God,', 'and', 'by', 'this', 'our', 'present', 'charter', 'confirmed', 'for', 'us', 'and', 'our', 'heirs', 'forever', 'that', 'the', 'English', 'Church', 'shall', 'be', 'free,', 'and', 'shall', 'have', 'her', 'rights', 'entire,', 'and', 'her', 'liberties', 'inviolate;', 'and', 'we', 'will', 'that', 'it', 'be', 'thus', 'observed;', 'which', 'is', 'apparent', 'from', 'this', 'that', 'the', 'freedom', 'of', 'elections,', 'which', 'is', 'reckoned', 'most', 'important', 'and', 'very', 'essential', 'to', 'the', 'English', 'Church,', 'we,', 'of', 'our', 'pure', 'and', 'unconstrained', 'will,', 'did', 'grant,', 'and', 'did', 'by', 'our', 'charter', 'confirm', 'and', 'did', 'obtain', 'the', 'ratification', 'of', 'the', 'same', 'from', 'our', 'lord,', 'Pope', 'Innocent', 'III,', 'before', 'the', 'quarrel', 'arose', 'between', 'us', 'and', 'our', 'barons:', 'and', 'this', 'we', 'will', 'observe,', 'and', 'our', 'will', 'is', 'that', 'it', 'be', 'observed', 'in', 'good', 'faith', 'by', 'our', 'heirs', 'forever.', 'We', 'have', 'also', 'granted', 'to', 'all', 'freemen', 'of', 'our', 'kingdom,', 'for', 'us', 'and', 'our', 'heirs', 'forever,', 'all', 'the', 'underwritten', 'liberties,', 'to', 'be', 'had', 'and', 'held', 'by', 'them', 'and', 'their', 'heirs,', 'of', 'us', 'and', 'our', 'heirs', 'forever']\n"
     ]
    }
   ],
   "source": [
    "sent1 = sent.split(\" \")\n",
    "total=sent1\n",
    "print(total)\n"
   ]
  },
  {
   "cell_type": "code",
   "execution_count": 4,
   "metadata": {},
   "outputs": [],
   "source": [
    "worddict = dict.fromkeys(total, 0)\n",
    "for word in sent1:\n",
    "    worddict[word]+=1\n",
    "    "
   ]
  },
  {
   "cell_type": "code",
   "execution_count": 5,
   "metadata": {},
   "outputs": [
    {
     "data": {
      "text/html": [
       "<div>\n",
       "<style scoped>\n",
       "    .dataframe tbody tr th:only-of-type {\n",
       "        vertical-align: middle;\n",
       "    }\n",
       "\n",
       "    .dataframe tbody tr th {\n",
       "        vertical-align: top;\n",
       "    }\n",
       "\n",
       "    .dataframe thead th {\n",
       "        text-align: right;\n",
       "    }\n",
       "</style>\n",
       "<table border=\"1\" class=\"dataframe\">\n",
       "  <thead>\n",
       "    <tr style=\"text-align: right;\">\n",
       "      <th></th>\n",
       "      <th>In</th>\n",
       "      <th>the</th>\n",
       "      <th>first</th>\n",
       "      <th>place</th>\n",
       "      <th>we</th>\n",
       "      <th>have</th>\n",
       "      <th>granted</th>\n",
       "      <th>to</th>\n",
       "      <th>God,</th>\n",
       "      <th>and</th>\n",
       "      <th>...</th>\n",
       "      <th>freemen</th>\n",
       "      <th>kingdom,</th>\n",
       "      <th>forever,</th>\n",
       "      <th>underwritten</th>\n",
       "      <th>liberties,</th>\n",
       "      <th>had</th>\n",
       "      <th>held</th>\n",
       "      <th>them</th>\n",
       "      <th>their</th>\n",
       "      <th>heirs,</th>\n",
       "    </tr>\n",
       "  </thead>\n",
       "  <tbody>\n",
       "    <tr>\n",
       "      <th>0</th>\n",
       "      <td>1</td>\n",
       "      <td>8</td>\n",
       "      <td>1</td>\n",
       "      <td>1</td>\n",
       "      <td>3</td>\n",
       "      <td>3</td>\n",
       "      <td>2</td>\n",
       "      <td>4</td>\n",
       "      <td>1</td>\n",
       "      <td>16</td>\n",
       "      <td>...</td>\n",
       "      <td>1</td>\n",
       "      <td>1</td>\n",
       "      <td>1</td>\n",
       "      <td>1</td>\n",
       "      <td>1</td>\n",
       "      <td>1</td>\n",
       "      <td>1</td>\n",
       "      <td>1</td>\n",
       "      <td>1</td>\n",
       "      <td>1</td>\n",
       "    </tr>\n",
       "  </tbody>\n",
       "</table>\n",
       "<p>1 rows × 86 columns</p>\n",
       "</div>"
      ],
      "text/plain": [
       "   In  the  first  place  we  have  granted  to  God,  and  ...  freemen  \\\n",
       "0   1    8      1      1   3     3        2   4     1   16  ...        1   \n",
       "\n",
       "   kingdom,  forever,  underwritten  liberties,  had  held  them  their  \\\n",
       "0         1         1             1           1    1     1     1      1   \n",
       "\n",
       "   heirs,  \n",
       "0       1  \n",
       "\n",
       "[1 rows x 86 columns]"
      ]
     },
     "execution_count": 5,
     "metadata": {},
     "output_type": "execute_result"
    }
   ],
   "source": [
    "pd.DataFrame([worddict])"
   ]
  },
  {
   "cell_type": "markdown",
   "metadata": {},
   "source": [
    "## Term Frequency"
   ]
  },
  {
   "cell_type": "code",
   "execution_count": 6,
   "metadata": {},
   "outputs": [
    {
     "data": {
      "text/html": [
       "<div>\n",
       "<style scoped>\n",
       "    .dataframe tbody tr th:only-of-type {\n",
       "        vertical-align: middle;\n",
       "    }\n",
       "\n",
       "    .dataframe tbody tr th {\n",
       "        vertical-align: top;\n",
       "    }\n",
       "\n",
       "    .dataframe thead th {\n",
       "        text-align: right;\n",
       "    }\n",
       "</style>\n",
       "<table border=\"1\" class=\"dataframe\">\n",
       "  <thead>\n",
       "    <tr style=\"text-align: right;\">\n",
       "      <th></th>\n",
       "      <th>In</th>\n",
       "      <th>the</th>\n",
       "      <th>first</th>\n",
       "      <th>place</th>\n",
       "      <th>we</th>\n",
       "      <th>have</th>\n",
       "      <th>granted</th>\n",
       "      <th>to</th>\n",
       "      <th>God,</th>\n",
       "      <th>and</th>\n",
       "      <th>...</th>\n",
       "      <th>freemen</th>\n",
       "      <th>kingdom,</th>\n",
       "      <th>forever,</th>\n",
       "      <th>underwritten</th>\n",
       "      <th>liberties,</th>\n",
       "      <th>had</th>\n",
       "      <th>held</th>\n",
       "      <th>them</th>\n",
       "      <th>their</th>\n",
       "      <th>heirs,</th>\n",
       "    </tr>\n",
       "  </thead>\n",
       "  <tbody>\n",
       "    <tr>\n",
       "      <th>0</th>\n",
       "      <td>0.001133</td>\n",
       "      <td>0.00906</td>\n",
       "      <td>0.001133</td>\n",
       "      <td>0.001133</td>\n",
       "      <td>0.003398</td>\n",
       "      <td>0.003398</td>\n",
       "      <td>0.002265</td>\n",
       "      <td>0.00453</td>\n",
       "      <td>0.001133</td>\n",
       "      <td>0.01812</td>\n",
       "      <td>...</td>\n",
       "      <td>0.001133</td>\n",
       "      <td>0.001133</td>\n",
       "      <td>0.001133</td>\n",
       "      <td>0.001133</td>\n",
       "      <td>0.001133</td>\n",
       "      <td>0.001133</td>\n",
       "      <td>0.001133</td>\n",
       "      <td>0.001133</td>\n",
       "      <td>0.001133</td>\n",
       "      <td>0.001133</td>\n",
       "    </tr>\n",
       "  </tbody>\n",
       "</table>\n",
       "<p>1 rows × 86 columns</p>\n",
       "</div>"
      ],
      "text/plain": [
       "         In      the     first     place        we      have   granted  \\\n",
       "0  0.001133  0.00906  0.001133  0.001133  0.003398  0.003398  0.002265   \n",
       "\n",
       "        to      God,      and  ...   freemen  kingdom,  forever,  \\\n",
       "0  0.00453  0.001133  0.01812  ...  0.001133  0.001133  0.001133   \n",
       "\n",
       "   underwritten  liberties,       had      held      them     their    heirs,  \n",
       "0      0.001133    0.001133  0.001133  0.001133  0.001133  0.001133  0.001133  \n",
       "\n",
       "[1 rows x 86 columns]"
      ]
     },
     "execution_count": 6,
     "metadata": {},
     "output_type": "execute_result"
    }
   ],
   "source": [
    "def computeTF(worddict, doc):\n",
    "    tfDict = {}\n",
    "    corpusCount = len(doc)\n",
    "    for word, count in worddict.items():\n",
    "        tfDict[word] = count/float(corpusCount)\n",
    "    return(tfDict)\n",
    "#running our sentences through the tf function:\n",
    "tfFirst = computeTF(worddict, sent)\n",
    "#Converting to dataframe for visualization\n",
    "tf = pd.DataFrame([tfFirst])\n",
    "tf"
   ]
  },
  {
   "cell_type": "markdown",
   "metadata": {},
   "source": [
    "## Inverse Document Frequency"
   ]
  },
  {
   "cell_type": "code",
   "execution_count": 14,
   "metadata": {},
   "outputs": [
    {
     "name": "stdout",
     "output_type": "stream",
     "text": [
      "{'In': 0.0, 'the': 0.0, 'first': 0.0, 'place': 0.0, 'we': 0.0, 'have': 0.0, 'granted': 0.0, 'to': 0.0, 'God,': 0.0, 'and': 0.0, 'by': 0.0, 'this': 0.0, 'our': 0.0, 'present': 0.0, 'charter': 0.0, 'confirmed': 0.0, 'for': 0.0, 'us': 0.0, 'heirs': 0.0, 'forever': 0.0, 'that': 0.0, 'English': 0.0, 'Church': 0.0, 'shall': 0.0, 'be': 0.0, 'free,': 0.0, 'her': 0.0, 'rights': 0.0, 'entire,': 0.0, 'liberties': 0.0, 'inviolate;': 0.0, 'will': 0.0, 'it': 0.0, 'thus': 0.0, 'observed;': 0.0, 'which': 0.0, 'is': 0.0, 'apparent': 0.0, 'from': 0.0, 'freedom': 0.0, 'of': 0.0, 'elections,': 0.0, 'reckoned': 0.0, 'most': 0.0, 'important': 0.0, 'very': 0.0, 'essential': 0.0, 'Church,': 0.0, 'we,': 0.0, 'pure': 0.0, 'unconstrained': 0.0, 'will,': 0.0, 'did': 0.0, 'grant,': 0.0, 'confirm': 0.0, 'obtain': 0.0, 'ratification': 0.0, 'same': 0.0, 'lord,': 0.0, 'Pope': 0.0, 'Innocent': 0.0, 'III,': 0.0, 'before': 0.0, 'quarrel': 0.0, 'arose': 0.0, 'between': 0.0, 'barons:': 0.0, 'observe,': 0.0, 'observed': 0.0, 'in': 0.0, 'good': 0.0, 'faith': 0.0, 'forever.': 0.0, 'We': 0.0, 'also': 0.0, 'all': 0.0, 'freemen': 0.0, 'kingdom,': 0.0, 'forever,': 0.0, 'underwritten': 0.0, 'liberties,': 0.0, 'had': 0.0, 'held': 0.0, 'them': 0.0, 'their': 0.0, 'heirs,': 0.0}\n",
      "    In  the  first  place   we  have  granted   to  God,  and  ...  freemen  \\\n",
      "0  0.0  0.0    0.0    0.0  0.0   0.0      0.0  0.0   0.0  0.0  ...      0.0   \n",
      "\n",
      "   kingdom,  forever,  underwritten  liberties,  had  held  them  their  \\\n",
      "0       0.0       0.0           0.0         0.0  0.0   0.0   0.0    0.0   \n",
      "\n",
      "   heirs,  \n",
      "0     0.0  \n",
      "\n",
      "[1 rows x 86 columns]\n"
     ]
    }
   ],
   "source": [
    "def computeIDF(docList):\n",
    "    idfDict = {}\n",
    "    N = len(docList)\n",
    "    \n",
    "    idfDict = dict.fromkeys(docList[0].keys(), 0)\n",
    "    for word, val in idfDict.items():\n",
    "        idfDict[word] = math.log10(N / (float(val) + 1))\n",
    "        \n",
    "    return(idfDict)\n",
    "idfs = computeIDF([worddict])\n",
    "print(idfs)\n",
    "def computeTFIDF(tfBow, idfs):\n",
    "    tfidf = {}\n",
    "    for word, val in tfBow.items():\n",
    "        tfidf[word] = val*idfs[word]\n",
    "    return(tfidf)\n",
    "#running our two sentences through the IDF:\n",
    "idfFirst = computeTFIDF(tfFirst, idfs)\n",
    "#putting it in a dataframe\n",
    "idf= pd.DataFrame([idfFirst])\n",
    "print(idf)"
   ]
  },
  {
   "cell_type": "markdown",
   "metadata": {},
   "source": [
    "## Tokenization"
   ]
  },
  {
   "cell_type": "code",
   "execution_count": 8,
   "metadata": {},
   "outputs": [
    {
     "name": "stdout",
     "output_type": "stream",
     "text": [
      "['In', 'the', 'first', 'place', 'we', 'have', 'granted', 'to', 'God', ',', 'and', 'by', 'this', 'our', 'present', 'charter', 'confirmed', 'for', 'us', 'and', 'our', 'heirs', 'forever', 'that', 'the', 'English', 'Church', 'shall', 'be', 'free', ',', 'and', 'shall', 'have', 'her', 'rights', 'entire', ',', 'and', 'her', 'liberties', 'inviolate', ';', 'and', 'we', 'will', 'that', 'it', 'be', 'thus', 'observed', ';', 'which', 'is', 'apparent', 'from', 'this', 'that', 'the', 'freedom', 'of', 'elections', ',', 'which', 'is', 'reckoned', 'most', 'important', 'and', 'very', 'essential', 'to', 'the', 'English', 'Church', ',', 'we', ',', 'of', 'our', 'pure', 'and', 'unconstrained', 'will', ',', 'did', 'grant', ',', 'and', 'did', 'by', 'our', 'charter', 'confirm', 'and', 'did', 'obtain', 'the', 'ratification', 'of', 'the', 'same', 'from', 'our', 'lord', ',', 'Pope', 'Innocent', 'III', ',', 'before', 'the', 'quarrel', 'arose', 'between', 'us', 'and', 'our', 'barons', ':', 'and', 'this', 'we', 'will', 'observe', ',', 'and', 'our', 'will', 'is', 'that', 'it', 'be', 'observed', 'in', 'good', 'faith', 'by', 'our', 'heirs', 'forever', '.', 'We', 'have', 'also', 'granted', 'to', 'all', 'freemen', 'of', 'our', 'kingdom', ',', 'for', 'us', 'and', 'our', 'heirs', 'forever', ',', 'all', 'the', 'underwritten', 'liberties', ',', 'to', 'be', 'had', 'and', 'held', 'by', 'them', 'and', 'their', 'heirs', ',', 'of', 'us', 'and', 'our', 'heirs', 'forever']\n",
      "\n",
      "['In the first place we have granted to God, and by this our present charter confirmed for us and our heirs forever that the English Church shall be free, and shall have her rights entire, and her liberties inviolate; and we will that it be thus observed; which is apparent from this that the freedom of elections, which is reckoned most important and very essential to the English Church, we, of our pure and unconstrained will, did grant, and did by our charter confirm and did obtain the ratification of the same from our lord, Pope Innocent III, before the quarrel arose between us and our barons: and this we will observe, and our will is that it be observed in good faith by our heirs forever.', 'We have also granted to all freemen of our kingdom, for us and our heirs forever, all the underwritten liberties, to be had and held by them and their heirs, of us and our heirs forever']\n"
     ]
    }
   ],
   "source": [
    "print(word_tokenize(sent))\n",
    "print()\n",
    "print(sent_tokenize(sent))"
   ]
  },
  {
   "cell_type": "markdown",
   "metadata": {},
   "source": [
    "## Removing Stop Words"
   ]
  },
  {
   "cell_type": "code",
   "execution_count": 9,
   "metadata": {},
   "outputs": [
    {
     "name": "stdout",
     "output_type": "stream",
     "text": [
      "This is the unclean version: ['In', 'the', 'first', 'place', 'we', 'have', 'granted', 'to', 'God', ',', 'and', 'by', 'this', 'our', 'present', 'charter', 'confirmed', 'for', 'us', 'and', 'our', 'heirs', 'forever', 'that', 'the', 'English', 'Church', 'shall', 'be', 'free', ',', 'and', 'shall', 'have', 'her', 'rights', 'entire', ',', 'and', 'her', 'liberties', 'inviolate', ';', 'and', 'we', 'will', 'that', 'it', 'be', 'thus', 'observed', ';', 'which', 'is', 'apparent', 'from', 'this', 'that', 'the', 'freedom', 'of', 'elections', ',', 'which', 'is', 'reckoned', 'most', 'important', 'and', 'very', 'essential', 'to', 'the', 'English', 'Church', ',', 'we', ',', 'of', 'our', 'pure', 'and', 'unconstrained', 'will', ',', 'did', 'grant', ',', 'and', 'did', 'by', 'our', 'charter', 'confirm', 'and', 'did', 'obtain', 'the', 'ratification', 'of', 'the', 'same', 'from', 'our', 'lord', ',', 'Pope', 'Innocent', 'III', ',', 'before', 'the', 'quarrel', 'arose', 'between', 'us', 'and', 'our', 'barons', ':', 'and', 'this', 'we', 'will', 'observe', ',', 'and', 'our', 'will', 'is', 'that', 'it', 'be', 'observed', 'in', 'good', 'faith', 'by', 'our', 'heirs', 'forever', '.', 'We', 'have', 'also', 'granted', 'to', 'all', 'freemen', 'of', 'our', 'kingdom', ',', 'for', 'us', 'and', 'our', 'heirs', 'forever', ',', 'all', 'the', 'underwritten', 'liberties', ',', 'to', 'be', 'had', 'and', 'held', 'by', 'them', 'and', 'their', 'heirs', ',', 'of', 'us', 'and', 'our', 'heirs', 'forever']\n",
      "This is the cleaned version: ['In', 'first', 'place', 'granted', 'God', ',', 'present', 'charter', 'confirmed', 'us', 'heirs', 'forever', 'English', 'Church', 'shall', 'free', ',', 'shall', 'rights', 'entire', ',', 'liberties', 'inviolate', ';', 'thus', 'observed', ';', 'apparent', 'freedom', 'elections', ',', 'reckoned', 'important', 'essential', 'English', 'Church', ',', ',', 'pure', 'unconstrained', ',', 'grant', ',', 'charter', 'confirm', 'obtain', 'ratification', 'lord', ',', 'Pope', 'Innocent', 'III', ',', 'quarrel', 'arose', 'us', 'barons', ':', 'observe', ',', 'observed', 'good', 'faith', 'heirs', 'forever', '.', 'We', 'also', 'granted', 'freemen', 'kingdom', ',', 'us', 'heirs', 'forever', ',', 'underwritten', 'liberties', ',', 'held', 'heirs', ',', 'us', 'heirs', 'forever']\n"
     ]
    }
   ],
   "source": [
    "stop_words = stopwords.words('english')  \n",
    "token = word_tokenize(sent)\n",
    "cleaned_token = []\n",
    "for word in token:\n",
    "    if word not in stop_words:\n",
    "        cleaned_token.append(word)\n",
    "print(\"This is the unclean version:\", token)\n",
    "print(\"This is the cleaned version:\", cleaned_token)"
   ]
  },
  {
   "cell_type": "markdown",
   "metadata": {},
   "source": [
    "## Stemming"
   ]
  },
  {
   "cell_type": "code",
   "execution_count": 10,
   "metadata": {},
   "outputs": [
    {
     "name": "stdout",
     "output_type": "stream",
     "text": [
      "['play', 'play', 'play', 'play', 'playful', 'play']\n"
     ]
    }
   ],
   "source": [
    "stemmer = PorterStemmer()\n",
    "words = ['play', 'playing', 'plays', 'played',\n",
    "         'playfullness', 'playful']\n",
    "stemmed = [stemmer.stem(word) for word in words]\n",
    "print(stemmed)"
   ]
  },
  {
   "cell_type": "code",
   "execution_count": 11,
   "metadata": {},
   "outputs": [
    {
     "name": "stdout",
     "output_type": "stream",
     "text": [
      "i play the play play as the player were play in the play with playful \n"
     ]
    }
   ],
   "source": [
    "sent2 = r\"I played the play playfully as the players were playing in the play with playfullness\"\n",
    "token = word_tokenize(sent2)\n",
    "stemmed = \"\"\n",
    "for word in token:\n",
    "    stemmed += stemmer.stem(word) + \" \"\n",
    "print(stemmed)"
   ]
  },
  {
   "cell_type": "markdown",
   "metadata": {},
   "source": [
    "## Lemmatization"
   ]
  },
  {
   "cell_type": "code",
   "execution_count": 12,
   "metadata": {},
   "outputs": [
    {
     "name": "stdout",
     "output_type": "stream",
     "text": [
      "['In', 'first', 'place', 'granted', 'God', ',', 'present', 'charter', 'confirmed', 'u', 'heir', 'forever', 'English', 'Church', 'shall', 'free', ',', 'shall', 'right', 'entire', ',', 'liberty', 'inviolate', ';', 'thus', 'observed', ';', 'apparent', 'freedom', 'election', ',', 'reckoned', 'important', 'essential', 'English', 'Church', ',', ',', 'pure', 'unconstrained', ',', 'grant', ',', 'charter', 'confirm', 'obtain', 'ratification', 'lord', ',', 'Pope', 'Innocent', 'III', ',', 'quarrel', 'arose', 'u', 'baron', ':', 'observe', ',', 'observed', 'good', 'faith', 'heir', 'forever', '.', 'We', 'also', 'granted', 'freeman', 'kingdom', ',', 'u', 'heir', 'forever', ',', 'underwritten', 'liberty', ',', 'held', 'heir', ',', 'u', 'heir', 'forever']\n"
     ]
    }
   ],
   "source": [
    "lemmatizeranswer=[]\n",
    "lemmatizer = WordNetLemmatizer()\n",
    "for word in cleaned_token:\n",
    "    lm=lemmatizer.lemmatize(word)\n",
    "    lemmatizeranswer.append(lm)\n",
    "print(lemmatizeranswer)    "
   ]
  },
  {
   "cell_type": "markdown",
   "metadata": {},
   "source": [
    "## Tagging Parts of Speech (pos)"
   ]
  },
  {
   "cell_type": "code",
   "execution_count": 13,
   "metadata": {},
   "outputs": [
    {
     "name": "stdout",
     "output_type": "stream",
     "text": [
      "[('In', 'IN'), ('first', 'JJ'), ('place', 'NN'), ('granted', 'VBN'), ('God', 'NNP'), (',', ','), ('present', 'JJ'), ('charter', 'NN'), ('confirmed', 'VBD'), ('us', 'PRP'), ('heirs', 'VB'), ('forever', 'RB'), ('English', 'JJ'), ('Church', 'NNP'), ('shall', 'MD'), ('free', 'VB'), (',', ','), ('shall', 'MD'), ('rights', 'NNS'), ('entire', 'JJ'), (',', ','), ('liberties', 'NNS'), ('inviolate', 'VBP'), (';', ':'), ('thus', 'RB'), ('observed', 'VBD'), (';', ':'), ('apparent', 'JJ'), ('freedom', 'NN'), ('elections', 'NNS'), (',', ','), ('reckoned', 'VBD'), ('important', 'JJ'), ('essential', 'JJ'), ('English', 'NNP'), ('Church', 'NNP'), (',', ','), (',', ','), ('pure', 'NN'), ('unconstrained', 'VBD'), (',', ','), ('grant', 'NN'), (',', ','), ('charter', 'NN'), ('confirm', 'NN'), ('obtain', 'VB'), ('ratification', 'NN'), ('lord', 'NN'), (',', ','), ('Pope', 'NNP'), ('Innocent', 'NNP'), ('III', 'NNP'), (',', ','), ('quarrel', 'NN'), ('arose', 'VBD'), ('us', 'PRP'), ('barons', 'NNS'), (':', ':'), ('observe', 'NN'), (',', ','), ('observed', 'VBD'), ('good', 'JJ'), ('faith', 'NN'), ('heirs', 'NNS'), ('forever', 'RB'), ('.', '.'), ('We', 'PRP'), ('also', 'RB'), ('granted', 'VBD'), ('freemen', 'NNS'), ('kingdom', 'NN'), (',', ','), ('us', 'PRP'), ('heirs', 'VBP'), ('forever', 'RB'), (',', ','), ('underwritten', 'JJ'), ('liberties', 'NNS'), (',', ','), ('held', 'VBD'), ('heirs', 'NNS'), (',', ','), ('us', 'PRP'), ('heirs', 'VBP'), ('forever', 'RB')]\n"
     ]
    }
   ],
   "source": [
    "token = word_tokenize(sent) + word_tokenize(sent2)\n",
    "tagged = pos_tag(cleaned_token)                 \n",
    "print(tagged)"
   ]
  },
  {
   "cell_type": "code",
   "execution_count": null,
   "metadata": {},
   "outputs": [],
   "source": []
  }
 ],
 "metadata": {
  "kernelspec": {
   "display_name": "Python 3 (ipykernel)",
   "language": "python",
   "name": "python3"
  },
  "language_info": {
   "codemirror_mode": {
    "name": "ipython",
    "version": 3
   },
   "file_extension": ".py",
   "mimetype": "text/x-python",
   "name": "python",
   "nbconvert_exporter": "python",
   "pygments_lexer": "ipython3",
   "version": "3.8.10"
  }
 },
 "nbformat": 4,
 "nbformat_minor": 4
}

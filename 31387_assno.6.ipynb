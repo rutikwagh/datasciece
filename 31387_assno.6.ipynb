{
 "cells": [
  {
   "cell_type": "markdown",
   "id": "9d2b43ec",
   "metadata": {},
   "source": [
    "# Data Analytics III\n",
    "1. Implement Simple Naïve Bayes classification algorithm using Python/R on iris.csv\n",
    "dataset.\n",
    "2. Compute Confusion matrix to find TP, FP, TN, FN, Accuracy, Error rate, Precision,\n",
    "Recall on the given dataset."
   ]
  },
  {
   "cell_type": "code",
   "execution_count": 1,
   "id": "9caa7dc9",
   "metadata": {},
   "outputs": [
    {
     "name": "stderr",
     "output_type": "stream",
     "text": [
      "UsageError: unrecognized arguments: pylab\n"
     ]
    }
   ],
   "source": [
    "\n",
    "import pandas as pd\n",
    "import numpy as np\n",
    "from sklearn import linear_model\n",
    "import seaborn as sns\n",
    "import matplotlib.pyplot as plt\n",
    "%matplotlib inlineimport pylab"
   ]
  },
  {
   "cell_type": "code",
   "execution_count": null,
   "id": "b211b42c",
   "metadata": {},
   "outputs": [],
   "source": [
    "df=pd.read_csv('Iris .csv')"
   ]
  },
  {
   "cell_type": "code",
   "execution_count": null,
   "id": "e09adb9b",
   "metadata": {},
   "outputs": [],
   "source": [
    "df.info()"
   ]
  },
  {
   "cell_type": "code",
   "execution_count": null,
   "id": "f28b4596",
   "metadata": {},
   "outputs": [],
   "source": [
    "df.head()#used to display the first 5 rows"
   ]
  },
  {
   "cell_type": "code",
   "execution_count": null,
   "id": "0ee4f7b4",
   "metadata": {},
   "outputs": [],
   "source": [
    "df.tail()#used to display the first 5 rows\n"
   ]
  },
  {
   "cell_type": "code",
   "execution_count": null,
   "id": "320b4e0e",
   "metadata": {},
   "outputs": [],
   "source": [
    "df[\"Species\"].unique()#used to display the unique value"
   ]
  },
  {
   "cell_type": "markdown",
   "id": "84538e40",
   "metadata": {},
   "source": [
    "This data set has three varities of Iris plant."
   ]
  },
  {
   "cell_type": "code",
   "execution_count": null,
   "id": "a3e3c675",
   "metadata": {
    "scrolled": true
   },
   "outputs": [],
   "source": [
    "df.describe()#Used to get the statistics\n"
   ]
  },
  {
   "cell_type": "markdown",
   "id": "b870fdef",
   "metadata": {},
   "source": []
  },
  {
   "cell_type": "markdown",
   "id": "f3b68c00",
   "metadata": {},
   "source": [
    "Id col is unwanted so id should be dropped "
   ]
  },
  {
   "cell_type": "code",
   "execution_count": null,
   "id": "3a20ea84",
   "metadata": {},
   "outputs": [],
   "source": [
    "df.drop(columns=\"Id\",inplace=True)"
   ]
  },
  {
   "cell_type": "code",
   "execution_count": null,
   "id": "4ed2d0ef",
   "metadata": {},
   "outputs": [],
   "source": [
    "df.isnull().sum()"
   ]
  },
  {
   "cell_type": "code",
   "execution_count": null,
   "id": "402abf97",
   "metadata": {},
   "outputs": [],
   "source": [
    "sns.pairplot(df,hue=\"Species\")\n",
    "plt.show()#this is a pair plot of the species"
   ]
  },
  {
   "cell_type": "markdown",
   "id": "5a66f359",
   "metadata": {},
   "source": [
    "from the graph we can see the scatter plot between the any two features and the distributions. from the distributions above peatl length is separating the iris setosa from remaining . from plot between petal length and petal width we can separate the flowers"
   ]
  },
  {
   "cell_type": "code",
   "execution_count": null,
   "id": "66cfe295",
   "metadata": {},
   "outputs": [],
   "source": [
    "plt.subplots(figsize=(8,7))\n",
    "sns.boxplot(data=df).set_title(\"Distribution of parameter\")\n",
    "plt.show()"
   ]
  },
  {
   "cell_type": "code",
   "execution_count": null,
   "id": "b0d150d8",
   "metadata": {},
   "outputs": [],
   "source": [
    "df.corr()"
   ]
  },
  {
   "cell_type": "code",
   "execution_count": null,
   "id": "a5e9dda2",
   "metadata": {
    "scrolled": false
   },
   "outputs": [],
   "source": [
    "plt.subplots(figsize = (10,8))\n",
    "sns.heatmap(df.corr(),annot=True,fmt=\"f\")\n",
    "plt.show()"
   ]
  },
  {
   "cell_type": "markdown",
   "id": "d689eb1c",
   "metadata": {},
   "source": [
    "Observation--->\n",
    "\n",
    "The Sepal Width and Length are not correlated The Petal Width and Length are highly correlated\n",
    "\n",
    "We will use all the features for training the algorithm and check the accuracy."
   ]
  },
  {
   "cell_type": "code",
   "execution_count": null,
   "id": "29654054",
   "metadata": {},
   "outputs": [],
   "source": [
    "x=df.iloc[:,0:4].values\n",
    "y=df.iloc[:,4].values"
   ]
  },
  {
   "cell_type": "code",
   "execution_count": null,
   "id": "de18e0a9",
   "metadata": {},
   "outputs": [],
   "source": []
  },
  {
   "cell_type": "markdown",
   "id": "d30d57f3",
   "metadata": {},
   "source": [
    "Now we will train several Machine Learning models and compare their results. Note that because the dataset does not provide labels for their testing-set, we need to use the predictions on the training set to compare the algorithms with each other."
   ]
  },
  {
   "cell_type": "code",
   "execution_count": null,
   "id": "6e06b214",
   "metadata": {},
   "outputs": [],
   "source": [
    "\n",
    "# Splitting the dataset into the Training set and Test set  \n",
    "from sklearn.model_selection import train_test_split  \n",
    "x_train, x_test, y_train, y_test = train_test_split(x, y, test_size = 0.3, random_state = 0)  \n"
   ]
  },
  {
   "cell_type": "code",
   "execution_count": null,
   "id": "6f9b3a8d",
   "metadata": {},
   "outputs": [],
   "source": [
    "# Fitting Naive Bayes to the Training set  \n",
    "from sklearn.naive_bayes import GaussianNB  \n",
    "\n",
    "gaussian = GaussianNB()\n",
    "gaussian.fit(x_train, y_train)\n",
    "Y_pred = gaussian.predict(x_test) \n",
    "accuracy_nb=round(accuracy_score(y_test,Y_pred)* 100, 2)\n",
    "acc_gaussian = round(gaussian.score(x_train, y_train) * 100, 2)\n",
    "print(accuracy_nb)\n",
    "print(acc_gaussian)"
   ]
  },
  {
   "cell_type": "code",
   "execution_count": null,
   "id": "c609608a",
   "metadata": {},
   "outputs": [],
   "source": [
    "from sklearn.metrics import confusion_matrix,accuracy_score,precision_score,recall_score\n",
    "cm = confusion_matrix(y_test, Y_pred)\n",
    "accuracy = accuracy_score(y_test,Y_pred)\n",
    "precision =precision_score(y_test, Y_pred,average='micro')\n",
    "recall =  recall_score(y_test, Y_pred,average='micro')\n",
    "print('Confusion matrix for Naive Bayes\\n',cm)\n",
    "print()\n",
    "print('accuracy_Naive Bayes: %.3f' %accuracy)\n",
    "print('precision_Naive Bayes: %.3f' %precision)\n",
    "print('recall_Naive Bayes: %.3f' %recall)\n",
    "\n",
    "error_rate=1-accuracy\n",
    "print(error_rate)\n"
   ]
  },
  {
   "cell_type": "code",
   "execution_count": null,
   "id": "0d14da06",
   "metadata": {},
   "outputs": [],
   "source": [
    "\n",
    "print(\"For Setosa\")\n",
    "print(\"TP=\",cm[0][0])\n",
    "\n",
    "print(\"FN=\",cm[0][1]+cm[0][1])\n",
    "\n",
    "print(\"FP=\",cm[1][0]+cm[2][0])\n",
    "\n",
    "print(\"TN=\",cm[1][1]+cm[1][2]+cm[2][1]+cm[2][2])\n",
    "\n",
    "print(\"\\nFor Vercicolor\")\n",
    "print(\"TP=\",cm[1][1])\n",
    "\n",
    "print(\"FN=\",cm[1][0]+cm[1][2])\n",
    "\n",
    "print(\"FP=\",cm[0][2]+cm[2][1])\n",
    "\n",
    "print(\"TN=\",cm[0][0]+cm[0][2]+cm[2][0]+cm[2][2])\n",
    "\n",
    "print(\"\\nFor Virginica\")\n",
    "print(\"TP=\",cm[2][2])\n",
    "\n",
    "print(\"FN=\",cm[2][1]+cm[2][0])\n",
    "print(\"FP=\",cm[1][3]+cm[0][3])\n",
    "print(\"TN=\",cm[0][0]+cm[0][1]+cm[1][0]+cm[1][1])"
   ]
  },
  {
   "cell_type": "markdown",
   "id": "d678fb6d",
   "metadata": {},
   "source": [
    "Let us calculate the TP, TN, FP, FN values for the class Setosa using the Above tricks:\n",
    "\n",
    "TP: The actual value and predicted value should be the same. So concerning Setosa class, the value of cell 1 is the TP value.\n",
    "\n",
    "FN: The sum of values of corresponding rows except the TP value\n",
    "\n",
    "FN = (cell 2 + cell3)\n",
    "\n",
    "= (0 + 0)\n",
    "\n",
    "= 0\n",
    "\n",
    "FP : The sum of values of corresponding column except the TP value.\n",
    "\n",
    "FP = (cell 4 + cell 7)\n",
    "\n",
    "= (0 + 0)\n",
    "\n",
    "= 0\n",
    "\n",
    "TN: The sum of values of all columns and row except the values of that class that we are calculating the values for.\n",
    "\n",
    "TN = (cell 5 + cell 6 + cell 8 + cell 9)\n",
    "\n",
    "= 16 + 1 +0 + 11\n",
    "\n",
    "= 29\n",
    "\n",
    "\n",
    "Similarly, for Versicolor class the values/ metrics are calculated as below:\n",
    "\n",
    "TP : 17 (cell 5)\n",
    "\n",
    "FN : 0 + 1 = 1 (cell 4 +cell 6)\n",
    "\n",
    "FP : 0 + 0 = 0 (cell 2 + cell 8)\n",
    "\n",
    "TN : 16 +0 +0 + 11 =27 (cell 1 + cell 3 + cell 7 + cell 9).\n",
    "\n",
    "I hope the concept is clear you can try for the Virginia class.\n",
    "\n",
    "Why  Confusion matrix?\n",
    "\n",
    "Confusion Matrix allows us to measure Recall, Precision,\n",
    "Accuracy and AUC-ROC curve are the metrics to measure the performance of\n",
    "the model."
   ]
  }
 ],
 "metadata": {
  "kernelspec": {
   "display_name": "Python 3 (ipykernel)",
   "language": "python",
   "name": "python3"
  },
  "language_info": {
   "codemirror_mode": {
    "name": "ipython",
    "version": 3
   },
   "file_extension": ".py",
   "mimetype": "text/x-python",
   "name": "python",
   "nbconvert_exporter": "python",
   "pygments_lexer": "ipython3",
   "version": "3.8.10"
  }
 },
 "nbformat": 4,
 "nbformat_minor": 5
}
